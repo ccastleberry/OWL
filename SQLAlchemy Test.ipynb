{
  "cells": [
    {
      "cell_type": "markdown",
      "source": [
        "# Test SQLAlchemy Notebook\n",
        "This notebook is to test the use of sqlalchemy to set up and update the tables in our OWL database before doing anything live on the db."
      ],
      "metadata": {}
    },
    {
      "cell_type": "markdown",
      "source": [
        "## Set up tables\n",
        "### Imports"
      ],
      "metadata": {}
    },
    {
      "cell_type": "code",
      "source": [
        "from sqlalchemy import Column, String, Integer, ForeignKey\n",
        "from sqlalchemy.orm import relationship, backref\n",
        "from sqlalchemy.ext.declarative import declarative_base"
      ],
      "outputs": [],
      "execution_count": 7,
      "metadata": {
        "collapsed": true
      }
    },
    {
      "cell_type": "code",
      "source": [
        "Base = declarative_base()"
      ],
      "outputs": [],
      "execution_count": 8,
      "metadata": {
        "collapsed": true
      }
    },
    {
      "cell_type": "markdown",
      "source": [
        "### Table Definitions"
      ],
      "metadata": {}
    },
    {
      "cell_type": "code",
      "source": [
        "class Team(Base):\n",
        "    __tablename__ = 'team'\n",
        "    id = Column(Integer, primary_key=True)\n",
        "    name = Column(String)\n",
        "    abbr = Column(String)\n",
        "    \n",
        "    def __repr__(self):\n",
        "        return \"<Team (name={}, abbr={})>\".format(self.name, self.abbr)"
      ],
      "outputs": [],
      "execution_count": 9,
      "metadata": {}
    },
    {
      "cell_type": "code",
      "source": [
        "class Player(Base):\n",
        "    __tablename__ = 'player'\n",
        "    id = Column(Integer, primary_key=True)\n",
        "    tag = Column(String)\n",
        "    first_name = Column(String)\n",
        "    last_name = Column(String)\n",
        "    team_id = Column(Integer, ForeignKey('team.id'))\n",
        "    team = relationship(Team, backref=backref('players', \n",
        "                                              uselist=True))\n",
        "    \n",
        "    def __repr__(self):\n",
        "        return \"<Player (tag={})>\".format(self.tag)"
      ],
      "outputs": [],
      "execution_count": 10,
      "metadata": {
        "collapsed": true
      }
    },
    {
      "cell_type": "code",
      "source": [
        "class Match_Results(Base):\n",
        "    __tablename__ = 'match_results'\n",
        "    id = Column(Integer, primary_key=True)\n",
        "    wl_match_id = (Integer)\n",
        "    date = Column(String)\n",
        "    team_a_id = Column(String, ForeignKey('team.id'))\n",
        "    team_a = relationship(Team, \n",
        "                          backref=backref('match_results_a',\n",
        "                                          uselist=True),\n",
        "                         foreign_keys=[team_a_id])\n",
        "    team_b_id = Column(String, ForeignKey('team.id'))\n",
        "    team_b = relationship(Team, \n",
        "                          backref=backref('match_results_b',\n",
        "                                          uselist=True),\n",
        "                         foreign_keys=[team_b_id])\n",
        "    a_score = Column(Integer)\n",
        "    b_score = Column(Integer)\n",
        "    a_fights = Column(Integer)\n",
        "    b_fights = Column(Integer)\n",
        "    a_kills = Column(Integer)\n",
        "    b_kills = Column(Integer)\n",
        "    a_win = Column(Integer)\n",
        "    \n",
        "    "
      ],
      "outputs": [],
      "execution_count": 11,
      "metadata": {
        "collapsed": false,
        "outputHidden": false,
        "inputHidden": false
      }
    },
    {
      "cell_type": "markdown",
      "source": [
        "### Create Session and Tables"
      ],
      "metadata": {}
    },
    {
      "cell_type": "code",
      "source": [
        "from sqlalchemy import create_engine"
      ],
      "outputs": [],
      "execution_count": 12,
      "metadata": {
        "collapsed": true
      }
    },
    {
      "cell_type": "code",
      "source": [
        "engine = create_engine('sqlite:///')"
      ],
      "outputs": [],
      "execution_count": 13,
      "metadata": {
        "collapsed": true
      }
    },
    {
      "cell_type": "code",
      "source": [
        "from sqlalchemy.orm import sessionmaker"
      ],
      "outputs": [],
      "execution_count": 14,
      "metadata": {
        "collapsed": true
      }
    },
    {
      "cell_type": "code",
      "source": [
        "session = sessionmaker()\n",
        "session.configure(bind=engine)\n",
        "Base.metadata.create_all(engine)"
      ],
      "outputs": [],
      "execution_count": 15,
      "metadata": {
        "collapsed": true
      }
    },
    {
      "cell_type": "markdown",
      "source": [
        "### Test adding entries"
      ],
      "metadata": {}
    },
    {
      "cell_type": "code",
      "source": [
        "taimou = Player(tag='Taimou', first_name='Timo')\n",
        "fuel = Team(name='Fuel', abbr='DAL')"
      ],
      "outputs": [],
      "execution_count": 16,
      "metadata": {}
    },
    {
      "cell_type": "code",
      "source": [
        "taimou.team = fuel"
      ],
      "outputs": [],
      "execution_count": 17,
      "metadata": {
        "collapsed": true
      }
    },
    {
      "cell_type": "code",
      "source": [
        "s = session()"
      ],
      "outputs": [],
      "execution_count": 18,
      "metadata": {
        "collapsed": true
      }
    },
    {
      "cell_type": "code",
      "source": [
        "s.add(taimou)\n",
        "s.add(fuel)"
      ],
      "outputs": [],
      "execution_count": 19,
      "metadata": {
        "collapsed": true
      }
    },
    {
      "cell_type": "code",
      "source": [
        "s.commit()"
      ],
      "outputs": [],
      "execution_count": 20,
      "metadata": {
        "collapsed": true
      }
    },
    {
      "cell_type": "markdown",
      "source": [
        "### Make some Queries"
      ],
      "metadata": {}
    },
    {
      "cell_type": "code",
      "source": [
        "t = s.query(Team).one()"
      ],
      "outputs": [],
      "execution_count": 21,
      "metadata": {
        "collapsed": true
      }
    },
    {
      "cell_type": "code",
      "source": [
        "t"
      ],
      "outputs": [
        {
          "output_type": "execute_result",
          "execution_count": 22,
          "data": {
            "text/plain": [
              "<Team (name=Fuel, abbr=DAL)>"
            ]
          },
          "metadata": {}
        }
      ],
      "execution_count": 22,
      "metadata": {}
    },
    {
      "cell_type": "code",
      "source": [
        "p = s.query(Player).one()"
      ],
      "outputs": [],
      "execution_count": 23,
      "metadata": {
        "collapsed": true
      }
    },
    {
      "cell_type": "code",
      "source": [
        "p"
      ],
      "outputs": [
        {
          "output_type": "execute_result",
          "execution_count": 24,
          "data": {
            "text/plain": [
              "<Player (tag=Taimou)>"
            ]
          },
          "metadata": {}
        }
      ],
      "execution_count": 24,
      "metadata": {}
    },
    {
      "cell_type": "code",
      "source": [
        "t.players[0]"
      ],
      "outputs": [
        {
          "output_type": "execute_result",
          "execution_count": 25,
          "data": {
            "text/plain": [
              "<Player (tag=Taimou)>"
            ]
          },
          "metadata": {}
        }
      ],
      "execution_count": 25,
      "metadata": {}
    },
    {
      "cell_type": "code",
      "source": [
        "s.close()"
      ],
      "outputs": [],
      "execution_count": null,
      "metadata": {
        "collapsed": true
      }
    },
    {
      "cell_type": "code",
      "source": [],
      "outputs": [],
      "execution_count": null,
      "metadata": {
        "collapsed": true
      }
    }
  ],
  "metadata": {
    "kernelspec": {
      "name": "python3",
      "language": "python",
      "display_name": "Python 3"
    },
    "language_info": {
      "name": "python",
      "version": "3.6.3",
      "mimetype": "text/x-python",
      "codemirror_mode": {
        "name": "ipython",
        "version": 3
      },
      "pygments_lexer": "ipython3",
      "nbconvert_exporter": "python",
      "file_extension": ".py"
    },
    "kernel_info": {
      "name": "python3"
    },
    "nteract": {
      "version": "0.7.0"
    }
  },
  "nbformat": 4,
  "nbformat_minor": 2
}