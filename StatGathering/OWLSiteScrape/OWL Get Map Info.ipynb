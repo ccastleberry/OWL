{
  "cells": [
    {
      "cell_type": "code",
      "source": [
        "import requests\n",
        "from bs4 import BeautifulSoup"
      ],
      "outputs": [],
      "execution_count": 1,
      "metadata": {
        "collapsed": false,
        "outputHidden": false,
        "inputHidden": false
      }
    },
    {
      "cell_type": "code",
      "source": [
        "url = 'https://playoverwatch.com/en-us/game/overview/#maps-section'"
      ],
      "outputs": [],
      "execution_count": 2,
      "metadata": {
        "collapsed": false,
        "outputHidden": false,
        "inputHidden": false
      }
    },
    {
      "cell_type": "code",
      "source": [
        "r = requests.get(url)"
      ],
      "outputs": [],
      "execution_count": 3,
      "metadata": {
        "collapsed": false,
        "outputHidden": false,
        "inputHidden": false
      }
    },
    {
      "cell_type": "code",
      "source": [
        "r.status_code"
      ],
      "outputs": [
        {
          "output_type": "execute_result",
          "execution_count": 4,
          "data": {
            "text/plain": [
              "200"
            ]
          },
          "metadata": {}
        }
      ],
      "execution_count": 4,
      "metadata": {
        "collapsed": false,
        "outputHidden": false,
        "inputHidden": false
      }
    },
    {
      "cell_type": "code",
      "source": [
        "bsobj = BeautifulSoup(r.text, 'lxml')"
      ],
      "outputs": [],
      "execution_count": 5,
      "metadata": {
        "collapsed": false,
        "outputHidden": false,
        "inputHidden": false
      }
    },
    {
      "cell_type": "markdown",
      "source": [
        "#### Get Container"
      ],
      "metadata": {}
    },
    {
      "cell_type": "code",
      "source": [
        "map_containers = bsobj.findAll('div', \n",
        "                             {'data-js': 'map'})"
      ],
      "outputs": [],
      "execution_count": 8,
      "metadata": {
        "collapsed": false,
        "outputHidden": false,
        "inputHidden": false
      }
    },
    {
      "cell_type": "code",
      "source": [
        "example_container = map_containers[0]"
      ],
      "outputs": [],
      "execution_count": 13,
      "metadata": {
        "collapsed": false,
        "outputHidden": false,
        "inputHidden": false
      }
    },
    {
      "cell_type": "markdown",
      "source": [
        "#### Get the map name"
      ],
      "metadata": {}
    },
    {
      "cell_type": "code",
      "source": [
        "map_name = example_container.attrs['data-name']\n",
        "map_name"
      ],
      "outputs": [
        {
          "output_type": "execute_result",
          "execution_count": 15,
          "data": {
            "text/plain": [
              "'Temple of Anubis'"
            ]
          },
          "metadata": {}
        }
      ],
      "execution_count": 15,
      "metadata": {
        "collapsed": false,
        "outputHidden": false,
        "inputHidden": false
      }
    },
    {
      "cell_type": "markdown",
      "source": [
        "#### Get map type"
      ],
      "metadata": {}
    },
    {
      "cell_type": "code",
      "source": [
        "map_type = example_container.findAll('div', recursive=False)[1].\\\n",
        "    div.findAll('span')[1].text\n",
        "map_type"
      ],
      "outputs": [
        {
          "output_type": "execute_result",
          "execution_count": 28,
          "data": {
            "text/plain": [
              "'Assault'"
            ]
          },
          "metadata": {}
        }
      ],
      "execution_count": 28,
      "metadata": {
        "collapsed": false,
        "outputHidden": false,
        "inputHidden": false
      }
    },
    {
      "cell_type": "markdown",
      "source": [
        "#### Loop Through"
      ],
      "metadata": {}
    },
    {
      "cell_type": "code",
      "source": [
        "map_dict = {}\n",
        "for container in map_containers:\n",
        "    name = container.attrs['data-name']\n",
        "    category = container.findAll('div', recursive=False)[1].\\\n",
        "        div.findAll('span')[1].text\n",
        "    map_dict[name] = category"
      ],
      "outputs": [],
      "execution_count": 29,
      "metadata": {
        "collapsed": false,
        "outputHidden": false,
        "inputHidden": false
      }
    },
    {
      "cell_type": "code",
      "source": [
        "from pprint import pprint"
      ],
      "outputs": [],
      "execution_count": 30,
      "metadata": {
        "collapsed": false,
        "outputHidden": false,
        "inputHidden": false
      }
    },
    {
      "cell_type": "code",
      "source": [
        "pprint(map_dict)"
      ],
      "outputs": [
        {
          "output_type": "stream",
          "name": "stdout",
          "text": [
            "{'Black Forest': 'Arena',\n",
            " 'Blizzard World': 'Assault/Escort',\n",
            " 'Castillo': 'Arena',\n",
            " 'Château Guillard': 'Deathmatch',\n",
            " 'Dorado': 'Escort',\n",
            " 'Ecopoint: Antarctica': 'Arena',\n",
            " 'Eichenwalde': 'Assault/Escort',\n",
            " 'Hanamura': 'Assault',\n",
            " 'Hollywood': 'Assault/Escort',\n",
            " 'Horizon Lunar Colony': 'Assault',\n",
            " 'Ilios': 'Control',\n",
            " 'Junkertown': 'Escort',\n",
            " \"King's Row\": 'Assault/Escort',\n",
            " 'Lijiang Tower': 'Control',\n",
            " 'Necropolis': 'Arena',\n",
            " 'Nepal': 'Control',\n",
            " 'Numbani': 'Assault/Escort',\n",
            " 'Oasis': 'Control',\n",
            " 'Route 66': 'Escort',\n",
            " 'Temple of Anubis': 'Assault',\n",
            " 'Volskaya Industries': 'Assault',\n",
            " 'Watchpoint: Gibraltar': 'Escort'}\n"
          ]
        }
      ],
      "execution_count": 31,
      "metadata": {
        "collapsed": false,
        "outputHidden": false,
        "inputHidden": false
      }
    },
    {
      "cell_type": "code",
      "source": [
        "for name, map_type in map_dict.items():\n",
        "    if map_type == 'Assault/Escort':\n",
        "        map_dict[name] = 'Hybrid'"
      ],
      "outputs": [],
      "execution_count": 32,
      "metadata": {
        "collapsed": false,
        "outputHidden": false,
        "inputHidden": false
      }
    },
    {
      "cell_type": "code",
      "source": [
        "pprint(map_dict)"
      ],
      "outputs": [
        {
          "output_type": "stream",
          "name": "stdout",
          "text": [
            "{'Black Forest': 'Arena',\n",
            " 'Blizzard World': 'Hybrid',\n",
            " 'Castillo': 'Arena',\n",
            " 'Château Guillard': 'Deathmatch',\n",
            " 'Dorado': 'Escort',\n",
            " 'Ecopoint: Antarctica': 'Arena',\n",
            " 'Eichenwalde': 'Hybrid',\n",
            " 'Hanamura': 'Assault',\n",
            " 'Hollywood': 'Hybrid',\n",
            " 'Horizon Lunar Colony': 'Assault',\n",
            " 'Ilios': 'Control',\n",
            " 'Junkertown': 'Escort',\n",
            " \"King's Row\": 'Hybrid',\n",
            " 'Lijiang Tower': 'Control',\n",
            " 'Necropolis': 'Arena',\n",
            " 'Nepal': 'Control',\n",
            " 'Numbani': 'Hybrid',\n",
            " 'Oasis': 'Control',\n",
            " 'Route 66': 'Escort',\n",
            " 'Temple of Anubis': 'Assault',\n",
            " 'Volskaya Industries': 'Assault',\n",
            " 'Watchpoint: Gibraltar': 'Escort'}\n"
          ]
        }
      ],
      "execution_count": 33,
      "metadata": {
        "collapsed": false,
        "outputHidden": false,
        "inputHidden": false
      }
    },
    {
      "cell_type": "code",
      "source": [
        "len(map_dict)"
      ],
      "outputs": [
        {
          "output_type": "execute_result",
          "execution_count": 34,
          "data": {
            "text/plain": [
              "22"
            ]
          },
          "metadata": {}
        }
      ],
      "execution_count": 34,
      "metadata": {
        "collapsed": false,
        "outputHidden": false,
        "inputHidden": false
      }
    },
    {
      "cell_type": "code",
      "source": [],
      "outputs": [],
      "execution_count": null,
      "metadata": {
        "collapsed": false,
        "outputHidden": false,
        "inputHidden": false
      }
    }
  ],
  "metadata": {
    "kernelspec": {
      "name": "python3",
      "language": "python",
      "display_name": "Python 3"
    },
    "kernel_info": {
      "name": "python3"
    },
    "language_info": {
      "name": "python",
      "version": "3.6.3",
      "mimetype": "text/x-python",
      "codemirror_mode": {
        "name": "ipython",
        "version": 3
      },
      "pygments_lexer": "ipython3",
      "nbconvert_exporter": "python",
      "file_extension": ".py"
    },
    "nteract": {
      "version": "0.7.1"
    }
  },
  "nbformat": 4,
  "nbformat_minor": 4
}