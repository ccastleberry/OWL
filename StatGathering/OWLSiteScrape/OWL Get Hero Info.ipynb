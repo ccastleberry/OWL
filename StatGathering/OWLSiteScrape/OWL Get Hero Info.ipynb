{
  "cells": [
    {
      "cell_type": "code",
      "source": [
        "import requests\n",
        "from bs4 import BeautifulSoup"
      ],
      "outputs": [],
      "execution_count": 2,
      "metadata": {
        "collapsed": false,
        "outputHidden": false,
        "inputHidden": false
      }
    },
    {
      "cell_type": "code",
      "source": [
        "url = \"https://playoverwatch.com/en-us/heroes/\""
      ],
      "outputs": [],
      "execution_count": 3,
      "metadata": {
        "collapsed": false,
        "outputHidden": false,
        "inputHidden": false
      }
    },
    {
      "cell_type": "code",
      "source": [
        "r = requests.get(url)"
      ],
      "outputs": [],
      "execution_count": 4,
      "metadata": {
        "collapsed": false,
        "outputHidden": false,
        "inputHidden": false
      }
    },
    {
      "cell_type": "code",
      "source": [
        "r.status_code"
      ],
      "outputs": [
        {
          "output_type": "execute_result",
          "execution_count": 5,
          "data": {
            "text/plain": [
              "200"
            ]
          },
          "metadata": {}
        }
      ],
      "execution_count": 5,
      "metadata": {
        "collapsed": false,
        "outputHidden": false,
        "inputHidden": false
      }
    },
    {
      "cell_type": "code",
      "source": [
        "bsobj = BeautifulSoup(r.text, 'lxml')"
      ],
      "outputs": [],
      "execution_count": 7,
      "metadata": {
        "collapsed": false,
        "outputHidden": false,
        "inputHidden": false
      }
    },
    {
      "cell_type": "markdown",
      "source": [
        "#### Get the hero container"
      ],
      "metadata": {}
    },
    {
      "cell_type": "code",
      "source": [
        "hero_containers = bsobj.findAll('div', {'class': 'hero-portrait-detailed-container'})"
      ],
      "outputs": [],
      "execution_count": 9,
      "metadata": {
        "collapsed": false,
        "outputHidden": false,
        "inputHidden": false
      }
    },
    {
      "cell_type": "code",
      "source": [
        "example_container = hero_containers[0]"
      ],
      "outputs": [],
      "execution_count": 20,
      "metadata": {
        "collapsed": false,
        "outputHidden": false,
        "inputHidden": false
      }
    },
    {
      "cell_type": "markdown",
      "source": [
        "#### Get the category"
      ],
      "metadata": {}
    },
    {
      "cell_type": "code",
      "source": [
        "hero_category = example_container.attrs['data-groups'][2:-2].title()\n",
        "hero_category"
      ],
      "outputs": [
        {
          "output_type": "execute_result",
          "execution_count": 21,
          "data": {
            "text/plain": [
              "'Offense'"
            ]
          },
          "metadata": {}
        }
      ],
      "execution_count": 21,
      "metadata": {
        "collapsed": false,
        "outputHidden": false,
        "inputHidden": false
      }
    },
    {
      "cell_type": "markdown",
      "source": [
        "#### Get the Hero's Name"
      ],
      "metadata": {}
    },
    {
      "cell_type": "code",
      "source": [
        "hero_name = example_container.a.text\n",
        "hero_name"
      ],
      "outputs": [
        {
          "output_type": "execute_result",
          "execution_count": 30,
          "data": {
            "text/plain": [
              "'Doomfist'"
            ]
          },
          "metadata": {}
        }
      ],
      "execution_count": 30,
      "metadata": {
        "collapsed": false,
        "outputHidden": false,
        "inputHidden": false
      }
    },
    {
      "cell_type": "markdown",
      "source": [
        "#### Loop Through all"
      ],
      "metadata": {}
    },
    {
      "cell_type": "code",
      "source": [
        "hero_dict = {}\n",
        "for container in hero_containers:\n",
        "    name = container.a.text\n",
        "    category = container.attrs['data-groups'][2:-2].title()\n",
        "    hero_dict[name] = category"
      ],
      "outputs": [],
      "execution_count": 26,
      "metadata": {
        "collapsed": false,
        "outputHidden": false,
        "inputHidden": false
      }
    },
    {
      "cell_type": "code",
      "source": [
        "from pprint import pprint"
      ],
      "outputs": [],
      "execution_count": 27,
      "metadata": {
        "collapsed": false,
        "outputHidden": false,
        "inputHidden": false
      }
    },
    {
      "cell_type": "code",
      "source": [
        "pprint(hero_dict)"
      ],
      "outputs": [
        {
          "output_type": "stream",
          "name": "stdout",
          "text": [
            "{'Ana': 'Support',\n",
            " 'Bastion': 'Defense',\n",
            " 'D.Va': 'Tank',\n",
            " 'Doomfist': 'Offense',\n",
            " 'Genji': 'Offense',\n",
            " 'Hanzo': 'Defense',\n",
            " 'Junkrat': 'Defense',\n",
            " 'Lúcio': 'Support',\n",
            " 'McCree': 'Offense',\n",
            " 'Mei': 'Defense',\n",
            " 'Mercy': 'Support',\n",
            " 'Moira': 'Support',\n",
            " 'Orisa': 'Tank',\n",
            " 'Pharah': 'Offense',\n",
            " 'Reaper': 'Offense',\n",
            " 'Reinhardt': 'Tank',\n",
            " 'Roadhog': 'Tank',\n",
            " 'Soldier: 76': 'Offense',\n",
            " 'Sombra': 'Offense',\n",
            " 'Symmetra': 'Support',\n",
            " 'Torbjörn': 'Defense',\n",
            " 'Tracer': 'Offense',\n",
            " 'Widowmaker': 'Defense',\n",
            " 'Winston': 'Tank',\n",
            " 'Zarya': 'Tank',\n",
            " 'Zenyatta': 'Support'}\n"
          ]
        }
      ],
      "execution_count": 28,
      "metadata": {
        "collapsed": false,
        "outputHidden": false,
        "inputHidden": false
      }
    },
    {
      "cell_type": "code",
      "source": [
        "len(hero_dict)"
      ],
      "outputs": [
        {
          "output_type": "execute_result",
          "execution_count": 29,
          "data": {
            "text/plain": [
              "26"
            ]
          },
          "metadata": {}
        }
      ],
      "execution_count": 29,
      "metadata": {
        "collapsed": false,
        "outputHidden": false,
        "inputHidden": false
      }
    },
    {
      "cell_type": "code",
      "source": [],
      "outputs": [],
      "execution_count": null,
      "metadata": {
        "collapsed": false,
        "outputHidden": false,
        "inputHidden": false
      }
    }
  ],
  "metadata": {
    "kernelspec": {
      "name": "python3",
      "language": "python",
      "display_name": "Python 3"
    },
    "kernel_info": {
      "name": "python3"
    },
    "language_info": {
      "name": "python",
      "version": "3.6.3",
      "mimetype": "text/x-python",
      "codemirror_mode": {
        "name": "ipython",
        "version": 3
      },
      "pygments_lexer": "ipython3",
      "nbconvert_exporter": "python",
      "file_extension": ".py"
    },
    "nteract": {
      "version": "0.7.1"
    }
  },
  "nbformat": 4,
  "nbformat_minor": 4
}