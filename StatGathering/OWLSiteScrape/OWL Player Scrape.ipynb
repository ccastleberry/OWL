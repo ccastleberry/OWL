{
 "cells": [
  {
   "cell_type": "markdown",
   "metadata": {},
   "source": [
    "# Scrape Player List"
   ]
  },
  {
   "cell_type": "code",
   "execution_count": 8,
   "metadata": {
    "collapsed": true
   },
   "outputs": [],
   "source": [
    "import requests\n",
    "from bs4 import BeautifulSoup\n",
    "from pprint import pprint"
   ]
  },
  {
   "cell_type": "code",
   "execution_count": 9,
   "metadata": {
    "collapsed": true
   },
   "outputs": [],
   "source": [
    "OWL_Players_URL = \"https://overwatchleague.com/en-us/players\""
   ]
  },
  {
   "cell_type": "code",
   "execution_count": 10,
   "metadata": {
    "collapsed": true
   },
   "outputs": [],
   "source": [
    "html = requests.get(OWL_Players_URL)"
   ]
  },
  {
   "cell_type": "code",
   "execution_count": 11,
   "metadata": {
    "collapsed": true
   },
   "outputs": [],
   "source": [
    "bsobj = BeautifulSoup(html.text, 'lxml')"
   ]
  },
  {
   "cell_type": "code",
   "execution_count": 12,
   "metadata": {
    "collapsed": true
   },
   "outputs": [],
   "source": [
    "player_list = bsobj.table.findAll(\"tr\")"
   ]
  },
  {
   "cell_type": "code",
   "execution_count": 13,
   "metadata": {},
   "outputs": [
    {
     "data": {
      "text/plain": [
       "<tr><td><b>Coolmatt</b></td><td>Matt</td><td>Iorio</td><td>Laporte, IN, US</td><td><div class=\"IconLabel\"><span class=\"IconLabel-item\"><img class=\"Icon\" src=\"https://bnetcmsus-a.akamaihd.net/cms/page_media/UPM8U5QV3DDU1507858876250.svg\"/></span><span class=\"IconLabel-item hidden-xs hidden-sm\"><b>Houston Outlaws</b></span><span class=\"IconLabel-item hidden-md hidden-lg hidden-xl\"><b>HOU</b></span></div></td><td><div class=\"IconLabel IconLabel--light\"><span class=\"IconLabel-item\"><svg class=\"Icon Icon--lightFill\"><use xlink:href=\"#role_tank\"></use></svg></span><span class=\"IconLabel-item hidden-xs hidden-sm\">Tank</span></div></td></tr>"
      ]
     },
     "execution_count": 13,
     "metadata": {},
     "output_type": "execute_result"
    }
   ],
   "source": [
    "player_list[2]"
   ]
  },
  {
   "cell_type": "code",
   "execution_count": 14,
   "metadata": {},
   "outputs": [
    {
     "name": "stdout",
     "output_type": "stream",
     "text": [
      "Tag:\t\tDreamKazper\n",
      "First Name:\tJonathan\n",
      "Last Name:\tSanchez\n",
      "Hometown:\tHemet, CA, US\n",
      "Team:\t\tBoston Uprising\n",
      "Team Abbr.:\tBOS\n",
      "Role:\t\tOffense\n",
      "--------------------------\n",
      "Tag:\t\tCoolmatt\n",
      "First Name:\tMatt\n",
      "Last Name:\tIorio\n",
      "Hometown:\tLaporte, IN, US\n",
      "Team:\t\tHouston Outlaws\n",
      "Team Abbr.:\tHOU\n",
      "Role:\t\tTank\n",
      "--------------------------\n",
      "Tag:\t\tGamsu\n",
      "First Name:\tYoungJin\n",
      "Last Name:\tNoh\n",
      "Hometown:\tGyeongju, KR\n",
      "Team:\t\tBoston Uprising\n",
      "Team Abbr.:\tBOS\n",
      "Role:\t\tTank\n",
      "--------------------------\n",
      "Tag:\t\tNotE\n",
      "First Name:\tLucas\n",
      "Last Name:\tMeissner\n",
      "Hometown:\tBarrie, CA\n",
      "Team:\t\tBoston Uprising\n",
      "Team Abbr.:\tBOS\n",
      "Role:\t\tTank\n",
      "--------------------------\n",
      "Tag:\t\tNeko\n",
      "First Name:\tSeHyun\n",
      "Last Name:\tPark\n",
      "Hometown:\tChangwon, KR\n",
      "Team:\t\tBoston Uprising\n",
      "Team Abbr.:\tBOS\n",
      "Role:\t\tSupport\n",
      "--------------------------\n",
      "Tag:\t\tAvast\n",
      "First Name:\tConnor\n",
      "Last Name:\tPrince\n",
      "Hometown:\tColleyville, TX, US\n",
      "Team:\t\tBoston Uprising\n",
      "Team Abbr.:\tBOS\n",
      "Role:\t\tSupport\n",
      "--------------------------\n",
      "Tag:\t\tSTRIKER\n",
      "First Name:\tNamju\n",
      "Last Name:\tGwon\n",
      "Hometown:\tWonju, KR\n",
      "Team:\t\tBoston Uprising\n",
      "Team Abbr.:\tBOS\n",
      "Role:\t\tOffense\n",
      "--------------------------\n",
      "Tag:\t\tKalios\n",
      "First Name:\tWooYul\n",
      "Last Name:\tShin\n",
      "Hometown:\tDangjin City, KR\n",
      "Team:\t\tBoston Uprising\n",
      "Team Abbr.:\tBOS\n",
      "Role:\t\tTank\n",
      "--------------------------\n",
      "Tag:\t\tMistakes\n",
      "First Name:\tStanislav\n",
      "Last Name:\tDanilov\n",
      "Hometown:\tKrasnoyarsk, RU\n",
      "Team:\t\tBoston Uprising\n",
      "Team Abbr.:\tBOS\n",
      "Role:\t\tOffense\n",
      "--------------------------\n",
      "Tag:\t\tKellex\n",
      "First Name:\tKristian\n",
      "Last Name:\tKeller\n",
      "Hometown:\tRoskilde, DK\n",
      "Team:\t\tBoston Uprising\n",
      "Team Abbr.:\tBOS\n",
      "Role:\t\tSupport\n",
      "--------------------------\n",
      "Tag:\t\tSaebyeolbe\n",
      "First Name:\tJong-Ryeol\n",
      "Last Name:\tPark\n",
      "Hometown:\tYangju, KR\n",
      "Team:\t\tNew York Excelsior\n",
      "Team Abbr.:\tNYE\n",
      "Role:\t\tOffense\n",
      "--------------------------\n"
     ]
    }
   ],
   "source": [
    "for player in player_list[1:12]:\n",
    "    data = player.findAll('td')\n",
    "    \n",
    "    tag = data[0].b.text\n",
    "    first_name = data[1].text\n",
    "    last_name = data[2].text\n",
    "    hometown = data[3].text\n",
    "    team = data[4].findAll('b')[0].text\n",
    "    team_abbr = data[4].findAll('b')[1].text\n",
    "    role = data[5].text\n",
    "    \n",
    "    \n",
    "    print(\"Tag:\\t\\t{}\".format(tag))\n",
    "    print(\"First Name:\\t{}\".format(first_name))\n",
    "    print(\"Last Name:\\t{}\".format(last_name))\n",
    "    print(\"Hometown:\\t{}\".format(hometown))\n",
    "    print(\"Team:\\t\\t{}\".format(team))\n",
    "    print(\"Team Abbr.:\\t{}\".format(team_abbr))\n",
    "    print(\"Role:\\t\\t{}\".format(role))\n",
    "    print('--------------------------')\n",
    "    \n",
    "    #pprint(data)"
   ]
  },
  {
   "cell_type": "code",
   "execution_count": null,
   "metadata": {
    "collapsed": true
   },
   "outputs": [],
   "source": []
  }
 ],
 "metadata": {
  "kernelspec": {
   "display_name": "Python 3",
   "language": "python",
   "name": "python3"
  },
  "language_info": {
   "codemirror_mode": {
    "name": "ipython",
    "version": 3
   },
   "file_extension": ".py",
   "mimetype": "text/x-python",
   "name": "python",
   "nbconvert_exporter": "python",
   "pygments_lexer": "ipython3",
   "version": "3.6.3"
  }
 },
 "nbformat": 4,
 "nbformat_minor": 2
}
