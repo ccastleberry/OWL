{
  "cells": [
    {
      "cell_type": "code",
      "source": [
        "import requests\n",
        "from bs4 import BeautifulSoup\n",
        "from pprint import pprint\n",
        "from selenium import webdriver"
      ],
      "outputs": [],
      "execution_count": 2,
      "metadata": {
        "collapsed": false,
        "outputHidden": false,
        "inputHidden": false
      }
    },
    {
      "cell_type": "code",
      "source": [
        "url = \"https://overwatchleague.com/en-us/teams\""
      ],
      "outputs": [],
      "execution_count": 3,
      "metadata": {
        "collapsed": false,
        "outputHidden": false,
        "inputHidden": false
      }
    },
    {
      "cell_type": "code",
      "source": [
        "options = webdriver.ChromeOptions()\n",
        "options.add_argument('headless')\n",
        "options.add_argument('window-size=1200x600')"
      ],
      "outputs": [],
      "execution_count": 4,
      "metadata": {
        "collapsed": false,
        "outputHidden": false,
        "inputHidden": false
      }
    },
    {
      "cell_type": "code",
      "source": [
        "driver = webdriver.Chrome(r'C:\\Users\\cbcastleberry\\Documents\\Python Scripts\\chromedriver.exe',\n",
        "                         chrome_options=options)"
      ],
      "outputs": [],
      "execution_count": 6,
      "metadata": {
        "collapsed": false,
        "outputHidden": false,
        "inputHidden": false
      }
    },
    {
      "cell_type": "code",
      "source": [
        "driver.get(url)\n",
        "driver.implicitly_wait(10)"
      ],
      "outputs": [],
      "execution_count": 7,
      "metadata": {
        "collapsed": false,
        "outputHidden": false,
        "inputHidden": false
      }
    },
    {
      "cell_type": "code",
      "source": [
        "bsobj = BeautifulSoup(driver.page_source, 'lxml')"
      ],
      "outputs": [],
      "execution_count": 8,
      "metadata": {
        "collapsed": false,
        "outputHidden": false,
        "inputHidden": false
      }
    },
    {
      "cell_type": "code",
      "source": [
        "team_containers = bsobj.findAll('div', \n",
        "                               {'class': 'Card--team'})"
      ],
      "outputs": [],
      "execution_count": 9,
      "metadata": {
        "collapsed": false,
        "outputHidden": false,
        "inputHidden": false
      }
    },
    {
      "cell_type": "code",
      "source": [
        "team_containers[0]"
      ],
      "outputs": [
        {
          "output_type": "execute_result",
          "execution_count": 10,
          "data": {
            "text/plain": [
              "<div class=\"Card Card--team\" data-analytics=\"card\" style=\"color: rgb(23, 75, 151);\"><div class=\"Card-logo\"><div class=\"AspectRatio\"><img alt=\"Boston Uprising\" class=\"AspectRatio-subject\" src=\"https://bnetcmsus-a.akamaihd.net/cms/page_media/W4FGQ24HKCB51513383982827.svg\"/></div></div><div class=\"Card-body\"><h2 class=\"Card-title\">Boston Uprising</h2><p class=\"Card-text\">Boston, MA</p></div><a class=\"Card-button Card-link Card-link--withUnderlineAnimation Button\" data-analytics-page=\"teams\" data-analytics-placement=\"Boston Uprising\" href=\"javascript:void(0)\"><span class=\"Button-text\">View Roster</span><svg class=\"Icon Icon\" xmlns=\"http://www.w3.org/2000/svg\"><use xlink:href=\"#icon-chevron-down\" xmlns:xlink=\"http://www.w3.org/1999/xlink\"></use></svg></a></div>"
            ]
          },
          "metadata": {}
        }
      ],
      "execution_count": 10,
      "metadata": {
        "collapsed": false,
        "outputHidden": false,
        "inputHidden": false
      }
    },
    {
      "cell_type": "code",
      "source": [
        "driver.close()"
      ],
      "outputs": [],
      "execution_count": 11,
      "metadata": {
        "collapsed": false,
        "outputHidden": false,
        "inputHidden": false
      }
    },
    {
      "cell_type": "code",
      "source": [
        "example_container = team_containers[0]\n",
        "example_container"
      ],
      "outputs": [
        {
          "output_type": "execute_result",
          "execution_count": 12,
          "data": {
            "text/plain": [
              "<div class=\"Card Card--team\" data-analytics=\"card\" style=\"color: rgb(23, 75, 151);\"><div class=\"Card-logo\"><div class=\"AspectRatio\"><img alt=\"Boston Uprising\" class=\"AspectRatio-subject\" src=\"https://bnetcmsus-a.akamaihd.net/cms/page_media/W4FGQ24HKCB51513383982827.svg\"/></div></div><div class=\"Card-body\"><h2 class=\"Card-title\">Boston Uprising</h2><p class=\"Card-text\">Boston, MA</p></div><a class=\"Card-button Card-link Card-link--withUnderlineAnimation Button\" data-analytics-page=\"teams\" data-analytics-placement=\"Boston Uprising\" href=\"javascript:void(0)\"><span class=\"Button-text\">View Roster</span><svg class=\"Icon Icon\" xmlns=\"http://www.w3.org/2000/svg\"><use xlink:href=\"#icon-chevron-down\" xmlns:xlink=\"http://www.w3.org/1999/xlink\"></use></svg></a></div>"
            ]
          },
          "metadata": {}
        }
      ],
      "execution_count": 12,
      "metadata": {
        "collapsed": false,
        "outputHidden": false,
        "inputHidden": false
      }
    },
    {
      "cell_type": "code",
      "source": [
        "team_name = example_container.find('h2').text\n",
        "team_name"
      ],
      "outputs": [
        {
          "output_type": "execute_result",
          "execution_count": 13,
          "data": {
            "text/plain": [
              "'Boston Uprising'"
            ]
          },
          "metadata": {}
        }
      ],
      "execution_count": 13,
      "metadata": {
        "collapsed": false,
        "outputHidden": false,
        "inputHidden": false
      }
    },
    {
      "cell_type": "code",
      "source": [
        "team_loc = example_container.find('p').text\n",
        "team_loc"
      ],
      "outputs": [
        {
          "output_type": "execute_result",
          "execution_count": 14,
          "data": {
            "text/plain": [
              "'Boston, MA'"
            ]
          },
          "metadata": {}
        }
      ],
      "execution_count": 14,
      "metadata": {
        "collapsed": false,
        "outputHidden": false,
        "inputHidden": false
      }
    },
    {
      "cell_type": "code",
      "source": [],
      "outputs": [],
      "execution_count": null,
      "metadata": {
        "collapsed": false,
        "outputHidden": false,
        "inputHidden": false
      }
    }
  ],
  "metadata": {
    "kernelspec": {
      "name": "python3",
      "language": "python",
      "display_name": "Python 3"
    },
    "kernel_info": {
      "name": "python3"
    },
    "language_info": {
      "name": "python",
      "version": "3.6.3",
      "mimetype": "text/x-python",
      "codemirror_mode": {
        "name": "ipython",
        "version": 3
      },
      "pygments_lexer": "ipython3",
      "nbconvert_exporter": "python",
      "file_extension": ".py"
    },
    "nteract": {
      "version": "0.7.1"
    }
  },
  "nbformat": 4,
  "nbformat_minor": 4
}