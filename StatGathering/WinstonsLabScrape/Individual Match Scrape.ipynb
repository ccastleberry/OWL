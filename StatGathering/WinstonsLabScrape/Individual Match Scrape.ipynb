{
 "cells": [
  {
   "cell_type": "markdown",
   "metadata": {},
   "source": [
    "# Imports"
   ]
  },
  {
   "cell_type": "code",
   "execution_count": 1,
   "metadata": {
    "collapsed": true
   },
   "outputs": [],
   "source": [
    "import requests\n",
    "from bs4 import BeautifulSoup\n",
    "from pprint import pprint"
   ]
  },
  {
   "cell_type": "markdown",
   "metadata": {},
   "source": [
    "# Initial Setup\n",
    "\n",
    "To begin I've chosen to focus on getting all of the stats from one game.\n",
    "\n",
    "Due to personal preference I've chosen to look at the preseason game between the Dallas Fuel and the Houston Outlaws. The page on winstons lab for the game can be found here:\n",
    "\n",
    "[Preseason: Fuel vs. Outlaws](https://www.winstonslab.com/matches/match.php?id=2367)\n",
    "\n",
    "The individual match id for the site is 2367. We'll try to keep everything as modular as possible during prototyping."
   ]
  },
  {
   "cell_type": "code",
   "execution_count": 2,
   "metadata": {
    "collapsed": true
   },
   "outputs": [],
   "source": [
    "BASE_MATCH_URL = \"https://www.winstonslab.com/matches/match.php\""
   ]
  },
  {
   "cell_type": "code",
   "execution_count": 3,
   "metadata": {
    "collapsed": true
   },
   "outputs": [],
   "source": [
    "match_id = \"2367\""
   ]
  },
  {
   "cell_type": "code",
   "execution_count": 4,
   "metadata": {
    "collapsed": true
   },
   "outputs": [],
   "source": [
    "full_url = BASE_MATCH_URL + \"?id=\" + match_id"
   ]
  },
  {
   "cell_type": "markdown",
   "metadata": {},
   "source": [
    "## Get the base html using requests"
   ]
  },
  {
   "cell_type": "code",
   "execution_count": 5,
   "metadata": {
    "collapsed": true
   },
   "outputs": [],
   "source": [
    "response = requests.get(full_url)\n",
    "html = BeautifulSoup(response.text, \"lxml\")"
   ]
  },
  {
   "cell_type": "markdown",
   "metadata": {},
   "source": [
    "# Overview stats"
   ]
  },
  {
   "cell_type": "code",
   "execution_count": 6,
   "metadata": {
    "collapsed": true
   },
   "outputs": [],
   "source": [
    "div = html.findAll(\"div\", {\"class\": \"side-by-side-stats\"})[0] # table containing detailed stats\n",
    "detail = div.findAll(\"div\", recursive=False)[2]"
   ]
  },
  {
   "cell_type": "code",
   "execution_count": 7,
   "metadata": {},
   "outputs": [
    {
     "data": {
      "text/plain": [
       "''"
      ]
     },
     "execution_count": 7,
     "metadata": {},
     "output_type": "execute_result"
    }
   ],
   "source": [
    "detail.text"
   ]
  },
  {
   "cell_type": "markdown",
   "metadata": {},
   "source": [
    "Ok so this is empty because It loads the data after clicked detailed stats. I guess we'll have to use Selenium and PhantomJS"
   ]
  },
  {
   "cell_type": "code",
   "execution_count": 8,
   "metadata": {},
   "outputs": [],
   "source": [
    "from selenium import webdriver\n",
    "import time"
   ]
  },
  {
   "cell_type": "code",
   "execution_count": null,
   "metadata": {},
   "outputs": [],
   "source": []
  },
  {
   "cell_type": "code",
   "execution_count": 9,
   "metadata": {},
   "outputs": [],
   "source": [
    "driver = webdriver.Chrome(\"/Applications/chromedriver\")"
   ]
  },
  {
   "cell_type": "markdown",
   "metadata": {},
   "source": [
    "JK using Chrome. I need to find a chrome headless driver."
   ]
  },
  {
   "cell_type": "code",
   "execution_count": 10,
   "metadata": {},
   "outputs": [],
   "source": [
    "driver.get(full_url)\n",
    "time.sleep(5)"
   ]
  },
  {
   "cell_type": "code",
   "execution_count": 11,
   "metadata": {
    "collapsed": true
   },
   "outputs": [],
   "source": [
    "detail_button = driver.find_element_by_class_name(\"showDetailedStatsBut\")"
   ]
  },
  {
   "cell_type": "code",
   "execution_count": 12,
   "metadata": {},
   "outputs": [
    {
     "data": {
      "text/plain": [
       "'Detailed Stats'"
      ]
     },
     "execution_count": 12,
     "metadata": {},
     "output_type": "execute_result"
    }
   ],
   "source": [
    "detail_button.text"
   ]
  },
  {
   "cell_type": "code",
   "execution_count": 14,
   "metadata": {},
   "outputs": [],
   "source": [
    "detail_button.click()"
   ]
  },
  {
   "cell_type": "code",
   "execution_count": 15,
   "metadata": {
    "collapsed": true
   },
   "outputs": [],
   "source": [
    "detail_stats = driver.find_element_by_id(\"detailedStatsDiv_0\")"
   ]
  },
  {
   "cell_type": "code",
   "execution_count": 16,
   "metadata": {},
   "outputs": [
    {
     "data": {
      "text/plain": [
       "'Color Code: Top 25% Bottom 25%\\nDetailed Stats\\nPlayer\\nHero\\nTime\\nRating\\nFWin%\\nPTK\\nK/10\\nD/10\\nU/10\\nTTCU\\nKPU\\nUE\\nUOOF\\nFK\\nFD\\nImpact\\nBani Zenyatta 00:08:14 1451 55.56% 19.15% 10.93 6.07 4.86 91 0 44.44 25% 22% 11% 1355\\nBoink Mercy 00:44:32 1206 55.32% 0.56% 0.22 3.82 3.59 87 0 21.6 12.5% 0% 9% 1116\\nTaimou Roadhog 00:30:25 1193 57.14% 25.77% 8.22 4.6 4.27 74 0 5.36 8.33% 21% 11% 1098\\nRawkus Zenyatta 00:49:16 1181 62.75% 11.34% 4.47 5.07 4.87 92 0 6 5% 4% 4% 772\\nJAKE Junkrat 00:28:21 1137 54.17% 38.37% 11.64 6.7 4.59 77 0 12.5 0% 33% 21% 1451\\nEffect Zarya 00:17:46 1124 40% 19.51% 4.5 2.81 3.94 72 0 -20 0% 0% 10% 773\\nMuma Orisa 00:27:25 1121 60.87% 9.57% 3.28 3.65 3.28 98 0 16.91 0% 9% 9% 1048\\nJAKE Soldier: 76 00:08:16 1110 70% 20% 9.68 3.63 4.84 96 0 30 0% 0% 0% 823\\nEffect Tracer 00:47:26 1098 46.55% 29.83% 11.38 7.17 8.43 57 0 5.83 22.22% 12% 10% 964\\nBani Mercy 00:13:15 1066 78.57% 0% 0 3.02 3.77 99 0 21.43 0% 0% 0% 422\\nHarryHook Zenyatta 00:24:30 1065 37.04% 10.42% 4.08 6.94 5.71 90 0 -7.04 0% 4% 7% 963\\nJAKE Pharah 00:12:01 1060 56.25% 27.27% 14.98 8.32 8.32 83 0 18.75 0% 31% 0% 1092\\nMuma Winston 00:44:19 1059 47.17% 19.68% 8.35 6.77 4.51 100 0 6.68 10.53% 8% 9% 630\\nLiNkzr Pharah 00:07:59 1058 11.11% 45.45% 12.53 6.26 6.26 68 0 -11.11 0% 33% 22% 949\\nJAKE Tracer 00:11:54 1057 38.46% 35.42% 14.29 9.24 13.45 65 0 11.54 25% 8% 8% 916\\ncocco Winston 00:17:47 1048 18.18% 18.75% 5.06 7.87 3.94 86 0 21.82 14.29% 14% 9% 1642\\nLiNkzr Mccree 00:12:29 1036 57.14% 21.13% 12.02 9.61 6.41 69 0 2.86 0% 7% 0% 1396\\nMickie Orisa 00:29:41 1021 59.26% 8.7% 2.7 3.71 3.03 116 0 3.24 22.22% 4% 7% 951\\nCusta Zenyatta 00:44:00 1000 47.83% 7.19% 2.27 5.45 2.95 98 0 6.02 0% 7% 7% 1126\\nSeagull Junkrat 00:29:43 970 59.26% 31.52% 9.76 6.06 6.06 88 0 9.97 0% 11% 7% 1034\\nSpree D.Va 00:13:15 969 78.57% 12.12% 6.04 3.77 0 0 0 0 0% 0% 0% 632\\nLiNkzr Widowmaker 00:12:43 906 58.82% 17.54% 7.86 7.86 8.65 68 0 1.18 22.22% 12% 35% 1034\\nchipshajen Mercy 01:07:10 896 44.44% 0.86% 0.3 5.96 3.87 89 0 0.56 11.54% 0% 6% 928\\nxQc Winston 00:14:37 888 56.25% 14.67% 7.53 8.21 4.1 99 0 -22.92 20% 13% 13% 526\\nBani Sombra 00:05:54 883 16.67% 11.76% 3.39 6.78 6.78 46 0 16.67 0% 0% 0% 589\\nMickie D.Va 00:41:17 863 35.42% 22.29% 8.48 7.51 0 0 0 0 0% 4% 4% 1182\\nTaimou Widowmaker 00:18:03 840 38.1% 19.35% 6.65 7.76 6.65 69 0 11.9 25% 19% 14% 1005\\nTaimou Mccree 00:08:23 837 40% 16.67% 7.16 10.74 5.96 69 0 -40 20% 0% 10% 1225\\ncoolmatt D.Va 00:58:37 798 45.16% 18.06% 6.65 5.97 0 0 0 0 0% 6% 2% 738\\nRawkus Mercy 00:07:59 792 11.11% 0% 0 7.52 3.76 108 0 22.22 0% 0% 0% 838\\nLiNkzr Genji 00:21:05 782 35.29% 16.33% 3.79 6.17 2.85 91 0 -1.96 0% 6% 12% 599\\nclockwork Tracer 00:20:00 710 54.17% 18.75% 7.5 9 7 64 0 -20.83 25% 4% 17% 768\\nBoink Lucio 00:12:59 644 14.29% 6.06% 1.54 10.01 3.08 123 0 -14.29 0% 0% 0% 1062\\nTaimou Junkrat 00:09:29 379 0% 29.17% 7.38 14.76 5.27 98 0 0 0% 0% 33% 614\\nSeagull Genji 00:03:34 NED 60% 40% 22.43 5.61 5.61 62 0 40 50% 0% 0% 1022\\nTaimou Reaper 00:02:48 NED 50% 25% 17.86 10.71 7.14 62 0 50 50% 25% 0% 872\\nTaimou Winston 00:02:44 NED 75% 6.67% 3.66 7.32 3.66 106 0 25 0% 0% 25% 652\\nchipshajen Lucio 00:00:23 NED 0% 0% 0 0 0 0 0 0 0% 0% 0% 1005\\nchipshajen Sombra 00:04:15 NED 25% 4.55% 2.35 11.76 9.41 50 0 8.33 0% 0% 0% 390\\nchipshajen Tracer 00:00:04 NED 0% 0% 0 0 0 0 0 0 0% 0% 0% 992\\nHarryHook Lucio 00:03:22 NED 33.33% 10.53% 5.94 14.85 2.97 94 0 0 0% 0% 0% 893\\ncocco Orisa 00:02:37 NED 0% 16.67% 3.82 7.64 7.64 43 0 0 50% 0% 0% 1028\\ncocco Reinhardt 00:03:34 NED 25% 7.69% 2.8 8.41 5.61 73 0 -25 50% 25% 25% 1335\\nclockwork Mccree 00:04:21 NED 100% 33.33% 20.69 6.9 4.6 84 0 0 0% 67% 0% 1034\\nclockwork Soldier: 76 00:00:14 NED 0% 0% 0 42.86 0 0 0 0 0% 0% 0% 991\\nLiNkzr Tracer 00:04:21 NED 60% 52.94% 20.69 6.9 6.9 67 0 -10 0% 60% 0% 1281\\nMickie Winston 00:00:54 NED 0% 0% 0 22.22 0 0 0 0 0% 0% 0% 997\\nBoink Zenyatta 00:01:06 NED 0% 16.67% 9.09 0 0 0 0 0 0% 0% 0% 998\\nEffect Mccree 00:04:28 NED 0% 25% 6.72 17.91 4.48 80 0 0 0% 0% 50% 895\\nEffect Reaper 00:02:12 NED 100% 30% 27.27 4.55 9.09 57 0 0 0% 50% 0% 996\\nMuma Reinhardt 00:00:05 NED 0% 0% 0 0 0 0 0 0 0% 0% 0% 998\\nMuma Symmetra 00:00:03 NED 0% 0% 0 0 0 0 0 0 0% 0% 0% 996\\nBani Lucio 00:00:29 NED 0% 0% 0 20.69 0 0 0 0 0% 0% 0% 1006'"
      ]
     },
     "execution_count": 16,
     "metadata": {},
     "output_type": "execute_result"
    }
   ],
   "source": [
    "detail_stats.text"
   ]
  },
  {
   "cell_type": "code",
   "execution_count": 17,
   "metadata": {
    "collapsed": true
   },
   "outputs": [],
   "source": [
    "page_source = driver.page_source"
   ]
  },
  {
   "cell_type": "code",
   "execution_count": 18,
   "metadata": {
    "collapsed": true
   },
   "outputs": [],
   "source": [
    "new_html = BeautifulSoup(page_source, \"lxml\")"
   ]
  },
  {
   "cell_type": "code",
   "execution_count": 21,
   "metadata": {
    "collapsed": true
   },
   "outputs": [],
   "source": [
    "div = new_html.findAll(\"div\", {\"class\": \"side-by-side-stats\"})[0] # table containing detailed stats\n",
    "detail = div.findAll(\"div\", recursive=False)[2]"
   ]
  },
  {
   "cell_type": "code",
   "execution_count": 23,
   "metadata": {
    "collapsed": true
   },
   "outputs": [],
   "source": [
    "stat_table = detail.table"
   ]
  },
  {
   "cell_type": "code",
   "execution_count": 24,
   "metadata": {},
   "outputs": [],
   "source": [
    "table_headers = stat_table.thead\n",
    "table_data = stat_table.tbody"
   ]
  },
  {
   "cell_type": "code",
   "execution_count": 25,
   "metadata": {
    "collapsed": true
   },
   "outputs": [],
   "source": [
    "header_elems = table_headers.findAll(\"th\")"
   ]
  },
  {
   "cell_type": "code",
   "execution_count": 26,
   "metadata": {},
   "outputs": [
    {
     "name": "stdout",
     "output_type": "stream",
     "text": [
      "['Player',\n",
      " 'Hero',\n",
      " 'Time',\n",
      " 'Rating',\n",
      " 'FWin%',\n",
      " 'PTK',\n",
      " 'K/10',\n",
      " 'D/10',\n",
      " 'U/10',\n",
      " 'TTCU',\n",
      " 'KPU',\n",
      " 'UE',\n",
      " 'UOOF',\n",
      " 'FK',\n",
      " 'FD',\n",
      " 'Impact',\n",
      " 'Elim/10',\n",
      " 'dmg/10',\n",
      " 'heal/10',\n",
      " 'ObjTime/10',\n",
      " 'ObjKills/10']\n"
     ]
    }
   ],
   "source": [
    "header_list = []\n",
    "for header in header_elems:\n",
    "    header_list.append(header.text)\n",
    "pprint(header_list)"
   ]
  },
  {
   "cell_type": "code",
   "execution_count": 27,
   "metadata": {
    "collapsed": true
   },
   "outputs": [],
   "source": [
    "row_list = table_data.findAll(\"tr\")"
   ]
  },
  {
   "cell_type": "code",
   "execution_count": 28,
   "metadata": {},
   "outputs": [
    {
     "name": "stdout",
     "output_type": "stream",
     "text": [
      "-----------------------\n",
      "Player: Bani\n",
      "Hero: Zenyatta\n",
      "Time: 00:08:14\n",
      "Rating: 1451\n",
      "FWin%: 55.56%\n",
      "PTK: 19.15%\n",
      "K/10: 10.93\n",
      "D/10: 6.07\n",
      "U/10: 4.86\n",
      "TTCU: 91\n",
      "KPU: 0\n",
      "UE: 44.44\n",
      "UOOF: 25%\n",
      "FK: 22%\n",
      "FD: 11%\n",
      "Impact: 1355\n",
      "Elim/10: N/A\n",
      "dmg/10: N/A\n",
      "heal/10: N/A\n",
      "ObjTime/10: N/A\n",
      "ObjKills/10: N/A\n",
      "-----------------------\n",
      "Player: Boink\n",
      "Hero: Mercy\n",
      "Time: 00:44:32\n",
      "Rating: 1206\n",
      "FWin%: 55.32%\n",
      "PTK: 0.56%\n",
      "K/10: 0.22\n",
      "D/10: 3.82\n",
      "U/10: 3.59\n",
      "TTCU: 87\n",
      "KPU: 0\n",
      "UE: 21.6\n",
      "UOOF: 12.5%\n",
      "FK: 0%\n",
      "FD: 9%\n",
      "Impact: 1116\n",
      "Elim/10: N/A\n",
      "dmg/10: N/A\n",
      "heal/10: N/A\n",
      "ObjTime/10: N/A\n",
      "ObjKills/10: N/A\n",
      "-----------------------\n",
      "Player: Taimou\n",
      "Hero: Roadhog\n",
      "Time: 00:30:25\n",
      "Rating: 1193\n",
      "FWin%: 57.14%\n",
      "PTK: 25.77%\n",
      "K/10: 8.22\n",
      "D/10: 4.6\n",
      "U/10: 4.27\n",
      "TTCU: 74\n",
      "KPU: 0\n",
      "UE: 5.36\n",
      "UOOF: 8.33%\n",
      "FK: 21%\n",
      "FD: 11%\n",
      "Impact: 1098\n",
      "Elim/10: N/A\n",
      "dmg/10: N/A\n",
      "heal/10: N/A\n",
      "ObjTime/10: N/A\n",
      "ObjKills/10: N/A\n"
     ]
    }
   ],
   "source": [
    "for row in row_list[0:3]:\n",
    "    elems = row.findAll(\"td\")\n",
    "    print(\"-----------------------\")\n",
    "    for i, item in enumerate(elems[0:]):\n",
    "        print(\"{}: {}\".format(header_list[i], item.text.strip()))"
   ]
  }
 ],
 "metadata": {
  "kernelspec": {
   "display_name": "Python 3",
   "language": "python",
   "name": "python3"
  },
  "language_info": {
   "codemirror_mode": {
    "name": "ipython",
    "version": 3
   },
   "file_extension": ".py",
   "mimetype": "text/x-python",
   "name": "python",
   "nbconvert_exporter": "python",
   "pygments_lexer": "ipython3",
   "version": "3.6.3"
  }
 },
 "nbformat": 4,
 "nbformat_minor": 2
}
