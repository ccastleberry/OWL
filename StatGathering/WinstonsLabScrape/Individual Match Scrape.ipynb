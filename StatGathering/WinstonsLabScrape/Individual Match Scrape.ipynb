{
 "cells": [
  {
   "cell_type": "markdown",
   "metadata": {},
   "source": [
    "# Imports"
   ]
  },
  {
   "cell_type": "code",
   "execution_count": null,
   "metadata": {
    "collapsed": true
   },
   "outputs": [],
   "source": [
    "import requests\n",
    "from bs4 import BeautifulSoup\n",
    "from pprint import pprint"
   ]
  },
  {
   "cell_type": "markdown",
   "metadata": {},
   "source": [
    "# Initial Setup\n",
    "\n",
    "To begin I've chosen to focus on getting all of the stats from one game.\n",
    "\n",
    "Due to personal preference I've chosen to look at the preseason game between the Dallas Fuel and the Houston Outlaws. The page on winstons lab for the game can be found here:\n",
    "\n",
    "[Preseason: Fuel vs. Outlaws](https://www.winstonslab.com/matches/match.php?id=2367)\n",
    "\n",
    "The individual match id for the site is 2367. We'll try to keep everything as modular as possible during prototyping."
   ]
  },
  {
   "cell_type": "code",
   "execution_count": null,
   "metadata": {
    "collapsed": true
   },
   "outputs": [],
   "source": [
    "BASE_MATCH_URL = \"https://www.winstonslab.com/matches/match.php\""
   ]
  },
  {
   "cell_type": "code",
   "execution_count": null,
   "metadata": {
    "collapsed": true
   },
   "outputs": [],
   "source": [
    "match_id = \"2367\""
   ]
  },
  {
   "cell_type": "code",
   "execution_count": null,
   "metadata": {
    "collapsed": true
   },
   "outputs": [],
   "source": [
    "full_url = BASE_MATCH_URL + \"?id=\" + match_id"
   ]
  },
  {
   "cell_type": "markdown",
   "metadata": {},
   "source": [
    "## Get the base html using requests"
   ]
  },
  {
   "cell_type": "code",
   "execution_count": null,
   "metadata": {
    "collapsed": true
   },
   "outputs": [],
   "source": [
    "response = requests.get(full_url)\n",
    "html = BeautifulSoup(response.text, \"lxml\")"
   ]
  },
  {
   "cell_type": "markdown",
   "metadata": {},
   "source": [
    "# Overview stats"
   ]
  },
  {
   "cell_type": "code",
   "execution_count": null,
   "metadata": {
    "collapsed": true
   },
   "outputs": [],
   "source": [
    "div = html.findAll(\"div\", {\"class\": \"side-by-side-stats\"})[0] # table containing detailed stats\n",
    "detail = div.findAll(\"div\", recursive=False)[2]"
   ]
  },
  {
   "cell_type": "code",
   "execution_count": null,
   "metadata": {},
   "outputs": [],
   "source": [
    "detail.text"
   ]
  },
  {
   "cell_type": "markdown",
   "metadata": {},
   "source": [
    "Ok so this is empty because It loads the data after clicked detailed stats. I guess we'll have to use Selenium and PhantomJS"
   ]
  },
  {
   "cell_type": "code",
   "execution_count": null,
   "metadata": {},
   "outputs": [],
   "source": [
    "from selenium import webdriver\n",
    "import time"
   ]
  },
  {
   "cell_type": "code",
   "execution_count": null,
   "metadata": {},
   "outputs": [],
   "source": []
  },
  {
   "cell_type": "code",
   "execution_count": null,
   "metadata": {},
   "outputs": [],
   "source": [
    "driver = webdriver.Chrome(\"/Applications/chromedriver\")"
   ]
  },
  {
   "cell_type": "markdown",
   "metadata": {},
   "source": [
    "JK using Chrome. I need to find a chrome headless driver."
   ]
  },
  {
   "cell_type": "code",
   "execution_count": null,
   "metadata": {},
   "outputs": [],
   "source": [
    "driver.get(full_url)\n",
    "time.sleep(5)"
   ]
  },
  {
   "cell_type": "code",
   "execution_count": null,
   "metadata": {
    "collapsed": true
   },
   "outputs": [],
   "source": [
    "detail_button = driver.find_element_by_class_name(\"showDetailedStatsBut\")"
   ]
  },
  {
   "cell_type": "code",
   "execution_count": null,
   "metadata": {},
   "outputs": [],
   "source": [
    "detail_button.text"
   ]
  },
  {
   "cell_type": "code",
   "execution_count": null,
   "metadata": {},
   "outputs": [],
   "source": [
    "detail_button.click()"
   ]
  },
  {
   "cell_type": "code",
   "execution_count": null,
   "metadata": {
    "collapsed": true
   },
   "outputs": [],
   "source": [
    "detail_stats = driver.find_element_by_id(\"detailedStatsDiv_0\")"
   ]
  },
  {
   "cell_type": "code",
   "execution_count": null,
   "metadata": {},
   "outputs": [],
   "source": [
    "detail_stats.text"
   ]
  },
  {
   "cell_type": "code",
   "execution_count": null,
   "metadata": {
    "collapsed": true
   },
   "outputs": [],
   "source": [
    "page_source = driver.page_source"
   ]
  },
  {
   "cell_type": "code",
   "execution_count": null,
   "metadata": {
    "collapsed": true
   },
   "outputs": [],
   "source": [
    "new_html = BeautifulSoup(page_source, \"lxml\")"
   ]
  },
  {
   "cell_type": "code",
   "execution_count": null,
   "metadata": {
    "collapsed": true
   },
   "outputs": [],
   "source": [
    "div = new_html.findAll(\"div\", {\"class\": \"side-by-side-stats\"})[0] # table containing detailed stats\n",
    "detail = div.findAll(\"div\", recursive=False)[2]"
   ]
  },
  {
   "cell_type": "code",
   "execution_count": null,
   "metadata": {
    "collapsed": true
   },
   "outputs": [],
   "source": [
    "stat_table = detail.table"
   ]
  },
  {
   "cell_type": "code",
   "execution_count": null,
   "metadata": {},
   "outputs": [],
   "source": [
    "table_headers = stat_table.thead\n",
    "table_data = stat_table.tbody"
   ]
  },
  {
   "cell_type": "code",
   "execution_count": null,
   "metadata": {
    "collapsed": true
   },
   "outputs": [],
   "source": [
    "header_elems = table_headers.findAll(\"th\")"
   ]
  },
  {
   "cell_type": "code",
   "execution_count": null,
   "metadata": {},
   "outputs": [],
   "source": [
    "header_list = []\n",
    "for header in header_elems:\n",
    "    header_list.append(header.text)\n",
    "pprint(header_list)"
   ]
  },
  {
   "cell_type": "code",
   "execution_count": null,
   "metadata": {
    "collapsed": true
   },
   "outputs": [],
   "source": [
    "row_list = table_data.findAll(\"tr\")"
   ]
  },
  {
   "cell_type": "code",
   "execution_count": null,
   "metadata": {
    "collapsed": true
   },
   "outputs": [],
   "source": [
    "full_stat_list = []"
   ]
  },
  {
   "cell_type": "code",
   "execution_count": null,
   "metadata": {},
   "outputs": [],
   "source": [
    "for row in row_list[0:3]:\n",
    "    elems = row.findAll(\"td\")\n",
    "    stat_list = []\n",
    "    print(\"-----------------------\")\n",
    "    for i, item in enumerate(elems[0:]):\n",
    "        print(\"{}: {}\".format(header_list[i], item.text.strip()))\n",
    "        stat_list.append(item.text.strip())\n",
    "    full_stat_list.append(stat_list)"
   ]
  },
  {
   "cell_type": "code",
   "execution_count": null,
   "metadata": {
    "collapsed": true
   },
   "outputs": [],
   "source": [
    "import pandas as pd"
   ]
  },
  {
   "cell_type": "code",
   "execution_count": null,
   "metadata": {},
   "outputs": [],
   "source": [
    "df = pd.DataFrame(columns=header_list)"
   ]
  },
  {
   "cell_type": "code",
   "execution_count": null,
   "metadata": {},
   "outputs": [],
   "source": [
    "df.head()"
   ]
  },
  {
   "cell_type": "code",
   "execution_count": null,
   "metadata": {
    "collapsed": true
   },
   "outputs": [],
   "source": [
    "full_stat_list"
   ]
  },
  {
   "cell_type": "code",
   "execution_count": null,
   "metadata": {},
   "outputs": [],
   "source": [
    "new_df = pd.DataFrame(full_stat_list, columns=header_list)"
   ]
  },
  {
   "cell_type": "code",
   "execution_count": null,
   "metadata": {},
   "outputs": [],
   "source": [
    "new_df.head()"
   ]
  },
  {
   "cell_type": "code",
   "execution_count": 1,
   "metadata": {
    "collapsed": true
   },
   "outputs": [],
   "source": [
    "import MatchStats as ms"
   ]
  },
  {
   "cell_type": "code",
   "execution_count": 2,
   "metadata": {},
   "outputs": [],
   "source": [
    "df = ms.detailed_match_data(\"2367\")"
   ]
  },
  {
   "cell_type": "code",
   "execution_count": 3,
   "metadata": {},
   "outputs": [
    {
     "data": {
      "text/html": [
       "<div>\n",
       "<style>\n",
       "    .dataframe thead tr:only-child th {\n",
       "        text-align: right;\n",
       "    }\n",
       "\n",
       "    .dataframe thead th {\n",
       "        text-align: left;\n",
       "    }\n",
       "\n",
       "    .dataframe tbody tr th {\n",
       "        vertical-align: top;\n",
       "    }\n",
       "</style>\n",
       "<table border=\"1\" class=\"dataframe\">\n",
       "  <thead>\n",
       "    <tr style=\"text-align: right;\">\n",
       "      <th></th>\n",
       "      <th>Player</th>\n",
       "      <th>Hero</th>\n",
       "      <th>Time</th>\n",
       "      <th>Rating</th>\n",
       "      <th>FWin%</th>\n",
       "      <th>PTK</th>\n",
       "      <th>K/10</th>\n",
       "      <th>D/10</th>\n",
       "      <th>U/10</th>\n",
       "      <th>TTCU</th>\n",
       "      <th>...</th>\n",
       "      <th>UE</th>\n",
       "      <th>UOOF</th>\n",
       "      <th>FK</th>\n",
       "      <th>FD</th>\n",
       "      <th>Impact</th>\n",
       "      <th>Elim/10</th>\n",
       "      <th>dmg/10</th>\n",
       "      <th>heal/10</th>\n",
       "      <th>ObjTime/10</th>\n",
       "      <th>ObjKills/10</th>\n",
       "    </tr>\n",
       "  </thead>\n",
       "  <tbody>\n",
       "    <tr>\n",
       "      <th>0</th>\n",
       "      <td>Bani</td>\n",
       "      <td>Zenyatta</td>\n",
       "      <td>00:08:14</td>\n",
       "      <td>1451</td>\n",
       "      <td>55.56%</td>\n",
       "      <td>19.15%</td>\n",
       "      <td>10.93</td>\n",
       "      <td>6.07</td>\n",
       "      <td>4.86</td>\n",
       "      <td>91</td>\n",
       "      <td>...</td>\n",
       "      <td>44.44</td>\n",
       "      <td>25%</td>\n",
       "      <td>22%</td>\n",
       "      <td>11%</td>\n",
       "      <td>1355</td>\n",
       "      <td>N/A</td>\n",
       "      <td>N/A</td>\n",
       "      <td>N/A</td>\n",
       "      <td>N/A</td>\n",
       "      <td>N/A</td>\n",
       "    </tr>\n",
       "    <tr>\n",
       "      <th>1</th>\n",
       "      <td>Boink</td>\n",
       "      <td>Mercy</td>\n",
       "      <td>00:44:32</td>\n",
       "      <td>1206</td>\n",
       "      <td>55.32%</td>\n",
       "      <td>0.56%</td>\n",
       "      <td>0.22</td>\n",
       "      <td>3.82</td>\n",
       "      <td>3.59</td>\n",
       "      <td>87</td>\n",
       "      <td>...</td>\n",
       "      <td>21.6</td>\n",
       "      <td>12.5%</td>\n",
       "      <td>0%</td>\n",
       "      <td>9%</td>\n",
       "      <td>1116</td>\n",
       "      <td>N/A</td>\n",
       "      <td>N/A</td>\n",
       "      <td>N/A</td>\n",
       "      <td>N/A</td>\n",
       "      <td>N/A</td>\n",
       "    </tr>\n",
       "    <tr>\n",
       "      <th>2</th>\n",
       "      <td>Taimou</td>\n",
       "      <td>Roadhog</td>\n",
       "      <td>00:30:25</td>\n",
       "      <td>1193</td>\n",
       "      <td>57.14%</td>\n",
       "      <td>25.77%</td>\n",
       "      <td>8.22</td>\n",
       "      <td>4.6</td>\n",
       "      <td>4.27</td>\n",
       "      <td>74</td>\n",
       "      <td>...</td>\n",
       "      <td>5.36</td>\n",
       "      <td>8.33%</td>\n",
       "      <td>21%</td>\n",
       "      <td>11%</td>\n",
       "      <td>1098</td>\n",
       "      <td>N/A</td>\n",
       "      <td>N/A</td>\n",
       "      <td>N/A</td>\n",
       "      <td>N/A</td>\n",
       "      <td>N/A</td>\n",
       "    </tr>\n",
       "    <tr>\n",
       "      <th>3</th>\n",
       "      <td>Rawkus</td>\n",
       "      <td>Zenyatta</td>\n",
       "      <td>00:49:16</td>\n",
       "      <td>1181</td>\n",
       "      <td>62.75%</td>\n",
       "      <td>11.34%</td>\n",
       "      <td>4.47</td>\n",
       "      <td>5.07</td>\n",
       "      <td>4.87</td>\n",
       "      <td>92</td>\n",
       "      <td>...</td>\n",
       "      <td>6</td>\n",
       "      <td>5%</td>\n",
       "      <td>4%</td>\n",
       "      <td>4%</td>\n",
       "      <td>772</td>\n",
       "      <td>N/A</td>\n",
       "      <td>N/A</td>\n",
       "      <td>N/A</td>\n",
       "      <td>N/A</td>\n",
       "      <td>N/A</td>\n",
       "    </tr>\n",
       "    <tr>\n",
       "      <th>4</th>\n",
       "      <td>JAKE</td>\n",
       "      <td>Junkrat</td>\n",
       "      <td>00:28:21</td>\n",
       "      <td>1137</td>\n",
       "      <td>54.17%</td>\n",
       "      <td>38.37%</td>\n",
       "      <td>11.64</td>\n",
       "      <td>6.7</td>\n",
       "      <td>4.59</td>\n",
       "      <td>77</td>\n",
       "      <td>...</td>\n",
       "      <td>12.5</td>\n",
       "      <td>0%</td>\n",
       "      <td>33%</td>\n",
       "      <td>21%</td>\n",
       "      <td>1451</td>\n",
       "      <td>N/A</td>\n",
       "      <td>N/A</td>\n",
       "      <td>N/A</td>\n",
       "      <td>N/A</td>\n",
       "      <td>N/A</td>\n",
       "    </tr>\n",
       "  </tbody>\n",
       "</table>\n",
       "<p>5 rows × 21 columns</p>\n",
       "</div>"
      ],
      "text/plain": [
       "   Player      Hero      Time Rating   FWin%     PTK   K/10  D/10  U/10 TTCU  \\\n",
       "0    Bani  Zenyatta  00:08:14   1451  55.56%  19.15%  10.93  6.07  4.86   91   \n",
       "1   Boink     Mercy  00:44:32   1206  55.32%   0.56%   0.22  3.82  3.59   87   \n",
       "2  Taimou   Roadhog  00:30:25   1193  57.14%  25.77%   8.22   4.6  4.27   74   \n",
       "3  Rawkus  Zenyatta  00:49:16   1181  62.75%  11.34%   4.47  5.07  4.87   92   \n",
       "4    JAKE   Junkrat  00:28:21   1137  54.17%  38.37%  11.64   6.7  4.59   77   \n",
       "\n",
       "      ...         UE   UOOF   FK   FD Impact Elim/10 dmg/10 heal/10  \\\n",
       "0     ...      44.44    25%  22%  11%   1355     N/A    N/A     N/A   \n",
       "1     ...       21.6  12.5%   0%   9%   1116     N/A    N/A     N/A   \n",
       "2     ...       5.36  8.33%  21%  11%   1098     N/A    N/A     N/A   \n",
       "3     ...          6     5%   4%   4%    772     N/A    N/A     N/A   \n",
       "4     ...       12.5     0%  33%  21%   1451     N/A    N/A     N/A   \n",
       "\n",
       "  ObjTime/10 ObjKills/10  \n",
       "0        N/A         N/A  \n",
       "1        N/A         N/A  \n",
       "2        N/A         N/A  \n",
       "3        N/A         N/A  \n",
       "4        N/A         N/A  \n",
       "\n",
       "[5 rows x 21 columns]"
      ]
     },
     "execution_count": 3,
     "metadata": {},
     "output_type": "execute_result"
    }
   ],
   "source": [
    "df.head()"
   ]
  },
  {
   "cell_type": "code",
   "execution_count": 4,
   "metadata": {},
   "outputs": [
    {
     "data": {
      "text/html": [
       "<div>\n",
       "<style>\n",
       "    .dataframe thead tr:only-child th {\n",
       "        text-align: right;\n",
       "    }\n",
       "\n",
       "    .dataframe thead th {\n",
       "        text-align: left;\n",
       "    }\n",
       "\n",
       "    .dataframe tbody tr th {\n",
       "        vertical-align: top;\n",
       "    }\n",
       "</style>\n",
       "<table border=\"1\" class=\"dataframe\">\n",
       "  <thead>\n",
       "    <tr style=\"text-align: right;\">\n",
       "      <th></th>\n",
       "      <th>Player</th>\n",
       "      <th>Hero</th>\n",
       "      <th>Time</th>\n",
       "      <th>Rating</th>\n",
       "      <th>FWin%</th>\n",
       "      <th>PTK</th>\n",
       "      <th>K/10</th>\n",
       "      <th>D/10</th>\n",
       "      <th>U/10</th>\n",
       "      <th>TTCU</th>\n",
       "      <th>...</th>\n",
       "      <th>UE</th>\n",
       "      <th>UOOF</th>\n",
       "      <th>FK</th>\n",
       "      <th>FD</th>\n",
       "      <th>Impact</th>\n",
       "      <th>Elim/10</th>\n",
       "      <th>dmg/10</th>\n",
       "      <th>heal/10</th>\n",
       "      <th>ObjTime/10</th>\n",
       "      <th>ObjKills/10</th>\n",
       "    </tr>\n",
       "  </thead>\n",
       "  <tbody>\n",
       "    <tr>\n",
       "      <th>41</th>\n",
       "      <td>cocco</td>\n",
       "      <td>Orisa</td>\n",
       "      <td>00:02:37</td>\n",
       "      <td>NED</td>\n",
       "      <td>0%</td>\n",
       "      <td>16.67%</td>\n",
       "      <td>3.82</td>\n",
       "      <td>7.64</td>\n",
       "      <td>7.64</td>\n",
       "      <td>43</td>\n",
       "      <td>...</td>\n",
       "      <td>0</td>\n",
       "      <td>50%</td>\n",
       "      <td>0%</td>\n",
       "      <td>0%</td>\n",
       "      <td>1028</td>\n",
       "      <td>N/A</td>\n",
       "      <td>N/A</td>\n",
       "      <td>N/A</td>\n",
       "      <td>N/A</td>\n",
       "      <td>N/A</td>\n",
       "    </tr>\n",
       "    <tr>\n",
       "      <th>42</th>\n",
       "      <td>cocco</td>\n",
       "      <td>Reinhardt</td>\n",
       "      <td>00:03:34</td>\n",
       "      <td>NED</td>\n",
       "      <td>25%</td>\n",
       "      <td>7.69%</td>\n",
       "      <td>2.8</td>\n",
       "      <td>8.41</td>\n",
       "      <td>5.61</td>\n",
       "      <td>73</td>\n",
       "      <td>...</td>\n",
       "      <td>-25</td>\n",
       "      <td>50%</td>\n",
       "      <td>25%</td>\n",
       "      <td>25%</td>\n",
       "      <td>1335</td>\n",
       "      <td>N/A</td>\n",
       "      <td>N/A</td>\n",
       "      <td>N/A</td>\n",
       "      <td>N/A</td>\n",
       "      <td>N/A</td>\n",
       "    </tr>\n",
       "    <tr>\n",
       "      <th>43</th>\n",
       "      <td>clockwork</td>\n",
       "      <td>Mccree</td>\n",
       "      <td>00:04:21</td>\n",
       "      <td>NED</td>\n",
       "      <td>100%</td>\n",
       "      <td>33.33%</td>\n",
       "      <td>20.69</td>\n",
       "      <td>6.9</td>\n",
       "      <td>4.6</td>\n",
       "      <td>84</td>\n",
       "      <td>...</td>\n",
       "      <td>0</td>\n",
       "      <td>0%</td>\n",
       "      <td>67%</td>\n",
       "      <td>0%</td>\n",
       "      <td>1034</td>\n",
       "      <td>N/A</td>\n",
       "      <td>N/A</td>\n",
       "      <td>N/A</td>\n",
       "      <td>N/A</td>\n",
       "      <td>N/A</td>\n",
       "    </tr>\n",
       "    <tr>\n",
       "      <th>44</th>\n",
       "      <td>clockwork</td>\n",
       "      <td>Soldier: 76</td>\n",
       "      <td>00:00:14</td>\n",
       "      <td>NED</td>\n",
       "      <td>0%</td>\n",
       "      <td>0%</td>\n",
       "      <td>0</td>\n",
       "      <td>42.86</td>\n",
       "      <td>0</td>\n",
       "      <td>0</td>\n",
       "      <td>...</td>\n",
       "      <td>0</td>\n",
       "      <td>0%</td>\n",
       "      <td>0%</td>\n",
       "      <td>0%</td>\n",
       "      <td>991</td>\n",
       "      <td>N/A</td>\n",
       "      <td>N/A</td>\n",
       "      <td>N/A</td>\n",
       "      <td>N/A</td>\n",
       "      <td>N/A</td>\n",
       "    </tr>\n",
       "    <tr>\n",
       "      <th>45</th>\n",
       "      <td>LiNkzr</td>\n",
       "      <td>Tracer</td>\n",
       "      <td>00:04:21</td>\n",
       "      <td>NED</td>\n",
       "      <td>60%</td>\n",
       "      <td>52.94%</td>\n",
       "      <td>20.69</td>\n",
       "      <td>6.9</td>\n",
       "      <td>6.9</td>\n",
       "      <td>67</td>\n",
       "      <td>...</td>\n",
       "      <td>-10</td>\n",
       "      <td>0%</td>\n",
       "      <td>60%</td>\n",
       "      <td>0%</td>\n",
       "      <td>1281</td>\n",
       "      <td>N/A</td>\n",
       "      <td>N/A</td>\n",
       "      <td>N/A</td>\n",
       "      <td>N/A</td>\n",
       "      <td>N/A</td>\n",
       "    </tr>\n",
       "    <tr>\n",
       "      <th>46</th>\n",
       "      <td>Mickie</td>\n",
       "      <td>Winston</td>\n",
       "      <td>00:00:54</td>\n",
       "      <td>NED</td>\n",
       "      <td>0%</td>\n",
       "      <td>0%</td>\n",
       "      <td>0</td>\n",
       "      <td>22.22</td>\n",
       "      <td>0</td>\n",
       "      <td>0</td>\n",
       "      <td>...</td>\n",
       "      <td>0</td>\n",
       "      <td>0%</td>\n",
       "      <td>0%</td>\n",
       "      <td>0%</td>\n",
       "      <td>997</td>\n",
       "      <td>N/A</td>\n",
       "      <td>N/A</td>\n",
       "      <td>N/A</td>\n",
       "      <td>N/A</td>\n",
       "      <td>N/A</td>\n",
       "    </tr>\n",
       "    <tr>\n",
       "      <th>47</th>\n",
       "      <td>Boink</td>\n",
       "      <td>Zenyatta</td>\n",
       "      <td>00:01:06</td>\n",
       "      <td>NED</td>\n",
       "      <td>0%</td>\n",
       "      <td>16.67%</td>\n",
       "      <td>9.09</td>\n",
       "      <td>0</td>\n",
       "      <td>0</td>\n",
       "      <td>0</td>\n",
       "      <td>...</td>\n",
       "      <td>0</td>\n",
       "      <td>0%</td>\n",
       "      <td>0%</td>\n",
       "      <td>0%</td>\n",
       "      <td>998</td>\n",
       "      <td>N/A</td>\n",
       "      <td>N/A</td>\n",
       "      <td>N/A</td>\n",
       "      <td>N/A</td>\n",
       "      <td>N/A</td>\n",
       "    </tr>\n",
       "    <tr>\n",
       "      <th>48</th>\n",
       "      <td>Effect</td>\n",
       "      <td>Mccree</td>\n",
       "      <td>00:04:28</td>\n",
       "      <td>NED</td>\n",
       "      <td>0%</td>\n",
       "      <td>25%</td>\n",
       "      <td>6.72</td>\n",
       "      <td>17.91</td>\n",
       "      <td>4.48</td>\n",
       "      <td>80</td>\n",
       "      <td>...</td>\n",
       "      <td>0</td>\n",
       "      <td>0%</td>\n",
       "      <td>0%</td>\n",
       "      <td>50%</td>\n",
       "      <td>895</td>\n",
       "      <td>N/A</td>\n",
       "      <td>N/A</td>\n",
       "      <td>N/A</td>\n",
       "      <td>N/A</td>\n",
       "      <td>N/A</td>\n",
       "    </tr>\n",
       "    <tr>\n",
       "      <th>49</th>\n",
       "      <td>Effect</td>\n",
       "      <td>Reaper</td>\n",
       "      <td>00:02:12</td>\n",
       "      <td>NED</td>\n",
       "      <td>100%</td>\n",
       "      <td>30%</td>\n",
       "      <td>27.27</td>\n",
       "      <td>4.55</td>\n",
       "      <td>9.09</td>\n",
       "      <td>57</td>\n",
       "      <td>...</td>\n",
       "      <td>0</td>\n",
       "      <td>0%</td>\n",
       "      <td>50%</td>\n",
       "      <td>0%</td>\n",
       "      <td>996</td>\n",
       "      <td>N/A</td>\n",
       "      <td>N/A</td>\n",
       "      <td>N/A</td>\n",
       "      <td>N/A</td>\n",
       "      <td>N/A</td>\n",
       "    </tr>\n",
       "    <tr>\n",
       "      <th>50</th>\n",
       "      <td>Muma</td>\n",
       "      <td>Reinhardt</td>\n",
       "      <td>00:00:05</td>\n",
       "      <td>NED</td>\n",
       "      <td>0%</td>\n",
       "      <td>0%</td>\n",
       "      <td>0</td>\n",
       "      <td>0</td>\n",
       "      <td>0</td>\n",
       "      <td>0</td>\n",
       "      <td>...</td>\n",
       "      <td>0</td>\n",
       "      <td>0%</td>\n",
       "      <td>0%</td>\n",
       "      <td>0%</td>\n",
       "      <td>998</td>\n",
       "      <td>N/A</td>\n",
       "      <td>N/A</td>\n",
       "      <td>N/A</td>\n",
       "      <td>N/A</td>\n",
       "      <td>N/A</td>\n",
       "    </tr>\n",
       "    <tr>\n",
       "      <th>51</th>\n",
       "      <td>Muma</td>\n",
       "      <td>Symmetra</td>\n",
       "      <td>00:00:03</td>\n",
       "      <td>NED</td>\n",
       "      <td>0%</td>\n",
       "      <td>0%</td>\n",
       "      <td>0</td>\n",
       "      <td>0</td>\n",
       "      <td>0</td>\n",
       "      <td>0</td>\n",
       "      <td>...</td>\n",
       "      <td>0</td>\n",
       "      <td>0%</td>\n",
       "      <td>0%</td>\n",
       "      <td>0%</td>\n",
       "      <td>996</td>\n",
       "      <td>N/A</td>\n",
       "      <td>N/A</td>\n",
       "      <td>N/A</td>\n",
       "      <td>N/A</td>\n",
       "      <td>N/A</td>\n",
       "    </tr>\n",
       "    <tr>\n",
       "      <th>52</th>\n",
       "      <td>Bani</td>\n",
       "      <td>Lucio</td>\n",
       "      <td>00:00:29</td>\n",
       "      <td>NED</td>\n",
       "      <td>0%</td>\n",
       "      <td>0%</td>\n",
       "      <td>0</td>\n",
       "      <td>20.69</td>\n",
       "      <td>0</td>\n",
       "      <td>0</td>\n",
       "      <td>...</td>\n",
       "      <td>0</td>\n",
       "      <td>0%</td>\n",
       "      <td>0%</td>\n",
       "      <td>0%</td>\n",
       "      <td>1006</td>\n",
       "      <td>N/A</td>\n",
       "      <td>N/A</td>\n",
       "      <td>N/A</td>\n",
       "      <td>N/A</td>\n",
       "      <td>N/A</td>\n",
       "    </tr>\n",
       "  </tbody>\n",
       "</table>\n",
       "<p>12 rows × 21 columns</p>\n",
       "</div>"
      ],
      "text/plain": [
       "       Player         Hero      Time Rating FWin%     PTK   K/10   D/10  U/10  \\\n",
       "41      cocco        Orisa  00:02:37    NED    0%  16.67%   3.82   7.64  7.64   \n",
       "42      cocco    Reinhardt  00:03:34    NED   25%   7.69%    2.8   8.41  5.61   \n",
       "43  clockwork       Mccree  00:04:21    NED  100%  33.33%  20.69    6.9   4.6   \n",
       "44  clockwork  Soldier: 76  00:00:14    NED    0%      0%      0  42.86     0   \n",
       "45     LiNkzr       Tracer  00:04:21    NED   60%  52.94%  20.69    6.9   6.9   \n",
       "46     Mickie      Winston  00:00:54    NED    0%      0%      0  22.22     0   \n",
       "47      Boink     Zenyatta  00:01:06    NED    0%  16.67%   9.09      0     0   \n",
       "48     Effect       Mccree  00:04:28    NED    0%     25%   6.72  17.91  4.48   \n",
       "49     Effect       Reaper  00:02:12    NED  100%     30%  27.27   4.55  9.09   \n",
       "50       Muma    Reinhardt  00:00:05    NED    0%      0%      0      0     0   \n",
       "51       Muma     Symmetra  00:00:03    NED    0%      0%      0      0     0   \n",
       "52       Bani        Lucio  00:00:29    NED    0%      0%      0  20.69     0   \n",
       "\n",
       "   TTCU     ...       UE UOOF   FK   FD Impact Elim/10 dmg/10 heal/10  \\\n",
       "41   43     ...        0  50%   0%   0%   1028     N/A    N/A     N/A   \n",
       "42   73     ...      -25  50%  25%  25%   1335     N/A    N/A     N/A   \n",
       "43   84     ...        0   0%  67%   0%   1034     N/A    N/A     N/A   \n",
       "44    0     ...        0   0%   0%   0%    991     N/A    N/A     N/A   \n",
       "45   67     ...      -10   0%  60%   0%   1281     N/A    N/A     N/A   \n",
       "46    0     ...        0   0%   0%   0%    997     N/A    N/A     N/A   \n",
       "47    0     ...        0   0%   0%   0%    998     N/A    N/A     N/A   \n",
       "48   80     ...        0   0%   0%  50%    895     N/A    N/A     N/A   \n",
       "49   57     ...        0   0%  50%   0%    996     N/A    N/A     N/A   \n",
       "50    0     ...        0   0%   0%   0%    998     N/A    N/A     N/A   \n",
       "51    0     ...        0   0%   0%   0%    996     N/A    N/A     N/A   \n",
       "52    0     ...        0   0%   0%   0%   1006     N/A    N/A     N/A   \n",
       "\n",
       "   ObjTime/10 ObjKills/10  \n",
       "41        N/A         N/A  \n",
       "42        N/A         N/A  \n",
       "43        N/A         N/A  \n",
       "44        N/A         N/A  \n",
       "45        N/A         N/A  \n",
       "46        N/A         N/A  \n",
       "47        N/A         N/A  \n",
       "48        N/A         N/A  \n",
       "49        N/A         N/A  \n",
       "50        N/A         N/A  \n",
       "51        N/A         N/A  \n",
       "52        N/A         N/A  \n",
       "\n",
       "[12 rows x 21 columns]"
      ]
     },
     "execution_count": 4,
     "metadata": {},
     "output_type": "execute_result"
    }
   ],
   "source": [
    "df.tail(12)"
   ]
  },
  {
   "cell_type": "code",
   "execution_count": null,
   "metadata": {
    "collapsed": true
   },
   "outputs": [],
   "source": []
  }
 ],
 "metadata": {
  "kernelspec": {
   "display_name": "Python 3",
   "language": "python",
   "name": "python3"
  },
  "language_info": {
   "codemirror_mode": {
    "name": "ipython",
    "version": 3
   },
   "file_extension": ".py",
   "mimetype": "text/x-python",
   "name": "python",
   "nbconvert_exporter": "python",
   "pygments_lexer": "ipython3",
   "version": "3.6.3"
  }
 },
 "nbformat": 4,
 "nbformat_minor": 2
}
