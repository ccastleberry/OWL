{
 "cells": [
  {
   "cell_type": "code",
   "execution_count": 1,
   "metadata": {
    "collapsed": true
   },
   "outputs": [],
   "source": [
    "match_id = \"2380\""
   ]
  },
  {
   "cell_type": "code",
   "execution_count": 2,
   "metadata": {},
   "outputs": [],
   "source": [
    "import MatchStats as ms\n",
    "import pandas as pd"
   ]
  },
  {
   "cell_type": "code",
   "execution_count": 3,
   "metadata": {},
   "outputs": [
    {
     "name": "stderr",
     "output_type": "stream",
     "text": [
      "DEBUG:urllib3.connectionpool:Starting new HTTPS connection (1): www.winstonslab.com\n",
      "DEBUG:urllib3.connectionpool:https://www.winstonslab.com:443 \"GET /matches/match.php?id=2380 HTTP/1.1\" 200 None\n",
      "DEBUG:root:mapbase = {'Match Id': '2380'}\n",
      "DEBUG:root:mapbase = {'Match Id': '2380', 'Date': '2018-01-11'}\n",
      "DEBUG:root:mapbase = {'Match Id': '2380', 'Date': '2018-01-11', 'Team A': 'DAL', 'Team B': 'SEO'}\n",
      "DEBUG:root:mp={'Match Id': '2380', 'Date': '2018-01-11', 'Team A': 'DAL', 'Team B': 'SEO', 'Map Name': 'Junkertown', 'Map Type': 'Escort', 'Winner': 'Team A'}\n",
      "DEBUG:root:mp={'Match Id': '2380', 'Date': '2018-01-11', 'Team A': 'DAL', 'Team B': 'SEO', 'Map Name': 'Temple of Anubis', 'Map Type': 'Assault', 'Winner': 'Team B'}\n",
      "DEBUG:root:mp={'Match Id': '2380', 'Date': '2018-01-11', 'Team A': 'DAL', 'Team B': 'SEO', 'Map Name': 'Ilios', 'Map Type': 'KOTH', 'Winner': 'Team B'}\n",
      "DEBUG:root:mp={'Match Id': '2380', 'Date': '2018-01-11', 'Team A': 'DAL', 'Team B': 'SEO', 'Map Name': 'Numbani', 'Map Type': 'Hybrid', 'Winner': 'Tie'}\n"
     ]
    }
   ],
   "source": [
    "df = ms.get_map_summary_data(match_id)"
   ]
  },
  {
   "cell_type": "code",
   "execution_count": 4,
   "metadata": {},
   "outputs": [
    {
     "data": {
      "text/html": [
       "<div>\n",
       "<style>\n",
       "    .dataframe thead tr:only-child th {\n",
       "        text-align: right;\n",
       "    }\n",
       "\n",
       "    .dataframe thead th {\n",
       "        text-align: left;\n",
       "    }\n",
       "\n",
       "    .dataframe tbody tr th {\n",
       "        vertical-align: top;\n",
       "    }\n",
       "</style>\n",
       "<table border=\"1\" class=\"dataframe\">\n",
       "  <thead>\n",
       "    <tr style=\"text-align: right;\">\n",
       "      <th></th>\n",
       "      <th>Date</th>\n",
       "      <th>Map Name</th>\n",
       "      <th>Map Type</th>\n",
       "      <th>Match Id</th>\n",
       "      <th>Team A</th>\n",
       "      <th>Team B</th>\n",
       "      <th>Winner</th>\n",
       "    </tr>\n",
       "  </thead>\n",
       "  <tbody>\n",
       "    <tr>\n",
       "      <th>0</th>\n",
       "      <td>2018-01-11</td>\n",
       "      <td>Junkertown</td>\n",
       "      <td>Escort</td>\n",
       "      <td>2380</td>\n",
       "      <td>DAL</td>\n",
       "      <td>SEO</td>\n",
       "      <td>Team A</td>\n",
       "    </tr>\n",
       "    <tr>\n",
       "      <th>1</th>\n",
       "      <td>2018-01-11</td>\n",
       "      <td>Temple of Anubis</td>\n",
       "      <td>Assault</td>\n",
       "      <td>2380</td>\n",
       "      <td>DAL</td>\n",
       "      <td>SEO</td>\n",
       "      <td>Team B</td>\n",
       "    </tr>\n",
       "    <tr>\n",
       "      <th>2</th>\n",
       "      <td>2018-01-11</td>\n",
       "      <td>Ilios</td>\n",
       "      <td>KOTH</td>\n",
       "      <td>2380</td>\n",
       "      <td>DAL</td>\n",
       "      <td>SEO</td>\n",
       "      <td>Team B</td>\n",
       "    </tr>\n",
       "    <tr>\n",
       "      <th>3</th>\n",
       "      <td>2018-01-11</td>\n",
       "      <td>Numbani</td>\n",
       "      <td>Hybrid</td>\n",
       "      <td>2380</td>\n",
       "      <td>DAL</td>\n",
       "      <td>SEO</td>\n",
       "      <td>Tie</td>\n",
       "    </tr>\n",
       "  </tbody>\n",
       "</table>\n",
       "</div>"
      ],
      "text/plain": [
       "         Date          Map Name Map Type Match Id Team A Team B  Winner\n",
       "0  2018-01-11        Junkertown   Escort     2380    DAL    SEO  Team A\n",
       "1  2018-01-11  Temple of Anubis  Assault     2380    DAL    SEO  Team B\n",
       "2  2018-01-11             Ilios     KOTH     2380    DAL    SEO  Team B\n",
       "3  2018-01-11           Numbani   Hybrid     2380    DAL    SEO     Tie"
      ]
     },
     "execution_count": 4,
     "metadata": {},
     "output_type": "execute_result"
    }
   ],
   "source": [
    "df.head()"
   ]
  },
  {
   "cell_type": "markdown",
   "metadata": {
    "collapsed": true
   },
   "source": [
    "# Get info from all matches"
   ]
  },
  {
   "cell_type": "code",
   "execution_count": 5,
   "metadata": {
    "collapsed": true
   },
   "outputs": [],
   "source": [
    "import time\n",
    "from bs4 import BeautifulSoup\n",
    "from pprint import pprint\n",
    "import requests"
   ]
  },
  {
   "cell_type": "code",
   "execution_count": 6,
   "metadata": {
    "collapsed": true
   },
   "outputs": [],
   "source": [
    "MATCH_LIST_URL = \"https://www.winstonslab.com/events/event.php?id=86#matches\""
   ]
  },
  {
   "cell_type": "code",
   "execution_count": 7,
   "metadata": {
    "scrolled": true
   },
   "outputs": [
    {
     "name": "stderr",
     "output_type": "stream",
     "text": [
      "DEBUG:urllib3.connectionpool:Starting new HTTPS connection (1): www.winstonslab.com\n",
      "DEBUG:urllib3.connectionpool:https://www.winstonslab.com:443 \"GET /events/event.php?id=86 HTTP/1.1\" 200 None\n"
     ]
    }
   ],
   "source": [
    "response = requests.get(MATCH_LIST_URL)\n",
    "html = BeautifulSoup(response.text, \"lxml\")"
   ]
  },
  {
   "cell_type": "code",
   "execution_count": 8,
   "metadata": {
    "collapsed": true
   },
   "outputs": [],
   "source": [
    "past_div = html.find(\"div\", {\"id\": \"past\"})\n",
    "table_body = past_div.find(\"table\").find(\"tbody\")\n",
    "rows = table_body.findAll(\"tr\")"
   ]
  },
  {
   "cell_type": "markdown",
   "metadata": {},
   "source": [
    "## Going through single matches"
   ]
  },
  {
   "cell_type": "code",
   "execution_count": 9,
   "metadata": {
    "collapsed": true
   },
   "outputs": [],
   "source": [
    "df_list = []"
   ]
  },
  {
   "cell_type": "code",
   "execution_count": 10,
   "metadata": {
    "scrolled": true
   },
   "outputs": [
    {
     "name": "stderr",
     "output_type": "stream",
     "text": [
      "DEBUG:urllib3.connectionpool:Starting new HTTPS connection (1): www.winstonslab.com\n",
      "DEBUG:urllib3.connectionpool:https://www.winstonslab.com:443 \"GET /matches/match.php?id=2419 HTTP/1.1\" 200 None\n",
      "DEBUG:root:mapbase = {'Match Id': '2419'}\n",
      "DEBUG:root:mapbase = {'Match Id': '2419', 'Date': '2018-01-25'}\n",
      "DEBUG:root:mapbase = {'Match Id': '2419', 'Date': '2018-01-25', 'Team A': 'GLA', 'Team B': 'VAL'}\n",
      "DEBUG:root:mp={'Match Id': '2419', 'Date': '2018-01-25', 'Team A': 'GLA', 'Team B': 'VAL', 'Map Name': 'Eichenwalde', 'Map Type': 'Hybrid', 'Winner': 'Team A'}\n",
      "DEBUG:root:mp={'Match Id': '2419', 'Date': '2018-01-25', 'Team A': 'GLA', 'Team B': 'VAL', 'Map Name': 'Horizon Lunar Colony', 'Map Type': 'Assault', 'Winner': 'Team A'}\n",
      "DEBUG:root:mp={'Match Id': '2419', 'Date': '2018-01-25', 'Team A': 'GLA', 'Team B': 'VAL', 'Map Name': 'Ilios', 'Map Type': 'KOTH', 'Winner': 'Team B'}\n",
      "DEBUG:root:mp={'Match Id': '2419', 'Date': '2018-01-25', 'Team A': 'GLA', 'Team B': 'VAL', 'Map Name': 'Junkertown', 'Map Type': 'Escort', 'Winner': 'Team B'}\n",
      "DEBUG:root:mp={'Match Id': '2419', 'Date': '2018-01-25', 'Team A': 'GLA', 'Team B': 'VAL', 'Map Name': 'Lijiang Tower', 'Map Type': 'KOTH', 'Winner': 'Team B'}\n",
      "DEBUG:urllib3.connectionpool:Starting new HTTPS connection (1): www.winstonslab.com\n",
      "DEBUG:urllib3.connectionpool:https://www.winstonslab.com:443 \"GET /matches/match.php?id=2418 HTTP/1.1\" 200 None\n",
      "DEBUG:root:mapbase = {'Match Id': '2418'}\n",
      "DEBUG:root:mapbase = {'Match Id': '2418', 'Date': '2018-01-25'}\n",
      "DEBUG:root:mapbase = {'Match Id': '2418', 'Date': '2018-01-25', 'Team A': 'SHD', 'Team B': 'SEO'}\n",
      "DEBUG:root:mp={'Match Id': '2418', 'Date': '2018-01-25', 'Team A': 'SHD', 'Team B': 'SEO', 'Map Name': 'Numbani', 'Map Type': 'Hybrid', 'Winner': 'Team B'}\n",
      "DEBUG:root:mp={'Match Id': '2418', 'Date': '2018-01-25', 'Team A': 'SHD', 'Team B': 'SEO', 'Map Name': 'Temple of Anubis', 'Map Type': 'Assault', 'Winner': 'Team B'}\n",
      "DEBUG:root:mp={'Match Id': '2418', 'Date': '2018-01-25', 'Team A': 'SHD', 'Team B': 'SEO', 'Map Name': 'Oasis', 'Map Type': 'KOTH', 'Winner': 'Team B'}\n",
      "DEBUG:root:mp={'Match Id': '2418', 'Date': '2018-01-25', 'Team A': 'SHD', 'Team B': 'SEO', 'Map Name': 'Dorado', 'Map Type': 'Escort', 'Winner': 'Team A'}\n",
      "DEBUG:urllib3.connectionpool:Starting new HTTPS connection (1): www.winstonslab.com\n",
      "DEBUG:urllib3.connectionpool:https://www.winstonslab.com:443 \"GET /matches/match.php?id=2417 HTTP/1.1\" 200 None\n",
      "DEBUG:root:mapbase = {'Match Id': '2417'}\n",
      "DEBUG:root:mapbase = {'Match Id': '2417', 'Date': '2018-01-25'}\n",
      "DEBUG:root:mapbase = {'Match Id': '2417', 'Date': '2018-01-25', 'Team A': 'SFS', 'Team B': 'LDN'}\n",
      "DEBUG:root:mp={'Match Id': '2417', 'Date': '2018-01-25', 'Team A': 'SFS', 'Team B': 'LDN', 'Map Name': 'Eichenwalde', 'Map Type': 'Hybrid', 'Winner': 'Team B'}\n",
      "DEBUG:root:mp={'Match Id': '2417', 'Date': '2018-01-25', 'Team A': 'SFS', 'Team B': 'LDN', 'Map Name': 'Horizon Lunar Colony', 'Map Type': 'Assault', 'Winner': 'Team B'}\n",
      "DEBUG:root:mp={'Match Id': '2417', 'Date': '2018-01-25', 'Team A': 'SFS', 'Team B': 'LDN', 'Map Name': 'Oasis', 'Map Type': 'KOTH', 'Winner': 'Team A'}\n",
      "DEBUG:root:mp={'Match Id': '2417', 'Date': '2018-01-25', 'Team A': 'SFS', 'Team B': 'LDN', 'Map Name': 'Junkertown', 'Map Type': 'Escort', 'Winner': 'Team B'}\n",
      "DEBUG:urllib3.connectionpool:Starting new HTTPS connection (1): www.winstonslab.com\n",
      "DEBUG:urllib3.connectionpool:https://www.winstonslab.com:443 \"GET /matches/match.php?id=2416 HTTP/1.1\" 200 None\n",
      "DEBUG:root:mapbase = {'Match Id': '2416'}\n",
      "DEBUG:root:mapbase = {'Match Id': '2416', 'Date': '2018-01-20'}\n",
      "DEBUG:root:mapbase = {'Match Id': '2416', 'Date': '2018-01-20', 'Team A': 'BOS', 'Team B': 'SFS'}\n",
      "DEBUG:root:mp={'Match Id': '2416', 'Date': '2018-01-20', 'Team A': 'BOS', 'Team B': 'SFS', 'Map Name': 'Dorado', 'Map Type': 'Escort', 'Winner': 'Team B'}\n",
      "DEBUG:root:mp={'Match Id': '2416', 'Date': '2018-01-20', 'Team A': 'BOS', 'Team B': 'SFS', 'Map Name': 'Horizon Lunar Colony', 'Map Type': 'Assault', 'Winner': 'Team A'}\n",
      "DEBUG:root:mp={'Match Id': '2416', 'Date': '2018-01-20', 'Team A': 'BOS', 'Team B': 'SFS', 'Map Name': 'Oasis', 'Map Type': 'KOTH', 'Winner': 'Team B'}\n",
      "DEBUG:root:mp={'Match Id': '2416', 'Date': '2018-01-20', 'Team A': 'BOS', 'Team B': 'SFS', 'Map Name': 'Eichenwalde', 'Map Type': 'Hybrid', 'Winner': 'Team A'}\n",
      "DEBUG:root:mp={'Match Id': '2416', 'Date': '2018-01-20', 'Team A': 'BOS', 'Team B': 'SFS', 'Map Name': 'Lijiang Tower', 'Map Type': 'KOTH', 'Winner': 'Team B'}\n",
      "DEBUG:urllib3.connectionpool:Starting new HTTPS connection (1): www.winstonslab.com\n",
      "DEBUG:urllib3.connectionpool:https://www.winstonslab.com:443 \"GET /matches/match.php?id=2415 HTTP/1.1\" 200 None\n",
      "DEBUG:root:mapbase = {'Match Id': '2415'}\n",
      "DEBUG:root:mapbase = {'Match Id': '2415', 'Date': '2018-01-20'}\n",
      "DEBUG:root:mapbase = {'Match Id': '2415', 'Date': '2018-01-20', 'Team A': 'GLA', 'Team B': 'NYE'}\n",
      "DEBUG:root:mp={'Match Id': '2415', 'Date': '2018-01-20', 'Team A': 'GLA', 'Team B': 'NYE', 'Map Name': 'Dorado', 'Map Type': 'Escort', 'Winner': 'Team B'}\n",
      "DEBUG:root:mp={'Match Id': '2415', 'Date': '2018-01-20', 'Team A': 'GLA', 'Team B': 'NYE', 'Map Name': 'Horizon Lunar Colony', 'Map Type': 'Assault', 'Winner': 'Team B'}\n",
      "DEBUG:root:mp={'Match Id': '2415', 'Date': '2018-01-20', 'Team A': 'GLA', 'Team B': 'NYE', 'Map Name': 'Oasis', 'Map Type': 'KOTH', 'Winner': 'Team B'}\n",
      "DEBUG:root:mp={'Match Id': '2415', 'Date': '2018-01-20', 'Team A': 'GLA', 'Team B': 'NYE', 'Map Name': 'Eichenwalde', 'Map Type': 'Hybrid', 'Winner': 'Team B'}\n",
      "DEBUG:urllib3.connectionpool:Starting new HTTPS connection (1): www.winstonslab.com\n",
      "DEBUG:urllib3.connectionpool:https://www.winstonslab.com:443 \"GET /matches/match.php?id=2414 HTTP/1.1\" 200 None\n",
      "DEBUG:root:mapbase = {'Match Id': '2414'}\n",
      "DEBUG:root:mapbase = {'Match Id': '2414', 'Date': '2018-01-20'}\n",
      "DEBUG:root:mapbase = {'Match Id': '2414', 'Date': '2018-01-20', 'Team A': 'VAL', 'Team B': 'LDN'}\n",
      "DEBUG:root:mp={'Match Id': '2414', 'Date': '2018-01-20', 'Team A': 'VAL', 'Team B': 'LDN', 'Map Name': 'Dorado', 'Map Type': 'Escort', 'Winner': 'Team B'}\n",
      "DEBUG:root:mp={'Match Id': '2414', 'Date': '2018-01-20', 'Team A': 'VAL', 'Team B': 'LDN', 'Map Name': 'Horizon Lunar Colony', 'Map Type': 'Assault', 'Winner': 'Team B'}\n",
      "DEBUG:root:mp={'Match Id': '2414', 'Date': '2018-01-20', 'Team A': 'VAL', 'Team B': 'LDN', 'Map Name': 'Oasis', 'Map Type': 'KOTH', 'Winner': 'Team A'}\n",
      "DEBUG:root:mp={'Match Id': '2414', 'Date': '2018-01-20', 'Team A': 'VAL', 'Team B': 'LDN', 'Map Name': 'Eichenwalde', 'Map Type': 'Hybrid', 'Winner': 'Team A'}\n",
      "DEBUG:root:mp={'Match Id': '2414', 'Date': '2018-01-20', 'Team A': 'VAL', 'Team B': 'LDN', 'Map Name': 'Lijiang Tower', 'Map Type': 'KOTH', 'Winner': 'Team B'}\n",
      "DEBUG:urllib3.connectionpool:Starting new HTTPS connection (1): www.winstonslab.com\n",
      "DEBUG:urllib3.connectionpool:https://www.winstonslab.com:443 \"GET /matches/match.php?id=2413 HTTP/1.1\" 200 None\n",
      "DEBUG:root:mapbase = {'Match Id': '2413'}\n",
      "DEBUG:root:mapbase = {'Match Id': '2413', 'Date': '2018-01-20'}\n",
      "DEBUG:root:mapbase = {'Match Id': '2413', 'Date': '2018-01-20', 'Team A': 'LDN', 'Team B': 'DAL'}\n",
      "DEBUG:root:mp={'Match Id': '2413', 'Date': '2018-01-20', 'Team A': 'LDN', 'Team B': 'DAL', 'Map Name': 'Junkertown', 'Map Type': 'Escort', 'Winner': 'Team A'}\n",
      "DEBUG:root:mp={'Match Id': '2413', 'Date': '2018-01-20', 'Team A': 'LDN', 'Team B': 'DAL', 'Map Name': 'Horizon Lunar Colony', 'Map Type': 'Assault', 'Winner': 'Team A'}\n",
      "DEBUG:root:mp={'Match Id': '2413', 'Date': '2018-01-20', 'Team A': 'LDN', 'Team B': 'DAL', 'Map Name': 'Oasis', 'Map Type': 'KOTH', 'Winner': 'Team B'}\n",
      "DEBUG:root:mp={'Match Id': '2413', 'Date': '2018-01-20', 'Team A': 'LDN', 'Team B': 'DAL', 'Map Name': 'Numbani', 'Map Type': 'Hybrid', 'Winner': 'Team A'}\n",
      "DEBUG:urllib3.connectionpool:Starting new HTTPS connection (1): www.winstonslab.com\n",
      "DEBUG:urllib3.connectionpool:https://www.winstonslab.com:443 \"GET /matches/match.php?id=2412 HTTP/1.1\" 200 None\n",
      "DEBUG:root:mapbase = {'Match Id': '2412'}\n",
      "DEBUG:root:mapbase = {'Match Id': '2412', 'Date': '2018-01-20'}\n",
      "DEBUG:root:mapbase = {'Match Id': '2412', 'Date': '2018-01-20', 'Team A': 'SHD', 'Team B': 'FLA'}\n",
      "DEBUG:root:mp={'Match Id': '2412', 'Date': '2018-01-20', 'Team A': 'SHD', 'Team B': 'FLA', 'Map Name': 'Dorado', 'Map Type': 'Escort', 'Winner': 'Team B'}\n"
     ]
    },
    {
     "name": "stderr",
     "output_type": "stream",
     "text": [
      "DEBUG:root:mp={'Match Id': '2412', 'Date': '2018-01-20', 'Team A': 'SHD', 'Team B': 'FLA', 'Map Name': 'Temple of Anubis', 'Map Type': 'Assault', 'Winner': 'Team B'}\n",
      "DEBUG:root:mp={'Match Id': '2412', 'Date': '2018-01-20', 'Team A': 'SHD', 'Team B': 'FLA', 'Map Name': 'Ilios', 'Map Type': 'KOTH', 'Winner': 'Team B'}\n",
      "DEBUG:root:mp={'Match Id': '2412', 'Date': '2018-01-20', 'Team A': 'SHD', 'Team B': 'FLA', 'Map Name': 'Numbani', 'Map Type': 'Hybrid', 'Winner': 'Team B'}\n",
      "DEBUG:urllib3.connectionpool:Starting new HTTPS connection (1): www.winstonslab.com\n",
      "DEBUG:urllib3.connectionpool:https://www.winstonslab.com:443 \"GET /matches/match.php?id=2411 HTTP/1.1\" 200 None\n",
      "DEBUG:root:mapbase = {'Match Id': '2411'}\n",
      "DEBUG:root:mapbase = {'Match Id': '2411', 'Date': '2018-01-20'}\n",
      "DEBUG:root:mapbase = {'Match Id': '2411', 'Date': '2018-01-20', 'Team A': 'SEO', 'Team B': 'BOS'}\n",
      "DEBUG:root:mp={'Match Id': '2411', 'Date': '2018-01-20', 'Team A': 'SEO', 'Team B': 'BOS', 'Map Name': 'Junkertown', 'Map Type': 'Escort', 'Winner': 'Team A'}\n",
      "DEBUG:root:mp={'Match Id': '2411', 'Date': '2018-01-20', 'Team A': 'SEO', 'Team B': 'BOS', 'Map Name': 'Horizon Lunar Colony', 'Map Type': 'Assault', 'Winner': 'Team A'}\n",
      "DEBUG:root:mp={'Match Id': '2411', 'Date': '2018-01-20', 'Team A': 'SEO', 'Team B': 'BOS', 'Map Name': 'Oasis', 'Map Type': 'KOTH', 'Winner': 'Team A'}\n",
      "DEBUG:root:mp={'Match Id': '2411', 'Date': '2018-01-20', 'Team A': 'SEO', 'Team B': 'BOS', 'Map Name': 'Numbani', 'Map Type': 'Hybrid', 'Winner': 'Team A'}\n",
      "DEBUG:urllib3.connectionpool:Starting new HTTPS connection (1): www.winstonslab.com\n",
      "DEBUG:urllib3.connectionpool:https://www.winstonslab.com:443 \"GET /matches/match.php?id=2410 HTTP/1.1\" 200 None\n",
      "DEBUG:root:mapbase = {'Match Id': '2410'}\n",
      "DEBUG:root:mapbase = {'Match Id': '2410', 'Date': '2018-01-19'}\n",
      "DEBUG:root:mapbase = {'Match Id': '2410', 'Date': '2018-01-19', 'Team A': 'PHI', 'Team B': 'GLA'}\n",
      "DEBUG:root:mp={'Match Id': '2410', 'Date': '2018-01-19', 'Team A': 'PHI', 'Team B': 'GLA', 'Map Name': 'Junkertown', 'Map Type': 'Escort', 'Winner': 'Team A'}\n",
      "DEBUG:root:mp={'Match Id': '2410', 'Date': '2018-01-19', 'Team A': 'PHI', 'Team B': 'GLA', 'Map Name': 'Temple of Anubis', 'Map Type': 'Assault', 'Winner': 'Team A'}\n",
      "DEBUG:root:mp={'Match Id': '2410', 'Date': '2018-01-19', 'Team A': 'PHI', 'Team B': 'GLA', 'Map Name': 'Ilios', 'Map Type': 'KOTH', 'Winner': 'Team B'}\n",
      "DEBUG:root:mp={'Match Id': '2410', 'Date': '2018-01-19', 'Team A': 'PHI', 'Team B': 'GLA', 'Map Name': 'Numbani', 'Map Type': 'Hybrid', 'Winner': 'Team B'}\n",
      "DEBUG:root:mp={'Match Id': '2410', 'Date': '2018-01-19', 'Team A': 'PHI', 'Team B': 'GLA', 'Map Name': 'Lijiang Tower', 'Map Type': 'KOTH', 'Winner': 'Team B'}\n",
      "DEBUG:urllib3.connectionpool:Starting new HTTPS connection (1): www.winstonslab.com\n",
      "DEBUG:urllib3.connectionpool:https://www.winstonslab.com:443 \"GET /matches/match.php?id=2409 HTTP/1.1\" 200 None\n",
      "DEBUG:root:mapbase = {'Match Id': '2409'}\n",
      "DEBUG:root:mapbase = {'Match Id': '2409', 'Date': '2018-01-19'}\n",
      "DEBUG:root:mapbase = {'Match Id': '2409', 'Date': '2018-01-19', 'Team A': 'NYE', 'Team B': 'VAL'}\n",
      "DEBUG:root:mp={'Match Id': '2409', 'Date': '2018-01-19', 'Team A': 'NYE', 'Team B': 'VAL', 'Map Name': 'Junkertown', 'Map Type': 'Escort', 'Winner': 'Team A'}\n",
      "DEBUG:root:mp={'Match Id': '2409', 'Date': '2018-01-19', 'Team A': 'NYE', 'Team B': 'VAL', 'Map Name': 'Horizon Lunar Colony', 'Map Type': 'Assault', 'Winner': 'Team A'}\n",
      "DEBUG:root:mp={'Match Id': '2409', 'Date': '2018-01-19', 'Team A': 'NYE', 'Team B': 'VAL', 'Map Name': 'Oasis', 'Map Type': 'KOTH', 'Winner': 'Team A'}\n",
      "DEBUG:root:mp={'Match Id': '2409', 'Date': '2018-01-19', 'Team A': 'NYE', 'Team B': 'VAL', 'Map Name': 'Numbani', 'Map Type': 'Hybrid', 'Winner': 'Tie'}\n",
      "DEBUG:urllib3.connectionpool:Starting new HTTPS connection (1): www.winstonslab.com\n",
      "DEBUG:urllib3.connectionpool:https://www.winstonslab.com:443 \"GET /matches/match.php?id=2408 HTTP/1.1\" 200 None\n",
      "DEBUG:root:mapbase = {'Match Id': '2408'}\n",
      "DEBUG:root:mapbase = {'Match Id': '2408', 'Date': '2018-01-18'}\n",
      "DEBUG:root:mapbase = {'Match Id': '2408', 'Date': '2018-01-18', 'Team A': 'DAL', 'Team B': 'HOU'}\n",
      "DEBUG:root:mp={'Match Id': '2408', 'Date': '2018-01-18', 'Team A': 'DAL', 'Team B': 'HOU', 'Map Name': 'Junkertown', 'Map Type': 'Escort', 'Winner': 'Team B'}\n",
      "DEBUG:root:mp={'Match Id': '2408', 'Date': '2018-01-18', 'Team A': 'DAL', 'Team B': 'HOU', 'Map Name': 'Horizon Lunar Colony', 'Map Type': 'Assault', 'Winner': 'Team B'}\n",
      "DEBUG:root:mp={'Match Id': '2408', 'Date': '2018-01-18', 'Team A': 'DAL', 'Team B': 'HOU', 'Map Name': 'Oasis', 'Map Type': 'KOTH', 'Winner': 'Team B'}\n",
      "DEBUG:root:mp={'Match Id': '2408', 'Date': '2018-01-18', 'Team A': 'DAL', 'Team B': 'HOU', 'Map Name': 'Eichenwalde', 'Map Type': 'Hybrid', 'Winner': 'Team B'}\n",
      "DEBUG:urllib3.connectionpool:Starting new HTTPS connection (1): www.winstonslab.com\n",
      "DEBUG:urllib3.connectionpool:https://www.winstonslab.com:443 \"GET /matches/match.php?id=2407 HTTP/1.1\" 200 None\n",
      "DEBUG:root:mapbase = {'Match Id': '2407'}\n",
      "DEBUG:root:mapbase = {'Match Id': '2407', 'Date': '2018-01-18'}\n",
      "DEBUG:root:mapbase = {'Match Id': '2407', 'Date': '2018-01-18', 'Team A': 'HOU', 'Team B': 'SHD'}\n",
      "DEBUG:root:mp={'Match Id': '2407', 'Date': '2018-01-18', 'Team A': 'HOU', 'Team B': 'SHD', 'Map Name': 'Junkertown', 'Map Type': 'Escort', 'Winner': 'Team A'}\n",
      "DEBUG:root:mp={'Match Id': '2407', 'Date': '2018-01-18', 'Team A': 'HOU', 'Team B': 'SHD', 'Map Name': 'Horizon Lunar Colony', 'Map Type': 'Assault', 'Winner': 'Team A'}\n",
      "DEBUG:root:mp={'Match Id': '2407', 'Date': '2018-01-18', 'Team A': 'HOU', 'Team B': 'SHD', 'Map Name': 'Oasis', 'Map Type': 'KOTH', 'Winner': 'Team A'}\n",
      "DEBUG:root:mp={'Match Id': '2407', 'Date': '2018-01-18', 'Team A': 'HOU', 'Team B': 'SHD', 'Map Name': 'Numbani', 'Map Type': 'Hybrid', 'Winner': 'Team A'}\n",
      "DEBUG:urllib3.connectionpool:Starting new HTTPS connection (1): www.winstonslab.com\n",
      "DEBUG:urllib3.connectionpool:https://www.winstonslab.com:443 \"GET /matches/match.php?id=2406 HTTP/1.1\" 200 None\n",
      "DEBUG:root:mapbase = {'Match Id': '2406'}\n",
      "DEBUG:root:mapbase = {'Match Id': '2406', 'Date': '2018-01-18'}\n",
      "DEBUG:root:mapbase = {'Match Id': '2406', 'Date': '2018-01-18', 'Team A': 'FLA', 'Team B': 'SEO'}\n",
      "DEBUG:root:mp={'Match Id': '2406', 'Date': '2018-01-18', 'Team A': 'FLA', 'Team B': 'SEO', 'Map Name': 'Dorado', 'Map Type': 'Escort', 'Winner': 'Team B'}\n",
      "DEBUG:root:mp={'Match Id': '2406', 'Date': '2018-01-18', 'Team A': 'FLA', 'Team B': 'SEO', 'Map Name': 'Horizon Lunar Colony', 'Map Type': 'Assault', 'Winner': 'Team B'}\n",
      "DEBUG:root:mp={'Match Id': '2406', 'Date': '2018-01-18', 'Team A': 'FLA', 'Team B': 'SEO', 'Map Name': 'Oasis', 'Map Type': 'KOTH', 'Winner': 'Team B'}\n",
      "DEBUG:root:mp={'Match Id': '2406', 'Date': '2018-01-18', 'Team A': 'FLA', 'Team B': 'SEO', 'Map Name': 'Eichenwalde', 'Map Type': 'Hybrid', 'Winner': 'Team B'}\n",
      "DEBUG:urllib3.connectionpool:Starting new HTTPS connection (1): www.winstonslab.com\n",
      "DEBUG:urllib3.connectionpool:https://www.winstonslab.com:443 \"GET /matches/match.php?id=2405 HTTP/1.1\" 200 None\n",
      "DEBUG:root:mapbase = {'Match Id': '2405'}\n",
      "DEBUG:root:mapbase = {'Match Id': '2405', 'Date': '2018-01-18'}\n",
      "DEBUG:root:mapbase = {'Match Id': '2405', 'Date': '2018-01-18', 'Team A': 'SFS', 'Team B': 'PHI'}\n",
      "DEBUG:root:mp={'Match Id': '2405', 'Date': '2018-01-18', 'Team A': 'SFS', 'Team B': 'PHI', 'Map Name': 'Dorado', 'Map Type': 'Escort', 'Winner': 'Team A'}\n",
      "DEBUG:root:mp={'Match Id': '2405', 'Date': '2018-01-18', 'Team A': 'SFS', 'Team B': 'PHI', 'Map Name': 'Temple of Anubis', 'Map Type': 'Assault', 'Winner': 'Team B'}\n",
      "DEBUG:root:mp={'Match Id': '2405', 'Date': '2018-01-18', 'Team A': 'SFS', 'Team B': 'PHI', 'Map Name': 'Oasis', 'Map Type': 'KOTH', 'Winner': 'Team B'}\n",
      "DEBUG:root:mp={'Match Id': '2405', 'Date': '2018-01-18', 'Team A': 'SFS', 'Team B': 'PHI', 'Map Name': 'Eichenwalde', 'Map Type': 'Hybrid', 'Winner': 'Tie'}\n",
      "DEBUG:urllib3.connectionpool:Starting new HTTPS connection (1): www.winstonslab.com\n",
      "DEBUG:urllib3.connectionpool:https://www.winstonslab.com:443 \"GET /matches/match.php?id=2404 HTTP/1.1\" 200 None\n",
      "DEBUG:root:mapbase = {'Match Id': '2404'}\n",
      "DEBUG:root:mapbase = {'Match Id': '2404', 'Date': '2018-01-13'}\n",
      "DEBUG:root:mapbase = {'Match Id': '2404', 'Date': '2018-01-13', 'Team A': 'SEO', 'Team B': 'GLA'}\n"
     ]
    },
    {
     "name": "stderr",
     "output_type": "stream",
     "text": [
      "DEBUG:root:mp={'Match Id': '2404', 'Date': '2018-01-13', 'Team A': 'SEO', 'Team B': 'GLA', 'Map Name': 'Junkertown', 'Map Type': 'Escort', 'Winner': 'Team A'}\n",
      "DEBUG:root:mp={'Match Id': '2404', 'Date': '2018-01-13', 'Team A': 'SEO', 'Team B': 'GLA', 'Map Name': 'Horizon Lunar Colony', 'Map Type': 'Assault', 'Winner': 'Team A'}\n",
      "DEBUG:root:mp={'Match Id': '2404', 'Date': '2018-01-13', 'Team A': 'SEO', 'Team B': 'GLA', 'Map Name': 'Ilios', 'Map Type': 'KOTH', 'Winner': 'Team A'}\n",
      "DEBUG:root:mp={'Match Id': '2404', 'Date': '2018-01-13', 'Team A': 'SEO', 'Team B': 'GLA', 'Map Name': 'Numbani', 'Map Type': 'Hybrid', 'Winner': 'Team A'}\n",
      "DEBUG:urllib3.connectionpool:Starting new HTTPS connection (1): www.winstonslab.com\n",
      "DEBUG:urllib3.connectionpool:https://www.winstonslab.com:443 \"GET /matches/match.php?id=2403 HTTP/1.1\" 200 None\n",
      "DEBUG:root:mapbase = {'Match Id': '2403'}\n",
      "DEBUG:root:mapbase = {'Match Id': '2403', 'Date': '2018-01-13'}\n",
      "DEBUG:root:mapbase = {'Match Id': '2403', 'Date': '2018-01-13', 'Team A': 'NYE', 'Team B': 'HOU'}\n",
      "DEBUG:root:mp={'Match Id': '2403', 'Date': '2018-01-13', 'Team A': 'NYE', 'Team B': 'HOU', 'Map Name': 'Junkertown', 'Map Type': 'Escort', 'Winner': 'Team B'}\n",
      "DEBUG:root:mp={'Match Id': '2403', 'Date': '2018-01-13', 'Team A': 'NYE', 'Team B': 'HOU', 'Map Name': 'Temple of Anubis', 'Map Type': 'Assault', 'Winner': 'Team A'}\n",
      "DEBUG:root:mp={'Match Id': '2403', 'Date': '2018-01-13', 'Team A': 'NYE', 'Team B': 'HOU', 'Map Name': 'Ilios', 'Map Type': 'KOTH', 'Winner': 'Team A'}\n",
      "DEBUG:root:mp={'Match Id': '2403', 'Date': '2018-01-13', 'Team A': 'NYE', 'Team B': 'HOU', 'Map Name': 'Numbani', 'Map Type': 'Hybrid', 'Winner': 'Team A'}\n",
      "DEBUG:urllib3.connectionpool:Starting new HTTPS connection (1): www.winstonslab.com\n",
      "DEBUG:urllib3.connectionpool:https://www.winstonslab.com:443 \"GET /matches/match.php?id=2402 HTTP/1.1\" 200 None\n",
      "DEBUG:root:mapbase = {'Match Id': '2402'}\n",
      "DEBUG:root:mapbase = {'Match Id': '2402', 'Date': '2018-01-13'}\n",
      "DEBUG:root:mapbase = {'Match Id': '2402', 'Date': '2018-01-13', 'Team A': 'LDN', 'Team B': 'PHI'}\n",
      "DEBUG:root:mp={'Match Id': '2402', 'Date': '2018-01-13', 'Team A': 'LDN', 'Team B': 'PHI', 'Map Name': 'Junkertown', 'Map Type': 'Escort', 'Winner': 'Team A'}\n",
      "DEBUG:root:mp={'Match Id': '2402', 'Date': '2018-01-13', 'Team A': 'LDN', 'Team B': 'PHI', 'Map Name': 'Horizon Lunar Colony', 'Map Type': 'Assault', 'Winner': 'Team A'}\n",
      "DEBUG:root:mp={'Match Id': '2402', 'Date': '2018-01-13', 'Team A': 'LDN', 'Team B': 'PHI', 'Map Name': 'Ilios', 'Map Type': 'KOTH', 'Winner': 'Team A'}\n",
      "DEBUG:root:mp={'Match Id': '2402', 'Date': '2018-01-13', 'Team A': 'LDN', 'Team B': 'PHI', 'Map Name': 'Numbani', 'Map Type': 'Hybrid', 'Winner': 'Team A'}\n",
      "DEBUG:urllib3.connectionpool:Starting new HTTPS connection (1): www.winstonslab.com\n",
      "DEBUG:urllib3.connectionpool:https://www.winstonslab.com:443 \"GET /matches/match.php?id=2401 HTTP/1.1\" 200 None\n",
      "DEBUG:root:mapbase = {'Match Id': '2401'}\n",
      "DEBUG:root:mapbase = {'Match Id': '2401', 'Date': '2018-01-13'}\n",
      "DEBUG:root:mapbase = {'Match Id': '2401', 'Date': '2018-01-13', 'Team A': 'SFS', 'Team B': 'SHD'}\n",
      "DEBUG:root:mp={'Match Id': '2401', 'Date': '2018-01-13', 'Team A': 'SFS', 'Team B': 'SHD', 'Map Name': 'Junkertown', 'Map Type': 'Escort', 'Winner': 'Team A'}\n",
      "DEBUG:root:mp={'Match Id': '2401', 'Date': '2018-01-13', 'Team A': 'SFS', 'Team B': 'SHD', 'Map Name': 'Horizon Lunar Colony', 'Map Type': 'Assault', 'Winner': 'Team B'}\n",
      "DEBUG:root:mp={'Match Id': '2401', 'Date': '2018-01-13', 'Team A': 'SFS', 'Team B': 'SHD', 'Map Name': 'Ilios', 'Map Type': 'KOTH', 'Winner': 'Team A'}\n",
      "DEBUG:root:mp={'Match Id': '2401', 'Date': '2018-01-13', 'Team A': 'SFS', 'Team B': 'SHD', 'Map Name': 'Numbani', 'Map Type': 'Hybrid', 'Winner': 'Team A'}\n",
      "DEBUG:urllib3.connectionpool:Starting new HTTPS connection (1): www.winstonslab.com\n",
      "DEBUG:urllib3.connectionpool:https://www.winstonslab.com:443 \"GET /matches/match.php?id=2400 HTTP/1.1\" 200 None\n",
      "DEBUG:root:mapbase = {'Match Id': '2400'}\n",
      "DEBUG:root:mapbase = {'Match Id': '2400', 'Date': '2018-01-13'}\n",
      "DEBUG:root:mapbase = {'Match Id': '2400', 'Date': '2018-01-13', 'Team A': 'FLA', 'Team B': 'BOS'}\n",
      "DEBUG:root:mp={'Match Id': '2400', 'Date': '2018-01-13', 'Team A': 'FLA', 'Team B': 'BOS', 'Map Name': 'Dorado', 'Map Type': 'Escort', 'Winner': 'Team B'}\n",
      "DEBUG:root:mp={'Match Id': '2400', 'Date': '2018-01-13', 'Team A': 'FLA', 'Team B': 'BOS', 'Map Name': 'Temple of Anubis', 'Map Type': 'Assault', 'Winner': 'Team B'}\n",
      "DEBUG:root:mp={'Match Id': '2400', 'Date': '2018-01-13', 'Team A': 'FLA', 'Team B': 'BOS', 'Map Name': 'Oasis', 'Map Type': 'KOTH', 'Winner': 'Team B'}\n",
      "DEBUG:root:mp={'Match Id': '2400', 'Date': '2018-01-13', 'Team A': 'FLA', 'Team B': 'BOS', 'Map Name': 'Eichenwalde', 'Map Type': 'Hybrid', 'Winner': 'Team B'}\n",
      "DEBUG:urllib3.connectionpool:Starting new HTTPS connection (1): www.winstonslab.com\n",
      "DEBUG:urllib3.connectionpool:https://www.winstonslab.com:443 \"GET /matches/match.php?id=2399 HTTP/1.1\" 200 None\n",
      "DEBUG:root:mapbase = {'Match Id': '2399'}\n",
      "DEBUG:root:mapbase = {'Match Id': '2399', 'Date': '2018-01-13'}\n",
      "DEBUG:root:mapbase = {'Match Id': '2399', 'Date': '2018-01-13', 'Team A': 'VAL', 'Team B': 'DAL'}\n",
      "DEBUG:root:mp={'Match Id': '2399', 'Date': '2018-01-13', 'Team A': 'VAL', 'Team B': 'DAL', 'Map Name': 'Junkertown', 'Map Type': 'Escort', 'Winner': 'Team A'}\n",
      "DEBUG:root:mp={'Match Id': '2399', 'Date': '2018-01-13', 'Team A': 'VAL', 'Team B': 'DAL', 'Map Name': 'Horizon Lunar Colony', 'Map Type': 'Assault', 'Winner': 'Tie'}\n",
      "DEBUG:root:mp={'Match Id': '2399', 'Date': '2018-01-13', 'Team A': 'VAL', 'Team B': 'DAL', 'Map Name': 'Ilios', 'Map Type': 'KOTH', 'Winner': 'Team A'}\n",
      "DEBUG:root:mp={'Match Id': '2399', 'Date': '2018-01-13', 'Team A': 'VAL', 'Team B': 'DAL', 'Map Name': 'Numbani', 'Map Type': 'Hybrid', 'Winner': 'Team A'}\n",
      "DEBUG:urllib3.connectionpool:Starting new HTTPS connection (1): www.winstonslab.com\n",
      "DEBUG:urllib3.connectionpool:https://www.winstonslab.com:443 \"GET /matches/match.php?id=2383 HTTP/1.1\" 200 None\n",
      "DEBUG:root:mapbase = {'Match Id': '2383'}\n",
      "DEBUG:root:mapbase = {'Match Id': '2383', 'Date': '2018-01-12'}\n",
      "DEBUG:root:mapbase = {'Match Id': '2383', 'Date': '2018-01-12', 'Team A': 'BOS', 'Team B': 'NYE'}\n",
      "DEBUG:root:mp={'Match Id': '2383', 'Date': '2018-01-12', 'Team A': 'BOS', 'Team B': 'NYE', 'Map Name': 'Junkertown', 'Map Type': 'Escort', 'Winner': 'Team B'}\n",
      "DEBUG:root:mp={'Match Id': '2383', 'Date': '2018-01-12', 'Team A': 'BOS', 'Team B': 'NYE', 'Map Name': 'Horizon Lunar Colony', 'Map Type': 'Assault', 'Winner': 'Team A'}\n",
      "DEBUG:root:mp={'Match Id': '2383', 'Date': '2018-01-12', 'Team A': 'BOS', 'Team B': 'NYE', 'Map Name': 'Ilios', 'Map Type': 'KOTH', 'Winner': 'Team B'}\n",
      "DEBUG:root:mp={'Match Id': '2383', 'Date': '2018-01-12', 'Team A': 'BOS', 'Team B': 'NYE', 'Map Name': 'Numbani', 'Map Type': 'Hybrid', 'Winner': 'Team B'}\n",
      "DEBUG:urllib3.connectionpool:Starting new HTTPS connection (1): www.winstonslab.com\n",
      "DEBUG:urllib3.connectionpool:https://www.winstonslab.com:443 \"GET /matches/match.php?id=2382 HTTP/1.1\" 200 None\n",
      "DEBUG:root:mapbase = {'Match Id': '2382'}\n",
      "DEBUG:root:mapbase = {'Match Id': '2382', 'Date': '2018-01-12'}\n",
      "DEBUG:root:mapbase = {'Match Id': '2382', 'Date': '2018-01-12', 'Team A': 'PHI', 'Team B': 'HOU'}\n",
      "DEBUG:root:mp={'Match Id': '2382', 'Date': '2018-01-12', 'Team A': 'PHI', 'Team B': 'HOU', 'Map Name': 'Dorado', 'Map Type': 'Escort', 'Winner': 'Team A'}\n",
      "DEBUG:root:mp={'Match Id': '2382', 'Date': '2018-01-12', 'Team A': 'PHI', 'Team B': 'HOU', 'Map Name': 'Horizon Lunar Colony', 'Map Type': 'Assault', 'Winner': 'Team B'}\n",
      "DEBUG:root:mp={'Match Id': '2382', 'Date': '2018-01-12', 'Team A': 'PHI', 'Team B': 'HOU', 'Map Name': 'Oasis', 'Map Type': 'KOTH', 'Winner': 'Team A'}\n",
      "DEBUG:root:mp={'Match Id': '2382', 'Date': '2018-01-12', 'Team A': 'PHI', 'Team B': 'HOU', 'Map Name': 'Eichenwalde', 'Map Type': 'Hybrid', 'Winner': 'Team B'}\n",
      "DEBUG:root:mp={'Match Id': '2382', 'Date': '2018-01-12', 'Team A': 'PHI', 'Team B': 'HOU', 'Map Name': 'Lijiang Tower', 'Map Type': 'KOTH', 'Winner': 'Team A'}\n",
      "DEBUG:urllib3.connectionpool:Starting new HTTPS connection (1): www.winstonslab.com\n",
      "DEBUG:urllib3.connectionpool:https://www.winstonslab.com:443 \"GET /matches/match.php?id=2381 HTTP/1.1\" 200 None\n"
     ]
    },
    {
     "name": "stderr",
     "output_type": "stream",
     "text": [
      "DEBUG:root:mapbase = {'Match Id': '2381'}\n",
      "DEBUG:root:mapbase = {'Match Id': '2381', 'Date': '2018-01-11'}\n",
      "DEBUG:root:mapbase = {'Match Id': '2381', 'Date': '2018-01-11', 'Team A': 'LDN', 'Team B': 'FLA'}\n",
      "DEBUG:root:mp={'Match Id': '2381', 'Date': '2018-01-11', 'Team A': 'LDN', 'Team B': 'FLA', 'Map Name': 'Dorado', 'Map Type': 'Escort', 'Winner': 'Team B'}\n",
      "DEBUG:root:mp={'Match Id': '2381', 'Date': '2018-01-11', 'Team A': 'LDN', 'Team B': 'FLA', 'Map Name': 'Temple of Anubis', 'Map Type': 'Assault', 'Winner': 'Team A'}\n",
      "DEBUG:root:mp={'Match Id': '2381', 'Date': '2018-01-11', 'Team A': 'LDN', 'Team B': 'FLA', 'Map Name': 'Oasis', 'Map Type': 'KOTH', 'Winner': 'Team A'}\n",
      "DEBUG:root:mp={'Match Id': '2381', 'Date': '2018-01-11', 'Team A': 'LDN', 'Team B': 'FLA', 'Map Name': 'Numbani', 'Map Type': 'Hybrid', 'Winner': 'Team A'}\n",
      "DEBUG:urllib3.connectionpool:Starting new HTTPS connection (1): www.winstonslab.com\n",
      "DEBUG:urllib3.connectionpool:https://www.winstonslab.com:443 \"GET /matches/match.php?id=2380 HTTP/1.1\" 200 None\n",
      "DEBUG:root:mapbase = {'Match Id': '2380'}\n",
      "DEBUG:root:mapbase = {'Match Id': '2380', 'Date': '2018-01-11'}\n",
      "DEBUG:root:mapbase = {'Match Id': '2380', 'Date': '2018-01-11', 'Team A': 'DAL', 'Team B': 'SEO'}\n",
      "DEBUG:root:mp={'Match Id': '2380', 'Date': '2018-01-11', 'Team A': 'DAL', 'Team B': 'SEO', 'Map Name': 'Junkertown', 'Map Type': 'Escort', 'Winner': 'Team A'}\n",
      "DEBUG:root:mp={'Match Id': '2380', 'Date': '2018-01-11', 'Team A': 'DAL', 'Team B': 'SEO', 'Map Name': 'Temple of Anubis', 'Map Type': 'Assault', 'Winner': 'Team B'}\n",
      "DEBUG:root:mp={'Match Id': '2380', 'Date': '2018-01-11', 'Team A': 'DAL', 'Team B': 'SEO', 'Map Name': 'Ilios', 'Map Type': 'KOTH', 'Winner': 'Team B'}\n",
      "DEBUG:root:mp={'Match Id': '2380', 'Date': '2018-01-11', 'Team A': 'DAL', 'Team B': 'SEO', 'Map Name': 'Numbani', 'Map Type': 'Hybrid', 'Winner': 'Tie'}\n",
      "DEBUG:urllib3.connectionpool:Starting new HTTPS connection (1): www.winstonslab.com\n",
      "DEBUG:urllib3.connectionpool:https://www.winstonslab.com:443 \"GET /matches/match.php?id=2379 HTTP/1.1\" 200 None\n",
      "DEBUG:root:mapbase = {'Match Id': '2379'}\n",
      "DEBUG:root:mapbase = {'Match Id': '2379', 'Date': '2018-01-11'}\n",
      "DEBUG:root:mapbase = {'Match Id': '2379', 'Date': '2018-01-11', 'Team A': 'SHD', 'Team B': 'GLA'}\n",
      "DEBUG:root:mp={'Match Id': '2379', 'Date': '2018-01-11', 'Team A': 'SHD', 'Team B': 'GLA', 'Map Name': 'Dorado', 'Map Type': 'Escort', 'Winner': 'Team B'}\n",
      "DEBUG:root:mp={'Match Id': '2379', 'Date': '2018-01-11', 'Team A': 'SHD', 'Team B': 'GLA', 'Map Name': 'Temple of Anubis', 'Map Type': 'Assault', 'Winner': 'Team B'}\n",
      "DEBUG:root:mp={'Match Id': '2379', 'Date': '2018-01-11', 'Team A': 'SHD', 'Team B': 'GLA', 'Map Name': 'Ilios', 'Map Type': 'KOTH', 'Winner': 'Team B'}\n",
      "DEBUG:root:mp={'Match Id': '2379', 'Date': '2018-01-11', 'Team A': 'SHD', 'Team B': 'GLA', 'Map Name': 'Eichenwalde', 'Map Type': 'Hybrid', 'Winner': 'Team B'}\n",
      "DEBUG:urllib3.connectionpool:Starting new HTTPS connection (1): www.winstonslab.com\n",
      "DEBUG:urllib3.connectionpool:https://www.winstonslab.com:443 \"GET /matches/match.php?id=2375 HTTP/1.1\" 200 None\n",
      "DEBUG:root:mapbase = {'Match Id': '2375'}\n",
      "DEBUG:root:mapbase = {'Match Id': '2375', 'Date': '2018-01-11'}\n",
      "DEBUG:root:mapbase = {'Match Id': '2375', 'Date': '2018-01-11', 'Team A': 'SFS', 'Team B': 'VAL'}\n",
      "DEBUG:root:mp={'Match Id': '2375', 'Date': '2018-01-11', 'Team A': 'SFS', 'Team B': 'VAL', 'Map Name': 'Dorado', 'Map Type': 'Escort', 'Winner': 'Team B'}\n",
      "DEBUG:root:mp={'Match Id': '2375', 'Date': '2018-01-11', 'Team A': 'SFS', 'Team B': 'VAL', 'Map Name': 'Temple of Anubis', 'Map Type': 'Assault', 'Winner': 'Team B'}\n",
      "DEBUG:root:mp={'Match Id': '2375', 'Date': '2018-01-11', 'Team A': 'SFS', 'Team B': 'VAL', 'Map Name': 'Ilios', 'Map Type': 'KOTH', 'Winner': 'Team B'}\n",
      "DEBUG:root:mp={'Match Id': '2375', 'Date': '2018-01-11', 'Team A': 'SFS', 'Team B': 'VAL', 'Map Name': 'Numbani', 'Map Type': 'Hybrid', 'Winner': 'Team B'}\n"
     ]
    }
   ],
   "source": [
    "for row in rows:\n",
    "    match_link = row.td.a\n",
    "    match_id = match_link.attrs[\"href\"].split(\"=\")[-1]\n",
    "    df_list.append(ms.get_map_summary_data(match_id))"
   ]
  },
  {
   "cell_type": "code",
   "execution_count": 11,
   "metadata": {},
   "outputs": [
    {
     "data": {
      "text/html": [
       "<div>\n",
       "<style>\n",
       "    .dataframe thead tr:only-child th {\n",
       "        text-align: right;\n",
       "    }\n",
       "\n",
       "    .dataframe thead th {\n",
       "        text-align: left;\n",
       "    }\n",
       "\n",
       "    .dataframe tbody tr th {\n",
       "        vertical-align: top;\n",
       "    }\n",
       "</style>\n",
       "<table border=\"1\" class=\"dataframe\">\n",
       "  <thead>\n",
       "    <tr style=\"text-align: right;\">\n",
       "      <th></th>\n",
       "      <th>Date</th>\n",
       "      <th>Map Name</th>\n",
       "      <th>Map Type</th>\n",
       "      <th>Match Id</th>\n",
       "      <th>Team A</th>\n",
       "      <th>Team B</th>\n",
       "      <th>Winner</th>\n",
       "    </tr>\n",
       "  </thead>\n",
       "  <tbody>\n",
       "    <tr>\n",
       "      <th>0</th>\n",
       "      <td>2018-01-25</td>\n",
       "      <td>Eichenwalde</td>\n",
       "      <td>Hybrid</td>\n",
       "      <td>2419</td>\n",
       "      <td>GLA</td>\n",
       "      <td>VAL</td>\n",
       "      <td>Team A</td>\n",
       "    </tr>\n",
       "    <tr>\n",
       "      <th>1</th>\n",
       "      <td>2018-01-25</td>\n",
       "      <td>Horizon Lunar Colony</td>\n",
       "      <td>Assault</td>\n",
       "      <td>2419</td>\n",
       "      <td>GLA</td>\n",
       "      <td>VAL</td>\n",
       "      <td>Team A</td>\n",
       "    </tr>\n",
       "    <tr>\n",
       "      <th>2</th>\n",
       "      <td>2018-01-25</td>\n",
       "      <td>Ilios</td>\n",
       "      <td>KOTH</td>\n",
       "      <td>2419</td>\n",
       "      <td>GLA</td>\n",
       "      <td>VAL</td>\n",
       "      <td>Team B</td>\n",
       "    </tr>\n",
       "    <tr>\n",
       "      <th>3</th>\n",
       "      <td>2018-01-25</td>\n",
       "      <td>Junkertown</td>\n",
       "      <td>Escort</td>\n",
       "      <td>2419</td>\n",
       "      <td>GLA</td>\n",
       "      <td>VAL</td>\n",
       "      <td>Team B</td>\n",
       "    </tr>\n",
       "    <tr>\n",
       "      <th>4</th>\n",
       "      <td>2018-01-25</td>\n",
       "      <td>Lijiang Tower</td>\n",
       "      <td>KOTH</td>\n",
       "      <td>2419</td>\n",
       "      <td>GLA</td>\n",
       "      <td>VAL</td>\n",
       "      <td>Team B</td>\n",
       "    </tr>\n",
       "  </tbody>\n",
       "</table>\n",
       "</div>"
      ],
      "text/plain": [
       "         Date              Map Name Map Type Match Id Team A Team B  Winner\n",
       "0  2018-01-25           Eichenwalde   Hybrid     2419    GLA    VAL  Team A\n",
       "1  2018-01-25  Horizon Lunar Colony  Assault     2419    GLA    VAL  Team A\n",
       "2  2018-01-25                 Ilios     KOTH     2419    GLA    VAL  Team B\n",
       "3  2018-01-25            Junkertown   Escort     2419    GLA    VAL  Team B\n",
       "4  2018-01-25         Lijiang Tower     KOTH     2419    GLA    VAL  Team B"
      ]
     },
     "execution_count": 11,
     "metadata": {},
     "output_type": "execute_result"
    }
   ],
   "source": [
    "full_df = pd.concat(df_list)\n",
    "full_df.head()"
   ]
  },
  {
   "cell_type": "code",
   "execution_count": 12,
   "metadata": {},
   "outputs": [
    {
     "data": {
      "text/plain": [
       "SFS    16\n",
       "SHD    12\n",
       "LDN    12\n",
       "PHI    10\n",
       "GLA     9\n",
       "BOS     9\n",
       "VAL     9\n",
       "SEO     8\n",
       "FLA     8\n",
       "DAL     8\n",
       "NYE     8\n",
       "HOU     4\n",
       "Name: Team A, dtype: int64"
      ]
     },
     "execution_count": 12,
     "metadata": {},
     "output_type": "execute_result"
    }
   ],
   "source": [
    "full_df[\"Team A\"].value_counts()"
   ]
  },
  {
   "cell_type": "code",
   "execution_count": 13,
   "metadata": {},
   "outputs": [
    {
     "data": {
      "text/plain": [
       "GLA    13\n",
       "HOU    13\n",
       "VAL    13\n",
       "SEO    12\n",
       "LDN     9\n",
       "FLA     8\n",
       "SHD     8\n",
       "PHI     8\n",
       "DAL     8\n",
       "BOS     8\n",
       "NYE     8\n",
       "SFS     5\n",
       "Name: Team B, dtype: int64"
      ]
     },
     "execution_count": 13,
     "metadata": {},
     "output_type": "execute_result"
    }
   ],
   "source": [
    "full_df[\"Team B\"].value_counts()"
   ]
  },
  {
   "cell_type": "code",
   "execution_count": 40,
   "metadata": {},
   "outputs": [],
   "source": [
    "map_count = pd.DataFrame(full_df[\"Map Name\"].value_counts()).rename_axis('Map').reset_index()\n",
    "map_count[\"Count\"] = map_count[\"Map Name\"]\n",
    "map_count[\"Map Name\"] = map_count[\"Map\"]\n",
    "map_count.drop([\"Map\"],axis=1, inplace=True)"
   ]
  },
  {
   "cell_type": "code",
   "execution_count": 41,
   "metadata": {},
   "outputs": [
    {
     "data": {
      "text/html": [
       "<div>\n",
       "<style>\n",
       "    .dataframe thead tr:only-child th {\n",
       "        text-align: right;\n",
       "    }\n",
       "\n",
       "    .dataframe thead th {\n",
       "        text-align: left;\n",
       "    }\n",
       "\n",
       "    .dataframe tbody tr th {\n",
       "        vertical-align: top;\n",
       "    }\n",
       "</style>\n",
       "<table border=\"1\" class=\"dataframe\">\n",
       "  <thead>\n",
       "    <tr style=\"text-align: right;\">\n",
       "      <th></th>\n",
       "      <th>Map Name</th>\n",
       "      <th>Count</th>\n",
       "    </tr>\n",
       "  </thead>\n",
       "  <tbody>\n",
       "    <tr>\n",
       "      <th>0</th>\n",
       "      <td>Horizon Lunar Colony</td>\n",
       "      <td>17</td>\n",
       "    </tr>\n",
       "    <tr>\n",
       "      <th>1</th>\n",
       "      <td>Numbani</td>\n",
       "      <td>16</td>\n",
       "    </tr>\n",
       "    <tr>\n",
       "      <th>2</th>\n",
       "      <td>Oasis</td>\n",
       "      <td>15</td>\n",
       "    </tr>\n",
       "    <tr>\n",
       "      <th>3</th>\n",
       "      <td>Junkertown</td>\n",
       "      <td>15</td>\n",
       "    </tr>\n",
       "    <tr>\n",
       "      <th>4</th>\n",
       "      <td>Dorado</td>\n",
       "      <td>12</td>\n",
       "    </tr>\n",
       "  </tbody>\n",
       "</table>\n",
       "</div>"
      ],
      "text/plain": [
       "               Map Name  Count\n",
       "0  Horizon Lunar Colony     17\n",
       "1               Numbani     16\n",
       "2                 Oasis     15\n",
       "3            Junkertown     15\n",
       "4                Dorado     12"
      ]
     },
     "execution_count": 41,
     "metadata": {},
     "output_type": "execute_result"
    }
   ],
   "source": [
    "map_count.head()"
   ]
  },
  {
   "cell_type": "code",
   "execution_count": 45,
   "metadata": {
    "collapsed": true
   },
   "outputs": [],
   "source": [
    "import matplotlib.pyplot as plt\n",
    "import seaborn as sns\n",
    "% matplotlib inline"
   ]
  },
  {
   "cell_type": "code",
   "execution_count": 53,
   "metadata": {
    "collapsed": true
   },
   "outputs": [],
   "source": [
    "sns.set_style(\"dark\")\n",
    "#sns.set_palette(\"bright\")"
   ]
  },
  {
   "cell_type": "code",
   "execution_count": 55,
   "metadata": {},
   "outputs": [
    {
     "data": {
      "text/plain": [
       "<matplotlib.axes._subplots.AxesSubplot at 0x10e7ee8d0>"
      ]
     },
     "execution_count": 55,
     "metadata": {},
     "output_type": "execute_result"
    },
    {
     "data": {
      "image/png": "[encoded data removed]",
      "text/plain": [
       "<matplotlib.figure.Figure at 0x10ec3d908>"
      ]
     },
     "metadata": {},
     "output_type": "display_data"
    }
   ],
   "source": [
    "f, ax = plt.subplots(figsize=(10, 10))\n",
    "sns.barplot(x=\"Count\", y=\"Map Name\", data=map_count,\n",
    "            label=\"Total\", color=\"b\")"
   ]
  },
  {
   "cell_type": "code",
   "execution_count": 56,
   "metadata": {
    "collapsed": true
   },
   "outputs": [],
   "source": [
    "full_df.to_csv(\"Match Summary Data.csv\")"
   ]
  },
  {
   "cell_type": "code",
   "execution_count": null,
   "metadata": {
    "collapsed": true
   },
   "outputs": [],
   "source": []
  }
 ],
 "metadata": {
  "kernelspec": {
   "display_name": "Python 3",
   "language": "python",
   "name": "python3"
  },
  "language_info": {
   "codemirror_mode": {
    "name": "ipython",
    "version": 3
   },
   "file_extension": ".py",
   "mimetype": "text/x-python",
   "name": "python",
   "nbconvert_exporter": "python",
   "pygments_lexer": "ipython3",
   "version": "3.6.3"
  }
 },
 "nbformat": 4,
 "nbformat_minor": 2
}
