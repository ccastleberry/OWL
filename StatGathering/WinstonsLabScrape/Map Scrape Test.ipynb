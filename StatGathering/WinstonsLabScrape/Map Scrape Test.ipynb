{
 "cells": [
  {
   "cell_type": "code",
   "execution_count": 1,
   "metadata": {
    "collapsed": true
   },
   "outputs": [],
   "source": [
    "match_id = \"2380\""
   ]
  },
  {
   "cell_type": "code",
   "execution_count": 2,
   "metadata": {
    "collapsed": true
   },
   "outputs": [],
   "source": [
    "import MatchStats as ms\n",
    "import pandas as pd"
   ]
  },
  {
   "cell_type": "code",
   "execution_count": 3,
   "metadata": {
    "collapsed": true
   },
   "outputs": [],
   "source": [
    "df = ms.get_map_summary_data(match_id)"
   ]
  },
  {
   "cell_type": "code",
   "execution_count": 4,
   "metadata": {},
   "outputs": [
    {
     "data": {
      "text/html": [
       "<div>\n",
       "<style>\n",
       "    .dataframe thead tr:only-child th {\n",
       "        text-align: right;\n",
       "    }\n",
       "\n",
       "    .dataframe thead th {\n",
       "        text-align: left;\n",
       "    }\n",
       "\n",
       "    .dataframe tbody tr th {\n",
       "        vertical-align: top;\n",
       "    }\n",
       "</style>\n",
       "<table border=\"1\" class=\"dataframe\">\n",
       "  <thead>\n",
       "    <tr style=\"text-align: right;\">\n",
       "      <th></th>\n",
       "      <th>Date</th>\n",
       "      <th>Map Name</th>\n",
       "      <th>Map Number</th>\n",
       "      <th>Map Type</th>\n",
       "      <th>Match Id</th>\n",
       "      <th>Team A</th>\n",
       "      <th>Team B</th>\n",
       "      <th>Winner</th>\n",
       "    </tr>\n",
       "  </thead>\n",
       "  <tbody>\n",
       "    <tr>\n",
       "      <th>0</th>\n",
       "      <td>2018-01-11</td>\n",
       "      <td>Junkertown</td>\n",
       "      <td>1</td>\n",
       "      <td>Escort</td>\n",
       "      <td>2380</td>\n",
       "      <td>DAL</td>\n",
       "      <td>SEO</td>\n",
       "      <td>Team A</td>\n",
       "    </tr>\n",
       "    <tr>\n",
       "      <th>1</th>\n",
       "      <td>2018-01-11</td>\n",
       "      <td>Temple of Anubis</td>\n",
       "      <td>2</td>\n",
       "      <td>Assault</td>\n",
       "      <td>2380</td>\n",
       "      <td>DAL</td>\n",
       "      <td>SEO</td>\n",
       "      <td>Team B</td>\n",
       "    </tr>\n",
       "    <tr>\n",
       "      <th>2</th>\n",
       "      <td>2018-01-11</td>\n",
       "      <td>Ilios</td>\n",
       "      <td>3</td>\n",
       "      <td>KOTH</td>\n",
       "      <td>2380</td>\n",
       "      <td>DAL</td>\n",
       "      <td>SEO</td>\n",
       "      <td>Team B</td>\n",
       "    </tr>\n",
       "    <tr>\n",
       "      <th>3</th>\n",
       "      <td>2018-01-11</td>\n",
       "      <td>Numbani</td>\n",
       "      <td>4</td>\n",
       "      <td>Hybrid</td>\n",
       "      <td>2380</td>\n",
       "      <td>DAL</td>\n",
       "      <td>SEO</td>\n",
       "      <td>Tie</td>\n",
       "    </tr>\n",
       "  </tbody>\n",
       "</table>\n",
       "</div>"
      ],
      "text/plain": [
       "         Date          Map Name  Map Number Map Type Match Id Team A Team B  \\\n",
       "0  2018-01-11        Junkertown           1   Escort     2380    DAL    SEO   \n",
       "1  2018-01-11  Temple of Anubis           2  Assault     2380    DAL    SEO   \n",
       "2  2018-01-11             Ilios           3     KOTH     2380    DAL    SEO   \n",
       "3  2018-01-11           Numbani           4   Hybrid     2380    DAL    SEO   \n",
       "\n",
       "   Winner  \n",
       "0  Team A  \n",
       "1  Team B  \n",
       "2  Team B  \n",
       "3     Tie  "
      ]
     },
     "execution_count": 4,
     "metadata": {},
     "output_type": "execute_result"
    }
   ],
   "source": [
    "df.head()"
   ]
  },
  {
   "cell_type": "markdown",
   "metadata": {
    "collapsed": true
   },
   "source": [
    "# Get info from all matches"
   ]
  },
  {
   "cell_type": "code",
   "execution_count": 5,
   "metadata": {
    "collapsed": true
   },
   "outputs": [],
   "source": [
    "import time\n",
    "from bs4 import BeautifulSoup\n",
    "from pprint import pprint\n",
    "import requests"
   ]
  },
  {
   "cell_type": "code",
   "execution_count": 6,
   "metadata": {
    "collapsed": true
   },
   "outputs": [],
   "source": [
    "MATCH_LIST_URL = \"https://www.winstonslab.com/events/event.php?id=86#matches\""
   ]
  },
  {
   "cell_type": "code",
   "execution_count": 7,
   "metadata": {
    "collapsed": true,
    "scrolled": true
   },
   "outputs": [],
   "source": [
    "response = requests.get(MATCH_LIST_URL)\n",
    "html = BeautifulSoup(response.text, \"lxml\")"
   ]
  },
  {
   "cell_type": "code",
   "execution_count": 8,
   "metadata": {
    "collapsed": true
   },
   "outputs": [],
   "source": [
    "past_div = html.find(\"div\", {\"id\": \"past\"})\n",
    "table_body = past_div.find(\"table\").find(\"tbody\")\n",
    "rows = table_body.findAll(\"tr\")"
   ]
  },
  {
   "cell_type": "markdown",
   "metadata": {},
   "source": [
    "## Going through single matches"
   ]
  },
  {
   "cell_type": "code",
   "execution_count": 9,
   "metadata": {
    "collapsed": true
   },
   "outputs": [],
   "source": [
    "df_list = []"
   ]
  },
  {
   "cell_type": "code",
   "execution_count": 10,
   "metadata": {
    "collapsed": true,
    "scrolled": true
   },
   "outputs": [],
   "source": [
    "for row in rows:\n",
    "    match_link = row.td.a\n",
    "    match_id = match_link.attrs[\"href\"].split(\"=\")[-1]\n",
    "    df_list.append(ms.get_map_summary_data(match_id))"
   ]
  },
  {
   "cell_type": "code",
   "execution_count": 11,
   "metadata": {},
   "outputs": [
    {
     "data": {
      "text/html": [
       "<div>\n",
       "<style>\n",
       "    .dataframe thead tr:only-child th {\n",
       "        text-align: right;\n",
       "    }\n",
       "\n",
       "    .dataframe thead th {\n",
       "        text-align: left;\n",
       "    }\n",
       "\n",
       "    .dataframe tbody tr th {\n",
       "        vertical-align: top;\n",
       "    }\n",
       "</style>\n",
       "<table border=\"1\" class=\"dataframe\">\n",
       "  <thead>\n",
       "    <tr style=\"text-align: right;\">\n",
       "      <th></th>\n",
       "      <th>Date</th>\n",
       "      <th>Map Name</th>\n",
       "      <th>Map Number</th>\n",
       "      <th>Map Type</th>\n",
       "      <th>Match Id</th>\n",
       "      <th>Team A</th>\n",
       "      <th>Team B</th>\n",
       "      <th>Winner</th>\n",
       "    </tr>\n",
       "  </thead>\n",
       "  <tbody>\n",
       "    <tr>\n",
       "      <th>0</th>\n",
       "      <td>2018-03-04</td>\n",
       "      <td>Hanamura</td>\n",
       "      <td>1</td>\n",
       "      <td>Assault</td>\n",
       "      <td>2472</td>\n",
       "      <td>SHD</td>\n",
       "      <td>SFS</td>\n",
       "      <td>Team B</td>\n",
       "    </tr>\n",
       "    <tr>\n",
       "      <th>1</th>\n",
       "      <td>2018-03-04</td>\n",
       "      <td>Nepal</td>\n",
       "      <td>2</td>\n",
       "      <td>KOTH</td>\n",
       "      <td>2472</td>\n",
       "      <td>SHD</td>\n",
       "      <td>SFS</td>\n",
       "      <td>Team B</td>\n",
       "    </tr>\n",
       "    <tr>\n",
       "      <th>2</th>\n",
       "      <td>2018-03-04</td>\n",
       "      <td>King's Row</td>\n",
       "      <td>3</td>\n",
       "      <td>Hybrid</td>\n",
       "      <td>2472</td>\n",
       "      <td>SHD</td>\n",
       "      <td>SFS</td>\n",
       "      <td>Team B</td>\n",
       "    </tr>\n",
       "    <tr>\n",
       "      <th>3</th>\n",
       "      <td>2018-03-04</td>\n",
       "      <td>Watchpoint: Gibraltar</td>\n",
       "      <td>4</td>\n",
       "      <td>Escort</td>\n",
       "      <td>2472</td>\n",
       "      <td>SHD</td>\n",
       "      <td>SFS</td>\n",
       "      <td>Team B</td>\n",
       "    </tr>\n",
       "    <tr>\n",
       "      <th>0</th>\n",
       "      <td>2018-03-03</td>\n",
       "      <td>Volskaya Industries</td>\n",
       "      <td>1</td>\n",
       "      <td>Assault</td>\n",
       "      <td>2471</td>\n",
       "      <td>HOU</td>\n",
       "      <td>NYE</td>\n",
       "      <td>Team B</td>\n",
       "    </tr>\n",
       "  </tbody>\n",
       "</table>\n",
       "</div>"
      ],
      "text/plain": [
       "         Date               Map Name  Map Number Map Type Match Id Team A  \\\n",
       "0  2018-03-04               Hanamura           1  Assault     2472    SHD   \n",
       "1  2018-03-04                  Nepal           2     KOTH     2472    SHD   \n",
       "2  2018-03-04             King's Row           3   Hybrid     2472    SHD   \n",
       "3  2018-03-04  Watchpoint: Gibraltar           4   Escort     2472    SHD   \n",
       "0  2018-03-03    Volskaya Industries           1  Assault     2471    HOU   \n",
       "\n",
       "  Team B  Winner  \n",
       "0    SFS  Team B  \n",
       "1    SFS  Team B  \n",
       "2    SFS  Team B  \n",
       "3    SFS  Team B  \n",
       "0    NYE  Team B  "
      ]
     },
     "execution_count": 11,
     "metadata": {},
     "output_type": "execute_result"
    }
   ],
   "source": [
    "full_df = pd.concat(df_list)\n",
    "full_df.head()"
   ]
  },
  {
   "cell_type": "code",
   "execution_count": 12,
   "metadata": {},
   "outputs": [
    {
     "data": {
      "text/plain": [
       "HOU    35\n",
       "SHD    34\n",
       "DAL    33\n",
       "GLA    33\n",
       "SEO    31\n",
       "PHI    31\n",
       "NYE    30\n",
       "BOS    30\n",
       "VAL    29\n",
       "SFS    28\n",
       "LDN    25\n",
       "FLA    25\n",
       "Name: Team A, dtype: int64"
      ]
     },
     "execution_count": 12,
     "metadata": {},
     "output_type": "execute_result"
    }
   ],
   "source": [
    "full_df[\"Team A\"].value_counts()"
   ]
  },
  {
   "cell_type": "code",
   "execution_count": 13,
   "metadata": {},
   "outputs": [
    {
     "data": {
      "text/plain": [
       "LDN    45\n",
       "NYE    35\n",
       "FLA    32\n",
       "PHI    31\n",
       "BOS    30\n",
       "HOU    30\n",
       "SFS    30\n",
       "VAL    29\n",
       "SEO    28\n",
       "DAL    25\n",
       "GLA    25\n",
       "SHD    24\n",
       "Name: Team B, dtype: int64"
      ]
     },
     "execution_count": 13,
     "metadata": {},
     "output_type": "execute_result"
    }
   ],
   "source": [
    "full_df[\"Team B\"].value_counts()"
   ]
  },
  {
   "cell_type": "code",
   "execution_count": 14,
   "metadata": {
    "collapsed": true
   },
   "outputs": [],
   "source": [
    "map_count = pd.DataFrame(full_df[\"Map Name\"].value_counts()).rename_axis('Map').reset_index()\n",
    "map_count[\"Count\"] = map_count[\"Map Name\"]\n",
    "map_count[\"Map Name\"] = map_count[\"Map\"]\n",
    "map_count.drop([\"Map\"],axis=1, inplace=True)"
   ]
  },
  {
   "cell_type": "code",
   "execution_count": 15,
   "metadata": {},
   "outputs": [
    {
     "data": {
      "text/html": [
       "<div>\n",
       "<style>\n",
       "    .dataframe thead tr:only-child th {\n",
       "        text-align: right;\n",
       "    }\n",
       "\n",
       "    .dataframe thead th {\n",
       "        text-align: left;\n",
       "    }\n",
       "\n",
       "    .dataframe tbody tr th {\n",
       "        vertical-align: top;\n",
       "    }\n",
       "</style>\n",
       "<table border=\"1\" class=\"dataframe\">\n",
       "  <thead>\n",
       "    <tr style=\"text-align: right;\">\n",
       "      <th></th>\n",
       "      <th>Map Name</th>\n",
       "      <th>Count</th>\n",
       "    </tr>\n",
       "  </thead>\n",
       "  <tbody>\n",
       "    <tr>\n",
       "      <th>0</th>\n",
       "      <td>Ilios</td>\n",
       "      <td>34</td>\n",
       "    </tr>\n",
       "    <tr>\n",
       "      <th>1</th>\n",
       "      <td>Dorado</td>\n",
       "      <td>32</td>\n",
       "    </tr>\n",
       "    <tr>\n",
       "      <th>2</th>\n",
       "      <td>Oasis</td>\n",
       "      <td>31</td>\n",
       "    </tr>\n",
       "    <tr>\n",
       "      <th>3</th>\n",
       "      <td>Temple of Anubis</td>\n",
       "      <td>31</td>\n",
       "    </tr>\n",
       "    <tr>\n",
       "      <th>4</th>\n",
       "      <td>Horizon Lunar Colony</td>\n",
       "      <td>31</td>\n",
       "    </tr>\n",
       "  </tbody>\n",
       "</table>\n",
       "</div>"
      ],
      "text/plain": [
       "               Map Name  Count\n",
       "0                 Ilios     34\n",
       "1                Dorado     32\n",
       "2                 Oasis     31\n",
       "3      Temple of Anubis     31\n",
       "4  Horizon Lunar Colony     31"
      ]
     },
     "execution_count": 15,
     "metadata": {},
     "output_type": "execute_result"
    }
   ],
   "source": [
    "map_count.head()"
   ]
  },
  {
   "cell_type": "code",
   "execution_count": 16,
   "metadata": {
    "collapsed": true
   },
   "outputs": [],
   "source": [
    "import matplotlib.pyplot as plt\n",
    "import seaborn as sns\n",
    "% matplotlib inline"
   ]
  },
  {
   "cell_type": "code",
   "execution_count": 17,
   "metadata": {
    "collapsed": true
   },
   "outputs": [],
   "source": [
    "sns.set_style(\"dark\")\n",
    "#sns.set_palette(\"bright\")"
   ]
  },
  {
   "cell_type": "code",
   "execution_count": 18,
   "metadata": {},
   "outputs": [
    {
     "data": {
      "text/plain": [
       "<matplotlib.axes._subplots.AxesSubplot at 0x1128d3c18>"
      ]
     },
     "execution_count": 18,
     "metadata": {},
     "output_type": "execute_result"
    },
    {
     "data": {
      "image/png": "[encoded data removed]",
      "text/plain": [
       "<matplotlib.figure.Figure at 0x1128d3550>"
      ]
     },
     "metadata": {},
     "output_type": "display_data"
    }
   ],
   "source": [
    "f, ax = plt.subplots(figsize=(10, 10))\n",
    "sns.barplot(x=\"Count\", y=\"Map Name\", data=map_count,\n",
    "            label=\"Total\", color=\"b\")"
   ]
  },
  {
   "cell_type": "code",
   "execution_count": 19,
   "metadata": {
    "collapsed": true
   },
   "outputs": [],
   "source": [
    "full_df.to_csv(\"Match Summary Data.csv\")"
   ]
  },
  {
   "cell_type": "code",
   "execution_count": null,
   "metadata": {
    "collapsed": true
   },
   "outputs": [],
   "source": []
  }
 ],
 "metadata": {
  "kernelspec": {
   "display_name": "Python 3",
   "language": "python",
   "name": "python3"
  },
  "language_info": {
   "codemirror_mode": {
    "name": "ipython",
    "version": 3
   },
   "file_extension": ".py",
   "mimetype": "text/x-python",
   "name": "python",
   "nbconvert_exporter": "python",
   "pygments_lexer": "ipython3",
   "version": "3.6.3"
  }
 },
 "nbformat": 4,
 "nbformat_minor": 2
}
