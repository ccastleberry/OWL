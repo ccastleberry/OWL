{
 "cells": [
  {
   "cell_type": "markdown",
   "metadata": {},
   "source": [
    "# Get summary data on individual map level"
   ]
  },
  {
   "cell_type": "code",
   "execution_count": 25,
   "metadata": {
    "collapsed": true
   },
   "outputs": [],
   "source": [
    "import requests\n",
    "from bs4 import BeautifulSoup\n",
    "from pprint import pprint\n",
    "import time\n",
    "from selenium import webdriver\n",
    "from copy import deepcopy"
   ]
  },
  {
   "cell_type": "markdown",
   "metadata": {},
   "source": [
    "# Initial Setup\n",
    "\n",
    "To begin I've chosen to focus on getting all of the stats from one game.\n",
    "\n",
    " The page on winstons lab for the game can be found here:\n",
    "\n",
    "[Preseason: Fuel vs. Outlaws](https://www.winstonslab.com/matches/match.php?id=2380)\n",
    "\n",
    "The individual match id for the site is 2380. \n",
    "\n",
    "Here we will grab the score an a few other stats in order to compute elo on a map by map basis."
   ]
  },
  {
   "cell_type": "code",
   "execution_count": 73,
   "metadata": {
    "collapsed": true
   },
   "outputs": [],
   "source": [
    "BASE_MATCH_URL = \"https://www.winstonslab.com/matches/match.php\""
   ]
  },
  {
   "cell_type": "code",
   "execution_count": 74,
   "metadata": {
    "collapsed": true
   },
   "outputs": [],
   "source": [
    "match_id = \"2380\""
   ]
  },
  {
   "cell_type": "code",
   "execution_count": 75,
   "metadata": {
    "collapsed": true
   },
   "outputs": [],
   "source": [
    "full_url = BASE_MATCH_URL + \"?id=\" + match_id"
   ]
  },
  {
   "cell_type": "code",
   "execution_count": 86,
   "metadata": {
    "collapsed": true
   },
   "outputs": [],
   "source": [
    "# Starting structure\n",
    "map_base = {\"date\": \"\",\n",
    "           \"match_id\": match_id,\n",
    "           \"map_name\": \"\",\n",
    "           \"map_type\": \"\",\n",
    "           \"team_a\": \"\",\n",
    "           \"team_b\": \"\",\n",
    "           \"team_a_win\": \"\"}"
   ]
  },
  {
   "cell_type": "code",
   "execution_count": 87,
   "metadata": {},
   "outputs": [
    {
     "data": {
      "text/plain": [
       "''"
      ]
     },
     "execution_count": 87,
     "metadata": {},
     "output_type": "execute_result"
    }
   ],
   "source": [
    "map_base[\"date\"]"
   ]
  },
  {
   "cell_type": "markdown",
   "metadata": {},
   "source": [
    "## Get the base html using requests"
   ]
  },
  {
   "cell_type": "code",
   "execution_count": 88,
   "metadata": {},
   "outputs": [],
   "source": [
    "response = requests.get(full_url)\n",
    "html = BeautifulSoup(response.text, \"lxml\")"
   ]
  },
  {
   "cell_type": "code",
   "execution_count": 89,
   "metadata": {},
   "outputs": [],
   "source": [
    "score_divs = html.find(\"div\", {\"class\": \"mini-map-scores\"}).label.findAll(\"div\", recursive=False)"
   ]
  },
  {
   "cell_type": "code",
   "execution_count": 90,
   "metadata": {},
   "outputs": [],
   "source": [
    "team_names = score_divs[0].findAll(\"div\")"
   ]
  },
  {
   "cell_type": "code",
   "execution_count": 91,
   "metadata": {},
   "outputs": [
    {
     "data": {
      "text/plain": [
       "'DAL'"
      ]
     },
     "execution_count": 91,
     "metadata": {},
     "output_type": "execute_result"
    }
   ],
   "source": [
    "team_names[0].text"
   ]
  },
  {
   "cell_type": "code",
   "execution_count": 92,
   "metadata": {},
   "outputs": [],
   "source": [
    "map_base[\"team_a\"] = team_names[0].text\n",
    "map_base[\"team_b\"] = team_names[1].text"
   ]
  },
  {
   "cell_type": "code",
   "execution_count": 93,
   "metadata": {},
   "outputs": [
    {
     "data": {
      "text/plain": [
       "{'date': '',\n",
       " 'map_name': '',\n",
       " 'map_type': '',\n",
       " 'match_id': '2380',\n",
       " 'team_a': 'DAL',\n",
       " 'team_a_win': '',\n",
       " 'team_b': 'SEO'}"
      ]
     },
     "execution_count": 93,
     "metadata": {},
     "output_type": "execute_result"
    }
   ],
   "source": [
    "map_base"
   ]
  },
  {
   "cell_type": "code",
   "execution_count": 94,
   "metadata": {},
   "outputs": [],
   "source": [
    "map_scores = score_divs[1:]"
   ]
  },
  {
   "cell_type": "code",
   "execution_count": 95,
   "metadata": {},
   "outputs": [
    {
     "data": {
      "text/plain": [
       "{'date': '',\n",
       " 'map_name': '',\n",
       " 'map_type': '',\n",
       " 'match_id': '2380',\n",
       " 'team_a': 'DAL',\n",
       " 'team_a_win': '',\n",
       " 'team_b': 'SEO'}"
      ]
     },
     "execution_count": 95,
     "metadata": {},
     "output_type": "execute_result"
    }
   ],
   "source": [
    "map1 = deepcopy(map_base)\n",
    "map1"
   ]
  },
  {
   "cell_type": "code",
   "execution_count": 96,
   "metadata": {},
   "outputs": [
    {
     "data": {
      "text/plain": [
       "'Junkertown'"
      ]
     },
     "execution_count": 96,
     "metadata": {},
     "output_type": "execute_result"
    }
   ],
   "source": [
    "map_details = map_scores[0].findAll(\"div\", recursive=False)\n",
    "map_details[0]['title']"
   ]
  },
  {
   "cell_type": "code",
   "execution_count": 97,
   "metadata": {},
   "outputs": [],
   "source": [
    "map1[\"map_name\"] = map_details[0]['title']"
   ]
  },
  {
   "cell_type": "code",
   "execution_count": 98,
   "metadata": {},
   "outputs": [
    {
     "data": {
      "text/plain": [
       "{'date': '',\n",
       " 'map_name': 'Junkertown',\n",
       " 'map_type': '',\n",
       " 'match_id': '2380',\n",
       " 'team_a': 'DAL',\n",
       " 'team_a_win': '',\n",
       " 'team_b': 'SEO'}"
      ]
     },
     "execution_count": 98,
     "metadata": {},
     "output_type": "execute_result"
    }
   ],
   "source": [
    "map1"
   ]
  },
  {
   "cell_type": "code",
   "execution_count": 102,
   "metadata": {},
   "outputs": [],
   "source": [
    "if 'winner' in map_details[1][\"class\"]:\n",
    "    map1[\"team_a_win\"] = 1"
   ]
  },
  {
   "cell_type": "code",
   "execution_count": 103,
   "metadata": {},
   "outputs": [
    {
     "data": {
      "text/plain": [
       "{'date': '',\n",
       " 'map_name': 'Junkertown',\n",
       " 'map_type': '',\n",
       " 'match_id': '2380',\n",
       " 'team_a': 'DAL',\n",
       " 'team_a_win': 1,\n",
       " 'team_b': 'SEO'}"
      ]
     },
     "execution_count": 103,
     "metadata": {},
     "output_type": "execute_result"
    }
   ],
   "source": [
    "map1"
   ]
  },
  {
   "cell_type": "code",
   "execution_count": 117,
   "metadata": {},
   "outputs": [
    {
     "data": {
      "text/plain": [
       "['11th', 'of', 'January', '2018', '04:00', '(UTC)']"
      ]
     },
     "execution_count": 117,
     "metadata": {},
     "output_type": "execute_result"
    }
   ],
   "source": [
    "date_str = html.find(\"span\", {\"id\": \"tzDate_1\"}).text\n",
    "date_list = date_str.split(\" \")\n",
    "date_list"
   ]
  },
  {
   "cell_type": "code",
   "execution_count": 118,
   "metadata": {},
   "outputs": [
    {
     "data": {
      "text/plain": [
       "'11'"
      ]
     },
     "execution_count": 118,
     "metadata": {},
     "output_type": "execute_result"
    }
   ],
   "source": [
    "day = date_list[0].split(\"t\")[0]\n",
    "day"
   ]
  },
  {
   "cell_type": "code",
   "execution_count": 119,
   "metadata": {},
   "outputs": [
    {
     "data": {
      "text/plain": [
       "'January'"
      ]
     },
     "execution_count": 119,
     "metadata": {},
     "output_type": "execute_result"
    }
   ],
   "source": [
    "month = date_list[2]\n",
    "month"
   ]
  },
  {
   "cell_type": "code",
   "execution_count": 120,
   "metadata": {},
   "outputs": [
    {
     "data": {
      "text/plain": [
       "'2018'"
      ]
     },
     "execution_count": 120,
     "metadata": {},
     "output_type": "execute_result"
    }
   ],
   "source": [
    "year = date_list[3]\n",
    "year"
   ]
  },
  {
   "cell_type": "code",
   "execution_count": null,
   "metadata": {
    "collapsed": true
   },
   "outputs": [],
   "source": []
  },
  {
   "cell_type": "code",
   "execution_count": 112,
   "metadata": {
    "collapsed": true
   },
   "outputs": [],
   "source": [
    "from dateutil.parser import parse"
   ]
  },
  {
   "cell_type": "code",
   "execution_count": 124,
   "metadata": {},
   "outputs": [
    {
     "data": {
      "text/plain": [
       "datetime.datetime(2018, 1, 11, 0, 0)"
      ]
     },
     "execution_count": 124,
     "metadata": {},
     "output_type": "execute_result"
    }
   ],
   "source": [
    "match_date = parse(\"{} {} {}\".format(day, month, year))\n",
    "match_date"
   ]
  },
  {
   "cell_type": "code",
   "execution_count": 129,
   "metadata": {},
   "outputs": [],
   "source": [
    "map1[\"date\"] = match_date.date().isoformat()"
   ]
  },
  {
   "cell_type": "code",
   "execution_count": 130,
   "metadata": {},
   "outputs": [
    {
     "data": {
      "text/plain": [
       "{'date': '2018-01-11',\n",
       " 'map_name': 'Junkertown',\n",
       " 'map_type': '',\n",
       " 'match_id': '2380',\n",
       " 'team_a': 'DAL',\n",
       " 'team_a_win': 1,\n",
       " 'team_b': 'SEO'}"
      ]
     },
     "execution_count": 130,
     "metadata": {},
     "output_type": "execute_result"
    }
   ],
   "source": [
    "map1"
   ]
  },
  {
   "cell_type": "markdown",
   "metadata": {},
   "source": [
    "## Get map type"
   ]
  },
  {
   "cell_type": "code",
   "execution_count": 138,
   "metadata": {},
   "outputs": [],
   "source": [
    "map_type_dict = {\n",
    "    \"KOTH\" : [\"Ilios\",\n",
    "       \"Lijiang Tower\",\n",
    "       \"Nepal\",\n",
    "       \"Oasis\"],\n",
    "    \"Assault\": [\"Hanamura\",\n",
    "              \"Horizon Lunar Colony\",\n",
    "              \"Temple of Anubis\",\n",
    "              \"Volskaya Industries\"],\n",
    "    \"Escort\" : [\"Dorado\",\n",
    "             \"Junkertown\",\n",
    "             \"Route 66\",\n",
    "             \"Watchpoint: Gibraltar\"],\n",
    "    \"Hybrid\" : [\"Blizzard World\",\n",
    "             \"Eichenwalde\",\n",
    "             \"Hollywood\",\n",
    "             \"King's Row\",\n",
    "             \"Numbani\"]\n",
    "}"
   ]
  },
  {
   "cell_type": "code",
   "execution_count": 139,
   "metadata": {},
   "outputs": [
    {
     "data": {
      "text/plain": [
       "['Ilios', 'Lijiang Tower', 'Nepal', 'Oasis']"
      ]
     },
     "execution_count": 139,
     "metadata": {},
     "output_type": "execute_result"
    }
   ],
   "source": [
    "map_type_dict[\"KOTH\"]"
   ]
  },
  {
   "cell_type": "code",
   "execution_count": 146,
   "metadata": {},
   "outputs": [],
   "source": [
    "for key, val in map_type_dict.items():\n",
    "    if map1[\"map_name\"] in val:\n",
    "        map1[\"map_type\"] = key"
   ]
  },
  {
   "cell_type": "code",
   "execution_count": 147,
   "metadata": {},
   "outputs": [
    {
     "data": {
      "text/plain": [
       "{'date': '2018-01-11',\n",
       " 'map_name': 'Junkertown',\n",
       " 'map_type': 'Escort',\n",
       " 'match_id': '2380',\n",
       " 'team_a': 'DAL',\n",
       " 'team_a_win': 1,\n",
       " 'team_b': 'SEO'}"
      ]
     },
     "execution_count": 147,
     "metadata": {},
     "output_type": "execute_result"
    }
   ],
   "source": [
    "map1"
   ]
  },
  {
   "cell_type": "markdown",
   "metadata": {},
   "source": [
    "# Now We will switch to VS Code\n",
    "We will then use the rest of this notebook to test our function"
   ]
  },
  {
   "cell_type": "code",
   "execution_count": 150,
   "metadata": {
    "collapsed": true
   },
   "outputs": [],
   "source": [
    "import MatchStats as ms"
   ]
  },
  {
   "cell_type": "code",
   "execution_count": 151,
   "metadata": {},
   "outputs": [
    {
     "ename": "AttributeError",
     "evalue": "module 'MatchStats' has no attribute 'get_match_summary_data'",
     "output_type": "error",
     "traceback": [
      "\u001b[0;31m---------------------------------------------------------------------------\u001b[0m",
      "\u001b[0;31mAttributeError\u001b[0m                            Traceback (most recent call last)",
      "\u001b[0;32m<ipython-input-151-444ee8245917>\u001b[0m in \u001b[0;36m<module>\u001b[0;34m()\u001b[0m\n\u001b[0;32m----> 1\u001b[0;31m \u001b[0mms\u001b[0m\u001b[0;34m.\u001b[0m\u001b[0mget_match_summary_data\u001b[0m\u001b[0;34m(\u001b[0m\u001b[0;34m)\u001b[0m\u001b[0;34m\u001b[0m\u001b[0m\n\u001b[0m",
      "\u001b[0;31mAttributeError\u001b[0m: module 'MatchStats' has no attribute 'get_match_summary_data'"
     ]
    }
   ],
   "source": [
    "ms.get_match_summary_data()"
   ]
  },
  {
   "cell_type": "code",
   "execution_count": null,
   "metadata": {
    "collapsed": true
   },
   "outputs": [],
   "source": []
  }
 ],
 "metadata": {
  "kernelspec": {
   "display_name": "Python 3",
   "language": "python",
   "name": "python3"
  },
  "language_info": {
   "codemirror_mode": {
    "name": "ipython",
    "version": 3
   },
   "file_extension": ".py",
   "mimetype": "text/x-python",
   "name": "python",
   "nbconvert_exporter": "python",
   "pygments_lexer": "ipython3",
   "version": "3.6.3"
  }
 },
 "nbformat": 4,
 "nbformat_minor": 2
}
