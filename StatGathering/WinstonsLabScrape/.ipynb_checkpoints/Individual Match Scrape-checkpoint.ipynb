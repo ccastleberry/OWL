{
 "cells": [
  {
   "cell_type": "markdown",
   "metadata": {},
   "source": [
    "# Imports"
   ]
  },
  {
   "cell_type": "code",
   "execution_count": 57,
   "metadata": {
    "collapsed": true
   },
   "outputs": [],
   "source": [
    "import requests\n",
    "from bs4 import BeautifulSoup\n",
    "from pprint import pprint"
   ]
  },
  {
   "cell_type": "markdown",
   "metadata": {},
   "source": [
    "# Initial Setup\n",
    "\n",
    "To begin I've chosen to focus on getting all of the stats from one game.\n",
    "\n",
    "Due to personal preference I've chosen to look at the preseason game between the Dallas Fuel and the Houston Outlaws. The page on winstons lab for the game can be found here:\n",
    "\n",
    "[Preseason: Fuel vs. Outlaws](https://www.winstonslab.com/matches/match.php?id=2367)\n",
    "\n",
    "The individual match id for the site is 2367. We'll try to keep everything as modular as possible during prototyping."
   ]
  },
  {
   "cell_type": "code",
   "execution_count": 4,
   "metadata": {
    "collapsed": true
   },
   "outputs": [],
   "source": [
    "BASE_MATCH_URL = \"https://www.winstonslab.com/matches/match.php\""
   ]
  },
  {
   "cell_type": "code",
   "execution_count": 5,
   "metadata": {
    "collapsed": true
   },
   "outputs": [],
   "source": [
    "match_id = \"2367\""
   ]
  },
  {
   "cell_type": "code",
   "execution_count": 6,
   "metadata": {
    "collapsed": true
   },
   "outputs": [],
   "source": [
    "full_url = BASE_MATCH_URL + \"?id=\" + match_id"
   ]
  },
  {
   "cell_type": "markdown",
   "metadata": {},
   "source": [
    "## Get the base html using requests"
   ]
  },
  {
   "cell_type": "code",
   "execution_count": 8,
   "metadata": {
    "collapsed": true
   },
   "outputs": [],
   "source": [
    "response = requests.get(full_url)\n",
    "html = BeautifulSoup(response.text, \"lxml\")"
   ]
  },
  {
   "cell_type": "markdown",
   "metadata": {},
   "source": [
    "# Overview stats"
   ]
  },
  {
   "cell_type": "code",
   "execution_count": 38,
   "metadata": {
    "collapsed": true
   },
   "outputs": [],
   "source": [
    "div = html.findAll(\"div\", {\"class\": \"side-by-side-stats\"})[0] # table containing detailed stats\n",
    "detail = div.findAll(\"div\", recursive=False)[2]"
   ]
  },
  {
   "cell_type": "code",
   "execution_count": 39,
   "metadata": {},
   "outputs": [
    {
     "data": {
      "text/plain": [
       "''"
      ]
     },
     "execution_count": 39,
     "metadata": {},
     "output_type": "execute_result"
    }
   ],
   "source": [
    "detail.text"
   ]
  },
  {
   "cell_type": "markdown",
   "metadata": {},
   "source": [
    "Ok so this is empty because It loads the data after clicked detailed stats. I guess we'll have to use Selenium and PhantomJS"
   ]
  },
  {
   "cell_type": "code",
   "execution_count": 43,
   "metadata": {
    "collapsed": true
   },
   "outputs": [],
   "source": [
    "from selenium import webdriver\n",
    "import time"
   ]
  },
  {
   "cell_type": "code",
   "execution_count": 47,
   "metadata": {
    "collapsed": true
   },
   "outputs": [],
   "source": [
    "driver = webdriver.Chrome(\"/Applications/chromedriver\")"
   ]
  },
  {
   "cell_type": "markdown",
   "metadata": {},
   "source": [
    "JK using Chrome. I need to find a chrome headless driver."
   ]
  },
  {
   "cell_type": "code",
   "execution_count": 49,
   "metadata": {
    "collapsed": true
   },
   "outputs": [],
   "source": [
    "driver.get(full_url)\n",
    "time.sleep(5)"
   ]
  },
  {
   "cell_type": "code",
   "execution_count": 51,
   "metadata": {
    "collapsed": true
   },
   "outputs": [],
   "source": [
    "detail_button = driver.find_element_by_class_name(\"showDetailedStatsBut\")"
   ]
  },
  {
   "cell_type": "code",
   "execution_count": 54,
   "metadata": {
    "collapsed": true
   },
   "outputs": [],
   "source": [
    "detail_button.click()"
   ]
  },
  {
   "cell_type": "code",
   "execution_count": 55,
   "metadata": {
    "collapsed": true
   },
   "outputs": [],
   "source": [
    "detail_stats = driver.find_element_by_id(\"detailedStatsDiv_0\")"
   ]
  },
  {
   "cell_type": "code",
   "execution_count": 60,
   "metadata": {
    "collapsed": true
   },
   "outputs": [],
   "source": [
    "page_source = driver.page_source"
   ]
  },
  {
   "cell_type": "code",
   "execution_count": 62,
   "metadata": {
    "collapsed": true
   },
   "outputs": [],
   "source": [
    "new_html = BeautifulSoup(page_source, \"lxml\")"
   ]
  },
  {
   "cell_type": "code",
   "execution_count": 66,
   "metadata": {
    "collapsed": true
   },
   "outputs": [],
   "source": [
    "div = new_html.findAll(\"div\", {\"class\": \"side-by-side-stats\"})[0] # table containing detailed stats\n",
    "detail = div.findAll(\"div\", recursive=False)[2]"
   ]
  },
  {
   "cell_type": "code",
   "execution_count": 71,
   "metadata": {
    "collapsed": true
   },
   "outputs": [],
   "source": [
    "stat_table = detail.table"
   ]
  },
  {
   "cell_type": "code",
   "execution_count": 73,
   "metadata": {
    "collapsed": true
   },
   "outputs": [],
   "source": [
    "table_headers = stat_table.thead\n",
    "table_data = stat_table.tbody"
   ]
  },
  {
   "cell_type": "code",
   "execution_count": 81,
   "metadata": {
    "collapsed": true
   },
   "outputs": [],
   "source": [
    "header_elems = table_headers.findAll(\"th\")"
   ]
  },
  {
   "cell_type": "code",
   "execution_count": 85,
   "metadata": {},
   "outputs": [
    {
     "name": "stdout",
     "output_type": "stream",
     "text": [
      "['Player',\n",
      " 'Hero',\n",
      " 'Time',\n",
      " 'Rating',\n",
      " 'FWin%',\n",
      " 'PTK',\n",
      " 'K/10',\n",
      " 'D/10',\n",
      " 'U/10',\n",
      " 'TTCU',\n",
      " 'KPU',\n",
      " 'UE',\n",
      " 'UOOF',\n",
      " 'FK',\n",
      " 'FD',\n",
      " 'Impact',\n",
      " 'Elim/10',\n",
      " 'dmg/10',\n",
      " 'heal/10',\n",
      " 'ObjTime/10',\n",
      " 'ObjKills/10']\n"
     ]
    }
   ],
   "source": [
    "header_list = []\n",
    "for header in header_elems:\n",
    "    header_list.append(header.text)\n",
    "pprint(header_list)"
   ]
  },
  {
   "cell_type": "code",
   "execution_count": 75,
   "metadata": {
    "collapsed": true
   },
   "outputs": [],
   "source": [
    "row_list = table_data.findAll(\"tr\")"
   ]
  },
  {
   "cell_type": "code",
   "execution_count": 95,
   "metadata": {},
   "outputs": [
    {
     "name": "stdout",
     "output_type": "stream",
     "text": [
      "-----------------------\n",
      "Player: Bani\n",
      "Hero: Zenyatta\n",
      "Time: 00:08:14\n",
      "Rating: 1451\n",
      "FWin%: 55.56%\n",
      "PTK: 19.15%\n",
      "K/10: 10.93\n",
      "D/10: 6.07\n",
      "U/10: 4.86\n",
      "TTCU: 91\n",
      "KPU: 0\n",
      "UE: 44.44\n",
      "UOOF: 25%\n",
      "FK: 22%\n",
      "FD: 11%\n",
      "Impact: 1355\n",
      "Elim/10: N/A\n",
      "dmg/10: N/A\n",
      "heal/10: N/A\n",
      "ObjTime/10: N/A\n",
      "ObjKills/10: N/A\n",
      "-----------------------\n",
      "Player: Boink\n",
      "Hero: Mercy\n",
      "Time: 00:44:32\n",
      "Rating: 1206\n",
      "FWin%: 55.32%\n",
      "PTK: 0.56%\n",
      "K/10: 0.22\n",
      "D/10: 3.82\n",
      "U/10: 3.59\n",
      "TTCU: 87\n",
      "KPU: 0\n",
      "UE: 21.6\n",
      "UOOF: 12.5%\n",
      "FK: 0%\n",
      "FD: 9%\n",
      "Impact: 1116\n",
      "Elim/10: N/A\n",
      "dmg/10: N/A\n",
      "heal/10: N/A\n",
      "ObjTime/10: N/A\n",
      "ObjKills/10: N/A\n"
     ]
    }
   ],
   "source": [
    "for row in row_list[0:2]:\n",
    "    elems = row.findAll(\"td\")\n",
    "    print(\"-----------------------\")\n",
    "    for i, item in enumerate(elems[0:]):\n",
    "        print(\"{}: {}\".format(header_list[i], item.text.strip()))"
   ]
  },
  {
   "cell_type": "code",
   "execution_count": null,
   "metadata": {
    "collapsed": true
   },
   "outputs": [],
   "source": []
  }
 ],
 "metadata": {
  "kernelspec": {
   "display_name": "Python 3",
   "language": "python",
   "name": "python3"
  },
  "language_info": {
   "codemirror_mode": {
    "name": "ipython",
    "version": 3
   },
   "file_extension": ".py",
   "mimetype": "text/x-python",
   "name": "python",
   "nbconvert_exporter": "python",
   "pygments_lexer": "ipython3",
   "version": "3.6.3"
  }
 },
 "nbformat": 4,
 "nbformat_minor": 2
}
