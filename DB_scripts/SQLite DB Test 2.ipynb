{
 "cells": [
  {
   "cell_type": "markdown",
   "metadata": {},
   "source": [
    "# SQLite DB Test Notebook (Take Two)"
   ]
  },
  {
   "cell_type": "code",
   "execution_count": 1,
   "metadata": {
    "collapsed": true
   },
   "outputs": [],
   "source": [
    "from sqlalchemy import create_engine"
   ]
  },
  {
   "cell_type": "code",
   "execution_count": 2,
   "metadata": {},
   "outputs": [],
   "source": [
    "engine = create_engine('sqlite:///OWL_Test.db')"
   ]
  },
  {
   "cell_type": "code",
   "execution_count": 3,
   "metadata": {},
   "outputs": [],
   "source": [
    "conn = engine.connect()"
   ]
  },
  {
   "cell_type": "code",
   "execution_count": 4,
   "metadata": {},
   "outputs": [
    {
     "name": "stdout",
     "output_type": "stream",
     "text": [
      "[WinError 2] The system cannot find the file specified: 'OWL/'\n",
      "C:\\Users\\cbcastleberry\\Documents\\GitHub\\OWL\\DB_scripts\n"
     ]
    }
   ],
   "source": [
    "cd OWL/"
   ]
  },
  {
   "cell_type": "code",
   "execution_count": 5,
   "metadata": {},
   "outputs": [
    {
     "name": "stdout",
     "output_type": "stream",
     "text": [
      "C:\\Users\\cbcastleberry\\Documents\\GitHub\\OWL\n"
     ]
    }
   ],
   "source": [
    "cd .."
   ]
  },
  {
   "cell_type": "code",
   "execution_count": 6,
   "metadata": {
    "collapsed": true
   },
   "outputs": [],
   "source": [
    "from StatGathering.OWLSiteScrape import OWLScrapeTools\n",
    "import pandas as pd"
   ]
  },
  {
   "cell_type": "code",
   "execution_count": 7,
   "metadata": {
    "collapsed": true
   },
   "outputs": [],
   "source": [
    "hero_df = OWLScrapeTools.get_hero_info()"
   ]
  },
  {
   "cell_type": "code",
   "execution_count": 8,
   "metadata": {},
   "outputs": [
    {
     "data": {
      "text/html": [
       "<div>\n",
       "<style>\n",
       "    .dataframe thead tr:only-child th {\n",
       "        text-align: right;\n",
       "    }\n",
       "\n",
       "    .dataframe thead th {\n",
       "        text-align: left;\n",
       "    }\n",
       "\n",
       "    .dataframe tbody tr th {\n",
       "        vertical-align: top;\n",
       "    }\n",
       "</style>\n",
       "<table border=\"1\" class=\"dataframe\">\n",
       "  <thead>\n",
       "    <tr style=\"text-align: right;\">\n",
       "      <th></th>\n",
       "      <th>Hero Category</th>\n",
       "      <th>Hero Name</th>\n",
       "    </tr>\n",
       "  </thead>\n",
       "  <tbody>\n",
       "    <tr>\n",
       "      <th>0</th>\n",
       "      <td>Offense</td>\n",
       "      <td>Doomfist</td>\n",
       "    </tr>\n",
       "    <tr>\n",
       "      <th>1</th>\n",
       "      <td>Offense</td>\n",
       "      <td>Genji</td>\n",
       "    </tr>\n",
       "    <tr>\n",
       "      <th>2</th>\n",
       "      <td>Offense</td>\n",
       "      <td>McCree</td>\n",
       "    </tr>\n",
       "    <tr>\n",
       "      <th>3</th>\n",
       "      <td>Offense</td>\n",
       "      <td>Pharah</td>\n",
       "    </tr>\n",
       "    <tr>\n",
       "      <th>4</th>\n",
       "      <td>Offense</td>\n",
       "      <td>Reaper</td>\n",
       "    </tr>\n",
       "  </tbody>\n",
       "</table>\n",
       "</div>"
      ],
      "text/plain": [
       "  Hero Category Hero Name\n",
       "0       Offense  Doomfist\n",
       "1       Offense     Genji\n",
       "2       Offense    McCree\n",
       "3       Offense    Pharah\n",
       "4       Offense    Reaper"
      ]
     },
     "execution_count": 8,
     "metadata": {},
     "output_type": "execute_result"
    }
   ],
   "source": [
    "hero_df.head()"
   ]
  },
  {
   "cell_type": "code",
   "execution_count": 9,
   "metadata": {},
   "outputs": [],
   "source": [
    "hero_df.to_sql('Hero', conn)"
   ]
  },
  {
   "cell_type": "code",
   "execution_count": 10,
   "metadata": {},
   "outputs": [
    {
     "data": {
      "text/plain": [
       "[('Hero',)]"
      ]
     },
     "execution_count": 10,
     "metadata": {},
     "output_type": "execute_result"
    }
   ],
   "source": [
    "conn.execute(\"SELECT name FROM sqlite_master WHERE type='table';\").fetchall()"
   ]
  },
  {
   "cell_type": "code",
   "execution_count": 11,
   "metadata": {},
   "outputs": [
    {
     "data": {
      "text/plain": [
       "[(0, 'Offense', 'Doomfist'),\n",
       " (1, 'Offense', 'Genji'),\n",
       " (2, 'Offense', 'McCree'),\n",
       " (3, 'Offense', 'Pharah'),\n",
       " (4, 'Offense', 'Reaper'),\n",
       " (5, 'Offense', 'Soldier: 76'),\n",
       " (6, 'Offense', 'Sombra'),\n",
       " (7, 'Offense', 'Tracer'),\n",
       " (8, 'Defense', 'Bastion'),\n",
       " (9, 'Defense', 'Hanzo'),\n",
       " (10, 'Defense', 'Junkrat'),\n",
       " (11, 'Defense', 'Mei'),\n",
       " (12, 'Defense', 'Torbjörn'),\n",
       " (13, 'Defense', 'Widowmaker'),\n",
       " (14, 'Tank', 'D.Va'),\n",
       " (15, 'Tank', 'Orisa'),\n",
       " (16, 'Tank', 'Reinhardt'),\n",
       " (17, 'Tank', 'Roadhog'),\n",
       " (18, 'Tank', 'Winston'),\n",
       " (19, 'Tank', 'Zarya'),\n",
       " (20, 'Support', 'Ana'),\n",
       " (21, 'Support', 'Lúcio'),\n",
       " (22, 'Support', 'Mercy'),\n",
       " (23, 'Support', 'Moira'),\n",
       " (24, 'Support', 'Symmetra'),\n",
       " (25, 'Support', 'Zenyatta')]"
      ]
     },
     "execution_count": 11,
     "metadata": {},
     "output_type": "execute_result"
    }
   ],
   "source": [
    "conn.execute(\"SELECT * FROM Hero\").fetchall()"
   ]
  },
  {
   "cell_type": "code",
   "execution_count": 12,
   "metadata": {},
   "outputs": [],
   "source": [
    "conn.close()"
   ]
  },
  {
   "cell_type": "code",
   "execution_count": null,
   "metadata": {
    "collapsed": true
   },
   "outputs": [],
   "source": []
  }
 ],
 "metadata": {
  "kernelspec": {
   "display_name": "Python 3",
   "language": "python",
   "name": "python3"
  },
  "language_info": {
   "codemirror_mode": {
    "name": "ipython",
    "version": 3
   },
   "file_extension": ".py",
   "mimetype": "text/x-python",
   "name": "python",
   "nbconvert_exporter": "python",
   "pygments_lexer": "ipython3",
   "version": "3.6.3"
  },
  "toc": {
   "nav_menu": {},
   "number_sections": true,
   "sideBar": true,
   "skip_h1_title": false,
   "toc_cell": false,
   "toc_position": {},
   "toc_section_display": "block",
   "toc_window_display": false
  }
 },
 "nbformat": 4,
 "nbformat_minor": 2
}
