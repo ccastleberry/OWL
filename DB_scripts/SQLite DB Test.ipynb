{
 "cells": [
  {
   "cell_type": "markdown",
   "metadata": {},
   "source": [
    "# SQLite DB Test Notebook"
   ]
  },
  {
   "cell_type": "code",
   "execution_count": 1,
   "metadata": {},
   "outputs": [],
   "source": [
    "import DBModels\n",
    "import CreateDB"
   ]
  },
  {
   "cell_type": "code",
   "execution_count": 2,
   "metadata": {},
   "outputs": [],
   "source": [
    "from sqlalchemy import create_engine"
   ]
  },
  {
   "cell_type": "code",
   "execution_count": 26,
   "metadata": {
    "collapsed": true
   },
   "outputs": [],
   "source": [
    "engine = create_engine('sqlite:///OWL_Test2.db')"
   ]
  },
  {
   "cell_type": "code",
   "execution_count": 4,
   "metadata": {
    "collapsed": true
   },
   "outputs": [],
   "source": [
    "DBModels.initialize_db(engine)"
   ]
  },
  {
   "cell_type": "code",
   "execution_count": 27,
   "metadata": {
    "collapsed": true
   },
   "outputs": [],
   "source": [
    "conn = engine.connect()"
   ]
  },
  {
   "cell_type": "code",
   "execution_count": 6,
   "metadata": {},
   "outputs": [],
   "source": [
    "table_list = conn.execute(\"PRAGMA table_info(hero)\")"
   ]
  },
  {
   "cell_type": "code",
   "execution_count": 7,
   "metadata": {},
   "outputs": [
    {
     "data": {
      "text/plain": [
       "[(0, 'id', 'INTEGER', 1, None, 1),\n",
       " (1, 'name', 'VARCHAR', 0, None, 0),\n",
       " (2, 'hero_type', 'VARCHAR', 0, None, 0)]"
      ]
     },
     "execution_count": 7,
     "metadata": {},
     "output_type": "execute_result"
    }
   ],
   "source": [
    "table_list.fetchall()"
   ]
  },
  {
   "cell_type": "code",
   "execution_count": 8,
   "metadata": {},
   "outputs": [
    {
     "data": {
      "text/plain": [
       "[]"
      ]
     },
     "execution_count": 8,
     "metadata": {},
     "output_type": "execute_result"
    }
   ],
   "source": [
    "conn.execute('SELECT * FROM map').fetchall()"
   ]
  },
  {
   "cell_type": "code",
   "execution_count": 9,
   "metadata": {},
   "outputs": [
    {
     "name": "stdout",
     "output_type": "stream",
     "text": [
      "C:\\Users\\cbcastleberry\\Documents\\GitHub\\OWL\n"
     ]
    }
   ],
   "source": [
    "cd .."
   ]
  },
  {
   "cell_type": "code",
   "execution_count": 10,
   "metadata": {},
   "outputs": [],
   "source": [
    "from StatGathering.OWLSiteScrape import OWLScrapeTools"
   ]
  },
  {
   "cell_type": "code",
   "execution_count": 11,
   "metadata": {
    "collapsed": true
   },
   "outputs": [],
   "source": [
    "import pandas as pd"
   ]
  },
  {
   "cell_type": "code",
   "execution_count": 12,
   "metadata": {
    "collapsed": true
   },
   "outputs": [],
   "source": [
    "hero_df = OWLScrapeTools.get_hero_info()"
   ]
  },
  {
   "cell_type": "code",
   "execution_count": 13,
   "metadata": {},
   "outputs": [
    {
     "data": {
      "text/html": [
       "<div>\n",
       "<style>\n",
       "    .dataframe thead tr:only-child th {\n",
       "        text-align: right;\n",
       "    }\n",
       "\n",
       "    .dataframe thead th {\n",
       "        text-align: left;\n",
       "    }\n",
       "\n",
       "    .dataframe tbody tr th {\n",
       "        vertical-align: top;\n",
       "    }\n",
       "</style>\n",
       "<table border=\"1\" class=\"dataframe\">\n",
       "  <thead>\n",
       "    <tr style=\"text-align: right;\">\n",
       "      <th></th>\n",
       "      <th>Hero Category</th>\n",
       "      <th>Hero Name</th>\n",
       "    </tr>\n",
       "  </thead>\n",
       "  <tbody>\n",
       "    <tr>\n",
       "      <th>0</th>\n",
       "      <td>Offense</td>\n",
       "      <td>Doomfist</td>\n",
       "    </tr>\n",
       "    <tr>\n",
       "      <th>1</th>\n",
       "      <td>Offense</td>\n",
       "      <td>Genji</td>\n",
       "    </tr>\n",
       "    <tr>\n",
       "      <th>2</th>\n",
       "      <td>Offense</td>\n",
       "      <td>McCree</td>\n",
       "    </tr>\n",
       "    <tr>\n",
       "      <th>3</th>\n",
       "      <td>Offense</td>\n",
       "      <td>Pharah</td>\n",
       "    </tr>\n",
       "    <tr>\n",
       "      <th>4</th>\n",
       "      <td>Offense</td>\n",
       "      <td>Reaper</td>\n",
       "    </tr>\n",
       "  </tbody>\n",
       "</table>\n",
       "</div>"
      ],
      "text/plain": [
       "  Hero Category Hero Name\n",
       "0       Offense  Doomfist\n",
       "1       Offense     Genji\n",
       "2       Offense    McCree\n",
       "3       Offense    Pharah\n",
       "4       Offense    Reaper"
      ]
     },
     "execution_count": 13,
     "metadata": {},
     "output_type": "execute_result"
    }
   ],
   "source": [
    "hero_df.head()"
   ]
  },
  {
   "cell_type": "code",
   "execution_count": 20,
   "metadata": {},
   "outputs": [
    {
     "name": "stdout",
     "output_type": "stream",
     "text": [
      "INSERT INTO hero (name, hero_type) VALUES ('Doomfist', 'Offense');\n",
      "INSERT INTO hero (name, hero_type) VALUES ('Genji', 'Offense');\n",
      "INSERT INTO hero (name, hero_type) VALUES ('McCree', 'Offense');\n",
      "INSERT INTO hero (name, hero_type) VALUES ('Pharah', 'Offense');\n",
      "INSERT INTO hero (name, hero_type) VALUES ('Reaper', 'Offense');\n",
      "INSERT INTO hero (name, hero_type) VALUES ('Soldier: 76', 'Offense');\n",
      "INSERT INTO hero (name, hero_type) VALUES ('Sombra', 'Offense');\n",
      "INSERT INTO hero (name, hero_type) VALUES ('Tracer', 'Offense');\n",
      "INSERT INTO hero (name, hero_type) VALUES ('Bastion', 'Defense');\n",
      "INSERT INTO hero (name, hero_type) VALUES ('Hanzo', 'Defense');\n",
      "INSERT INTO hero (name, hero_type) VALUES ('Junkrat', 'Defense');\n",
      "INSERT INTO hero (name, hero_type) VALUES ('Mei', 'Defense');\n",
      "INSERT INTO hero (name, hero_type) VALUES ('Torbjörn', 'Defense');\n",
      "INSERT INTO hero (name, hero_type) VALUES ('Widowmaker', 'Defense');\n",
      "INSERT INTO hero (name, hero_type) VALUES ('D.Va', 'Tank');\n",
      "INSERT INTO hero (name, hero_type) VALUES ('Orisa', 'Tank');\n",
      "INSERT INTO hero (name, hero_type) VALUES ('Reinhardt', 'Tank');\n",
      "INSERT INTO hero (name, hero_type) VALUES ('Roadhog', 'Tank');\n",
      "INSERT INTO hero (name, hero_type) VALUES ('Winston', 'Tank');\n",
      "INSERT INTO hero (name, hero_type) VALUES ('Zarya', 'Tank');\n",
      "INSERT INTO hero (name, hero_type) VALUES ('Ana', 'Support');\n",
      "INSERT INTO hero (name, hero_type) VALUES ('Lúcio', 'Support');\n",
      "INSERT INTO hero (name, hero_type) VALUES ('Mercy', 'Support');\n",
      "INSERT INTO hero (name, hero_type) VALUES ('Moira', 'Support');\n",
      "INSERT INTO hero (name, hero_type) VALUES ('Symmetra', 'Support');\n",
      "INSERT INTO hero (name, hero_type) VALUES ('Zenyatta', 'Support');\n"
     ]
    }
   ],
   "source": [
    "for index, row in hero_df.iterrows():\n",
    "    insert_hero = \"INSERT INTO hero (name, hero_type) VALUES ('{}', '{}');\"\n",
    "    insert_hero = insert_hero.format(row['Hero Name'], row['Hero Category'])\n",
    "    print(insert_hero)\n",
    "    conn.execute(insert_hero)   \n"
   ]
  },
  {
   "cell_type": "code",
   "execution_count": 21,
   "metadata": {},
   "outputs": [
    {
     "data": {
      "text/plain": [
       "[(1, 'Doomfist', 'Offense'),\n",
       " (2, 'Genji', 'Offense'),\n",
       " (3, 'McCree', 'Offense'),\n",
       " (4, 'Pharah', 'Offense'),\n",
       " (5, 'Reaper', 'Offense'),\n",
       " (6, 'Soldier: 76', 'Offense'),\n",
       " (7, 'Sombra', 'Offense'),\n",
       " (8, 'Tracer', 'Offense'),\n",
       " (9, 'Bastion', 'Defense'),\n",
       " (10, 'Hanzo', 'Defense'),\n",
       " (11, 'Junkrat', 'Defense'),\n",
       " (12, 'Mei', 'Defense'),\n",
       " (13, 'Torbjörn', 'Defense'),\n",
       " (14, 'Widowmaker', 'Defense'),\n",
       " (15, 'D.Va', 'Tank'),\n",
       " (16, 'Orisa', 'Tank'),\n",
       " (17, 'Reinhardt', 'Tank'),\n",
       " (18, 'Roadhog', 'Tank'),\n",
       " (19, 'Winston', 'Tank'),\n",
       " (20, 'Zarya', 'Tank'),\n",
       " (21, 'Ana', 'Support'),\n",
       " (22, 'Lúcio', 'Support'),\n",
       " (23, 'Mercy', 'Support'),\n",
       " (24, 'Moira', 'Support'),\n",
       " (25, 'Symmetra', 'Support'),\n",
       " (26, 'Zenyatta', 'Support')]"
      ]
     },
     "execution_count": 21,
     "metadata": {},
     "output_type": "execute_result"
    }
   ],
   "source": [
    "conn.execute('SELECT * FROM hero').fetchall()"
   ]
  },
  {
   "cell_type": "code",
   "execution_count": 28,
   "metadata": {},
   "outputs": [],
   "source": [
    "hero_df.to_sql('Hero2', conn)"
   ]
  },
  {
   "cell_type": "code",
   "execution_count": 29,
   "metadata": {},
   "outputs": [
    {
     "data": {
      "text/plain": [
       "[(0, 'Offense', 'Doomfist'),\n",
       " (1, 'Offense', 'Genji'),\n",
       " (2, 'Offense', 'McCree'),\n",
       " (3, 'Offense', 'Pharah'),\n",
       " (4, 'Offense', 'Reaper'),\n",
       " (5, 'Offense', 'Soldier: 76'),\n",
       " (6, 'Offense', 'Sombra'),\n",
       " (7, 'Offense', 'Tracer'),\n",
       " (8, 'Defense', 'Bastion'),\n",
       " (9, 'Defense', 'Hanzo'),\n",
       " (10, 'Defense', 'Junkrat'),\n",
       " (11, 'Defense', 'Mei'),\n",
       " (12, 'Defense', 'Torbjörn'),\n",
       " (13, 'Defense', 'Widowmaker'),\n",
       " (14, 'Tank', 'D.Va'),\n",
       " (15, 'Tank', 'Orisa'),\n",
       " (16, 'Tank', 'Reinhardt'),\n",
       " (17, 'Tank', 'Roadhog'),\n",
       " (18, 'Tank', 'Winston'),\n",
       " (19, 'Tank', 'Zarya'),\n",
       " (20, 'Support', 'Ana'),\n",
       " (21, 'Support', 'Lúcio'),\n",
       " (22, 'Support', 'Mercy'),\n",
       " (23, 'Support', 'Moira'),\n",
       " (24, 'Support', 'Symmetra'),\n",
       " (25, 'Support', 'Zenyatta')]"
      ]
     },
     "execution_count": 29,
     "metadata": {},
     "output_type": "execute_result"
    }
   ],
   "source": [
    "conn.execute('SELECT * FROM Hero2').fetchall()"
   ]
  },
  {
   "cell_type": "code",
   "execution_count": null,
   "metadata": {
    "collapsed": true
   },
   "outputs": [],
   "source": []
  }
 ],
 "metadata": {
  "kernelspec": {
   "display_name": "Python 3",
   "language": "python",
   "name": "python3"
  },
  "language_info": {
   "codemirror_mode": {
    "name": "ipython",
    "version": 3
   },
   "file_extension": ".py",
   "mimetype": "text/x-python",
   "name": "python",
   "nbconvert_exporter": "python",
   "pygments_lexer": "ipython3",
   "version": "3.6.3"
  },
  "toc": {
   "nav_menu": {},
   "number_sections": true,
   "sideBar": true,
   "skip_h1_title": false,
   "toc_cell": false,
   "toc_position": {},
   "toc_section_display": "block",
   "toc_window_display": false
  }
 },
 "nbformat": 4,
 "nbformat_minor": 2
}
