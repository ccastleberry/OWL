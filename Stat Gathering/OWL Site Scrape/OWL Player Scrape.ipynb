{
 "cells": [
  {
   "cell_type": "markdown",
   "metadata": {},
   "source": [
    "# Scrape Player List"
   ]
  },
  {
   "cell_type": "code",
   "execution_count": 2,
   "metadata": {
    "collapsed": true
   },
   "outputs": [],
   "source": [
    "import requests\n",
    "from bs4 import BeautifulSoup\n",
    "from pprint import pprint"
   ]
  },
  {
   "cell_type": "code",
   "execution_count": 3,
   "metadata": {
    "collapsed": true
   },
   "outputs": [],
   "source": [
    "OWL_Players_URL = \"https://overwatchleague.com/en-us/players\""
   ]
  },
  {
   "cell_type": "code",
   "execution_count": 4,
   "metadata": {
    "collapsed": true
   },
   "outputs": [],
   "source": [
    "html = requests.get(OWL_Players_URL)"
   ]
  },
  {
   "cell_type": "code",
   "execution_count": 5,
   "metadata": {
    "collapsed": true
   },
   "outputs": [],
   "source": [
    "bsobj = BeautifulSoup(html.text, 'lxml')"
   ]
  },
  {
   "cell_type": "code",
   "execution_count": 6,
   "metadata": {
    "collapsed": true
   },
   "outputs": [],
   "source": [
    "player_list = bsobj.table.findAll(\"tr\")"
   ]
  },
  {
   "cell_type": "code",
   "execution_count": 7,
   "metadata": {},
   "outputs": [
    {
     "data": {
      "text/plain": [
       "<tr><td><b>SADO</b></td><td>Su-Min</td><td>Kim</td><td>Gwangju, KR</td><td><div class=\"IconLabel\"><span class=\"IconLabel-item\"><img class=\"Icon\" src=\"https://bnetcmsus-a.akamaihd.net/cms/template_resource/LAKZ6R7QEG6S1507822883033.svg\"/></span><span class=\"IconLabel-item hidden-xs hidden-sm\"><b>Philadelphia Fusion</b></span><span class=\"IconLabel-item hidden-md hidden-lg hidden-xl\"><b>PHI</b></span></div></td><td><div class=\"IconLabel IconLabel--light\"><span class=\"IconLabel-item\"><svg class=\"Icon Icon--lightFill\"><use xlink:href=\"#role_tank\"></use></svg></span><span class=\"IconLabel-item hidden-xs hidden-sm\">Tank</span></div></td></tr>"
      ]
     },
     "execution_count": 7,
     "metadata": {},
     "output_type": "execute_result"
    }
   ],
   "source": [
    "player_list[2]"
   ]
  },
  {
   "cell_type": "code",
   "execution_count": 9,
   "metadata": {},
   "outputs": [
    {
     "name": "stdout",
     "output_type": "stream",
     "text": [
      "Tag:\t\tMuma\n",
      "First Name:\tAustin\n",
      "Last Name:\tWilmot\n",
      "Hometown:\tMorrow, OH, US\n",
      "Team:\t\tHouston Outlaws\n",
      "Role:\t\tTank\n",
      "--------------------------\n",
      "Tag:\t\tSADO\n",
      "First Name:\tSu-Min\n",
      "Last Name:\tKim\n",
      "Hometown:\tGwangju, KR\n",
      "Team:\t\tPhiladelphia Fusion\n",
      "Role:\t\tTank\n",
      "--------------------------\n",
      "Tag:\t\tClockwork\n",
      "First Name:\tMatthew\n",
      "Last Name:\tDias\n",
      "Hometown:\tRed Bank, NJ, US\n",
      "Team:\t\tHouston Outlaws\n",
      "Role:\t\tOffense\n",
      "--------------------------\n",
      "Tag:\t\tMendokusaii\n",
      "First Name:\tLucas\n",
      "Last Name:\tHåkansson\n",
      "Hometown:\tSpånga, SE\n",
      "Team:\t\tHouston Outlaws\n",
      "Role:\t\tOffense\n",
      "--------------------------\n",
      "Tag:\t\tBoink\n",
      "First Name:\tDaniel\n",
      "Last Name:\tPence\n",
      "Hometown:\tGurnee, IL, US\n",
      "Team:\t\tHouston Outlaws\n",
      "Role:\t\tSupport\n",
      "--------------------------\n",
      "Tag:\t\tLiNkzr\n",
      "First Name:\tJiri\n",
      "Last Name:\tMasalin\n",
      "Hometown:\tTurku, FI\n",
      "Team:\t\tHouston Outlaws\n",
      "Role:\t\tOffense\n",
      "--------------------------\n",
      "Tag:\t\tSPREE\n",
      "First Name:\tAlexandre\n",
      "Last Name:\tVanhomwegen\n",
      "Hometown:\tKoksijde, BE\n",
      "Team:\t\tHouston Outlaws\n",
      "Role:\t\tFlex\n",
      "--------------------------\n",
      "Tag:\t\tRawkus\n",
      "First Name:\tShane\n",
      "Last Name:\tFlaherty\n",
      "Hometown:\tNew York City, NY, US\n",
      "Team:\t\tHouston Outlaws\n",
      "Role:\t\tSupport\n",
      "--------------------------\n",
      "Tag:\t\tJake\n",
      "First Name:\tJake\n",
      "Last Name:\tLyon\n",
      "Hometown:\tSan Diego, CA, US\n",
      "Team:\t\tHouston Outlaws\n",
      "Role:\t\tOffense\n",
      "--------------------------\n",
      "Tag:\t\tCoolmatt\n",
      "First Name:\tMatt\n",
      "Last Name:\tIorio\n",
      "Hometown:\tLaporte, IN, US\n",
      "Team:\t\tHouston Outlaws\n",
      "Role:\t\tTank\n",
      "--------------------------\n",
      "Tag:\t\tDreamKazper\n",
      "First Name:\tJonathan\n",
      "Last Name:\tSanchez\n",
      "Hometown:\tHemet, CA, US\n",
      "Team:\t\tBoston Uprising\n",
      "Role:\t\tOffense\n",
      "--------------------------\n"
     ]
    }
   ],
   "source": [
    "for player in player_list[1:12]:\n",
    "    data = player.findAll('td')\n",
    "    \n",
    "    tag = data[0].b.text\n",
    "    first_name = data[1].text\n",
    "    last_name = data[2].text\n",
    "    hometown = data[3].text\n",
    "    team = data[4].findAll('b')[0].text\n",
    "    role = data[5].text\n",
    "    \n",
    "    \n",
    "    print(\"Tag:\\t\\t{}\".format(tag))\n",
    "    print(\"First Name:\\t{}\".format(first_name))\n",
    "    print(\"Last Name:\\t{}\".format(last_name))\n",
    "    print(\"Hometown:\\t{}\".format(hometown))\n",
    "    print(\"Team:\\t\\t{}\".format(team))\n",
    "    print(\"Role:\\t\\t{}\".format(role))\n",
    "    print('--------------------------')\n",
    "    \n",
    "    #pprint(data)"
   ]
  },
  {
   "cell_type": "code",
   "execution_count": null,
   "metadata": {
    "collapsed": true
   },
   "outputs": [],
   "source": []
  }
 ],
 "metadata": {
  "kernelspec": {
   "display_name": "Python 3",
   "language": "python",
   "name": "python3"
  },
  "language_info": {
   "codemirror_mode": {
    "name": "ipython",
    "version": 3
   },
   "file_extension": ".py",
   "mimetype": "text/x-python",
   "name": "python",
   "nbconvert_exporter": "python",
   "pygments_lexer": "ipython3",
   "version": "3.6.3"
  }
 },
 "nbformat": 4,
 "nbformat_minor": 2
}
